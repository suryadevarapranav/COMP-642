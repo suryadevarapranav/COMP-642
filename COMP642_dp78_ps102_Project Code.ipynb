{
  "nbformat": 4,
  "nbformat_minor": 0,
  "metadata": {
    "colab": {
      "provenance": [],
      "machine_shape": "hm",
      "gpuType": "L4"
    },
    "kernelspec": {
      "name": "python3",
      "display_name": "Python 3"
    },
    "language_info": {
      "name": "python"
    },
    "accelerator": "GPU",
    "widgets": {
      "application/vnd.jupyter.widget-state+json": {
        "20fd6b4e03a34483bdd924e641a0c85a": {
          "model_module": "@jupyter-widgets/controls",
          "model_name": "HBoxModel",
          "model_module_version": "1.5.0",
          "state": {
            "_dom_classes": [],
            "_model_module": "@jupyter-widgets/controls",
            "_model_module_version": "1.5.0",
            "_model_name": "HBoxModel",
            "_view_count": null,
            "_view_module": "@jupyter-widgets/controls",
            "_view_module_version": "1.5.0",
            "_view_name": "HBoxView",
            "box_style": "",
            "children": [
              "IPY_MODEL_773ec08397164f60827554616a9f6bd4",
              "IPY_MODEL_444f7ace3b754f478bb7361e9ca86983",
              "IPY_MODEL_b673f623c6cc4072ab6776456f9e728a"
            ],
            "layout": "IPY_MODEL_ddd69e0f55d040c7b1630b2ce7ed3bda"
          }
        },
        "773ec08397164f60827554616a9f6bd4": {
          "model_module": "@jupyter-widgets/controls",
          "model_name": "HTMLModel",
          "model_module_version": "1.5.0",
          "state": {
            "_dom_classes": [],
            "_model_module": "@jupyter-widgets/controls",
            "_model_module_version": "1.5.0",
            "_model_name": "HTMLModel",
            "_view_count": null,
            "_view_module": "@jupyter-widgets/controls",
            "_view_module_version": "1.5.0",
            "_view_name": "HTMLView",
            "description": "",
            "description_tooltip": null,
            "layout": "IPY_MODEL_dc7495c68bba4108a8880c97376172cb",
            "placeholder": "​",
            "style": "IPY_MODEL_fa6bae88771c476fb1a3c1b0fdb0510a",
            "value": "tokenizer_config.json: 100%"
          }
        },
        "444f7ace3b754f478bb7361e9ca86983": {
          "model_module": "@jupyter-widgets/controls",
          "model_name": "FloatProgressModel",
          "model_module_version": "1.5.0",
          "state": {
            "_dom_classes": [],
            "_model_module": "@jupyter-widgets/controls",
            "_model_module_version": "1.5.0",
            "_model_name": "FloatProgressModel",
            "_view_count": null,
            "_view_module": "@jupyter-widgets/controls",
            "_view_module_version": "1.5.0",
            "_view_name": "ProgressView",
            "bar_style": "success",
            "description": "",
            "description_tooltip": null,
            "layout": "IPY_MODEL_0dda4330ebfd4d95bb73359d1c396d13",
            "max": 450,
            "min": 0,
            "orientation": "horizontal",
            "style": "IPY_MODEL_c15f4bd1cf0f4cbbbe36aae0c77e98c2",
            "value": 450
          }
        },
        "b673f623c6cc4072ab6776456f9e728a": {
          "model_module": "@jupyter-widgets/controls",
          "model_name": "HTMLModel",
          "model_module_version": "1.5.0",
          "state": {
            "_dom_classes": [],
            "_model_module": "@jupyter-widgets/controls",
            "_model_module_version": "1.5.0",
            "_model_name": "HTMLModel",
            "_view_count": null,
            "_view_module": "@jupyter-widgets/controls",
            "_view_module_version": "1.5.0",
            "_view_name": "HTMLView",
            "description": "",
            "description_tooltip": null,
            "layout": "IPY_MODEL_103d90739739495d968c99a513f932cb",
            "placeholder": "​",
            "style": "IPY_MODEL_019d6cb3425948408faebe97df57c37c",
            "value": " 450/450 [00:00&lt;00:00, 31.7kB/s]"
          }
        },
        "ddd69e0f55d040c7b1630b2ce7ed3bda": {
          "model_module": "@jupyter-widgets/base",
          "model_name": "LayoutModel",
          "model_module_version": "1.2.0",
          "state": {
            "_model_module": "@jupyter-widgets/base",
            "_model_module_version": "1.2.0",
            "_model_name": "LayoutModel",
            "_view_count": null,
            "_view_module": "@jupyter-widgets/base",
            "_view_module_version": "1.2.0",
            "_view_name": "LayoutView",
            "align_content": null,
            "align_items": null,
            "align_self": null,
            "border": null,
            "bottom": null,
            "display": null,
            "flex": null,
            "flex_flow": null,
            "grid_area": null,
            "grid_auto_columns": null,
            "grid_auto_flow": null,
            "grid_auto_rows": null,
            "grid_column": null,
            "grid_gap": null,
            "grid_row": null,
            "grid_template_areas": null,
            "grid_template_columns": null,
            "grid_template_rows": null,
            "height": null,
            "justify_content": null,
            "justify_items": null,
            "left": null,
            "margin": null,
            "max_height": null,
            "max_width": null,
            "min_height": null,
            "min_width": null,
            "object_fit": null,
            "object_position": null,
            "order": null,
            "overflow": null,
            "overflow_x": null,
            "overflow_y": null,
            "padding": null,
            "right": null,
            "top": null,
            "visibility": null,
            "width": null
          }
        },
        "dc7495c68bba4108a8880c97376172cb": {
          "model_module": "@jupyter-widgets/base",
          "model_name": "LayoutModel",
          "model_module_version": "1.2.0",
          "state": {
            "_model_module": "@jupyter-widgets/base",
            "_model_module_version": "1.2.0",
            "_model_name": "LayoutModel",
            "_view_count": null,
            "_view_module": "@jupyter-widgets/base",
            "_view_module_version": "1.2.0",
            "_view_name": "LayoutView",
            "align_content": null,
            "align_items": null,
            "align_self": null,
            "border": null,
            "bottom": null,
            "display": null,
            "flex": null,
            "flex_flow": null,
            "grid_area": null,
            "grid_auto_columns": null,
            "grid_auto_flow": null,
            "grid_auto_rows": null,
            "grid_column": null,
            "grid_gap": null,
            "grid_row": null,
            "grid_template_areas": null,
            "grid_template_columns": null,
            "grid_template_rows": null,
            "height": null,
            "justify_content": null,
            "justify_items": null,
            "left": null,
            "margin": null,
            "max_height": null,
            "max_width": null,
            "min_height": null,
            "min_width": null,
            "object_fit": null,
            "object_position": null,
            "order": null,
            "overflow": null,
            "overflow_x": null,
            "overflow_y": null,
            "padding": null,
            "right": null,
            "top": null,
            "visibility": null,
            "width": null
          }
        },
        "fa6bae88771c476fb1a3c1b0fdb0510a": {
          "model_module": "@jupyter-widgets/controls",
          "model_name": "DescriptionStyleModel",
          "model_module_version": "1.5.0",
          "state": {
            "_model_module": "@jupyter-widgets/controls",
            "_model_module_version": "1.5.0",
            "_model_name": "DescriptionStyleModel",
            "_view_count": null,
            "_view_module": "@jupyter-widgets/base",
            "_view_module_version": "1.2.0",
            "_view_name": "StyleView",
            "description_width": ""
          }
        },
        "0dda4330ebfd4d95bb73359d1c396d13": {
          "model_module": "@jupyter-widgets/base",
          "model_name": "LayoutModel",
          "model_module_version": "1.2.0",
          "state": {
            "_model_module": "@jupyter-widgets/base",
            "_model_module_version": "1.2.0",
            "_model_name": "LayoutModel",
            "_view_count": null,
            "_view_module": "@jupyter-widgets/base",
            "_view_module_version": "1.2.0",
            "_view_name": "LayoutView",
            "align_content": null,
            "align_items": null,
            "align_self": null,
            "border": null,
            "bottom": null,
            "display": null,
            "flex": null,
            "flex_flow": null,
            "grid_area": null,
            "grid_auto_columns": null,
            "grid_auto_flow": null,
            "grid_auto_rows": null,
            "grid_column": null,
            "grid_gap": null,
            "grid_row": null,
            "grid_template_areas": null,
            "grid_template_columns": null,
            "grid_template_rows": null,
            "height": null,
            "justify_content": null,
            "justify_items": null,
            "left": null,
            "margin": null,
            "max_height": null,
            "max_width": null,
            "min_height": null,
            "min_width": null,
            "object_fit": null,
            "object_position": null,
            "order": null,
            "overflow": null,
            "overflow_x": null,
            "overflow_y": null,
            "padding": null,
            "right": null,
            "top": null,
            "visibility": null,
            "width": null
          }
        },
        "c15f4bd1cf0f4cbbbe36aae0c77e98c2": {
          "model_module": "@jupyter-widgets/controls",
          "model_name": "ProgressStyleModel",
          "model_module_version": "1.5.0",
          "state": {
            "_model_module": "@jupyter-widgets/controls",
            "_model_module_version": "1.5.0",
            "_model_name": "ProgressStyleModel",
            "_view_count": null,
            "_view_module": "@jupyter-widgets/base",
            "_view_module_version": "1.2.0",
            "_view_name": "StyleView",
            "bar_color": null,
            "description_width": ""
          }
        },
        "103d90739739495d968c99a513f932cb": {
          "model_module": "@jupyter-widgets/base",
          "model_name": "LayoutModel",
          "model_module_version": "1.2.0",
          "state": {
            "_model_module": "@jupyter-widgets/base",
            "_model_module_version": "1.2.0",
            "_model_name": "LayoutModel",
            "_view_count": null,
            "_view_module": "@jupyter-widgets/base",
            "_view_module_version": "1.2.0",
            "_view_name": "LayoutView",
            "align_content": null,
            "align_items": null,
            "align_self": null,
            "border": null,
            "bottom": null,
            "display": null,
            "flex": null,
            "flex_flow": null,
            "grid_area": null,
            "grid_auto_columns": null,
            "grid_auto_flow": null,
            "grid_auto_rows": null,
            "grid_column": null,
            "grid_gap": null,
            "grid_row": null,
            "grid_template_areas": null,
            "grid_template_columns": null,
            "grid_template_rows": null,
            "height": null,
            "justify_content": null,
            "justify_items": null,
            "left": null,
            "margin": null,
            "max_height": null,
            "max_width": null,
            "min_height": null,
            "min_width": null,
            "object_fit": null,
            "object_position": null,
            "order": null,
            "overflow": null,
            "overflow_x": null,
            "overflow_y": null,
            "padding": null,
            "right": null,
            "top": null,
            "visibility": null,
            "width": null
          }
        },
        "019d6cb3425948408faebe97df57c37c": {
          "model_module": "@jupyter-widgets/controls",
          "model_name": "DescriptionStyleModel",
          "model_module_version": "1.5.0",
          "state": {
            "_model_module": "@jupyter-widgets/controls",
            "_model_module_version": "1.5.0",
            "_model_name": "DescriptionStyleModel",
            "_view_count": null,
            "_view_module": "@jupyter-widgets/base",
            "_view_module_version": "1.2.0",
            "_view_name": "StyleView",
            "description_width": ""
          }
        },
        "95f24ab3eb6b4797b7c51f7ec504e493": {
          "model_module": "@jupyter-widgets/controls",
          "model_name": "HBoxModel",
          "model_module_version": "1.5.0",
          "state": {
            "_dom_classes": [],
            "_model_module": "@jupyter-widgets/controls",
            "_model_module_version": "1.5.0",
            "_model_name": "HBoxModel",
            "_view_count": null,
            "_view_module": "@jupyter-widgets/controls",
            "_view_module_version": "1.5.0",
            "_view_name": "HBoxView",
            "box_style": "",
            "children": [
              "IPY_MODEL_f7730851461049afa5158b25d777bf66",
              "IPY_MODEL_4147c32160cb4437bde94ccc7cab2972",
              "IPY_MODEL_d677aef8c7a84ce39768f1c716f408f2"
            ],
            "layout": "IPY_MODEL_2b46640b436d430ca220086eaa1fb1de"
          }
        },
        "f7730851461049afa5158b25d777bf66": {
          "model_module": "@jupyter-widgets/controls",
          "model_name": "HTMLModel",
          "model_module_version": "1.5.0",
          "state": {
            "_dom_classes": [],
            "_model_module": "@jupyter-widgets/controls",
            "_model_module_version": "1.5.0",
            "_model_name": "HTMLModel",
            "_view_count": null,
            "_view_module": "@jupyter-widgets/controls",
            "_view_module_version": "1.5.0",
            "_view_name": "HTMLView",
            "description": "",
            "description_tooltip": null,
            "layout": "IPY_MODEL_574f238200b441c8a8fe1261b65ebf6b",
            "placeholder": "​",
            "style": "IPY_MODEL_bc1e94b1a98c45a9801731fb1d62a41f",
            "value": "tokenizer.json: 100%"
          }
        },
        "4147c32160cb4437bde94ccc7cab2972": {
          "model_module": "@jupyter-widgets/controls",
          "model_name": "FloatProgressModel",
          "model_module_version": "1.5.0",
          "state": {
            "_dom_classes": [],
            "_model_module": "@jupyter-widgets/controls",
            "_model_module_version": "1.5.0",
            "_model_name": "FloatProgressModel",
            "_view_count": null,
            "_view_module": "@jupyter-widgets/controls",
            "_view_module_version": "1.5.0",
            "_view_name": "ProgressView",
            "bar_style": "success",
            "description": "",
            "description_tooltip": null,
            "layout": "IPY_MODEL_79c6a0753d9a4730a3c1fcba13696993",
            "max": 2114274,
            "min": 0,
            "orientation": "horizontal",
            "style": "IPY_MODEL_5bc5c06a4d384ea8875162d8b893cf30",
            "value": 2114274
          }
        },
        "d677aef8c7a84ce39768f1c716f408f2": {
          "model_module": "@jupyter-widgets/controls",
          "model_name": "HTMLModel",
          "model_module_version": "1.5.0",
          "state": {
            "_dom_classes": [],
            "_model_module": "@jupyter-widgets/controls",
            "_model_module_version": "1.5.0",
            "_model_name": "HTMLModel",
            "_view_count": null,
            "_view_module": "@jupyter-widgets/controls",
            "_view_module_version": "1.5.0",
            "_view_name": "HTMLView",
            "description": "",
            "description_tooltip": null,
            "layout": "IPY_MODEL_2a8478f51f564703acf4c4173167967f",
            "placeholder": "​",
            "style": "IPY_MODEL_17bcdaf7a6de459f860fedf6701f804e",
            "value": " 2.11M/2.11M [00:00&lt;00:00, 6.49MB/s]"
          }
        },
        "2b46640b436d430ca220086eaa1fb1de": {
          "model_module": "@jupyter-widgets/base",
          "model_name": "LayoutModel",
          "model_module_version": "1.2.0",
          "state": {
            "_model_module": "@jupyter-widgets/base",
            "_model_module_version": "1.2.0",
            "_model_name": "LayoutModel",
            "_view_count": null,
            "_view_module": "@jupyter-widgets/base",
            "_view_module_version": "1.2.0",
            "_view_name": "LayoutView",
            "align_content": null,
            "align_items": null,
            "align_self": null,
            "border": null,
            "bottom": null,
            "display": null,
            "flex": null,
            "flex_flow": null,
            "grid_area": null,
            "grid_auto_columns": null,
            "grid_auto_flow": null,
            "grid_auto_rows": null,
            "grid_column": null,
            "grid_gap": null,
            "grid_row": null,
            "grid_template_areas": null,
            "grid_template_columns": null,
            "grid_template_rows": null,
            "height": null,
            "justify_content": null,
            "justify_items": null,
            "left": null,
            "margin": null,
            "max_height": null,
            "max_width": null,
            "min_height": null,
            "min_width": null,
            "object_fit": null,
            "object_position": null,
            "order": null,
            "overflow": null,
            "overflow_x": null,
            "overflow_y": null,
            "padding": null,
            "right": null,
            "top": null,
            "visibility": null,
            "width": null
          }
        },
        "574f238200b441c8a8fe1261b65ebf6b": {
          "model_module": "@jupyter-widgets/base",
          "model_name": "LayoutModel",
          "model_module_version": "1.2.0",
          "state": {
            "_model_module": "@jupyter-widgets/base",
            "_model_module_version": "1.2.0",
            "_model_name": "LayoutModel",
            "_view_count": null,
            "_view_module": "@jupyter-widgets/base",
            "_view_module_version": "1.2.0",
            "_view_name": "LayoutView",
            "align_content": null,
            "align_items": null,
            "align_self": null,
            "border": null,
            "bottom": null,
            "display": null,
            "flex": null,
            "flex_flow": null,
            "grid_area": null,
            "grid_auto_columns": null,
            "grid_auto_flow": null,
            "grid_auto_rows": null,
            "grid_column": null,
            "grid_gap": null,
            "grid_row": null,
            "grid_template_areas": null,
            "grid_template_columns": null,
            "grid_template_rows": null,
            "height": null,
            "justify_content": null,
            "justify_items": null,
            "left": null,
            "margin": null,
            "max_height": null,
            "max_width": null,
            "min_height": null,
            "min_width": null,
            "object_fit": null,
            "object_position": null,
            "order": null,
            "overflow": null,
            "overflow_x": null,
            "overflow_y": null,
            "padding": null,
            "right": null,
            "top": null,
            "visibility": null,
            "width": null
          }
        },
        "bc1e94b1a98c45a9801731fb1d62a41f": {
          "model_module": "@jupyter-widgets/controls",
          "model_name": "DescriptionStyleModel",
          "model_module_version": "1.5.0",
          "state": {
            "_model_module": "@jupyter-widgets/controls",
            "_model_module_version": "1.5.0",
            "_model_name": "DescriptionStyleModel",
            "_view_count": null,
            "_view_module": "@jupyter-widgets/base",
            "_view_module_version": "1.2.0",
            "_view_name": "StyleView",
            "description_width": ""
          }
        },
        "79c6a0753d9a4730a3c1fcba13696993": {
          "model_module": "@jupyter-widgets/base",
          "model_name": "LayoutModel",
          "model_module_version": "1.2.0",
          "state": {
            "_model_module": "@jupyter-widgets/base",
            "_model_module_version": "1.2.0",
            "_model_name": "LayoutModel",
            "_view_count": null,
            "_view_module": "@jupyter-widgets/base",
            "_view_module_version": "1.2.0",
            "_view_name": "LayoutView",
            "align_content": null,
            "align_items": null,
            "align_self": null,
            "border": null,
            "bottom": null,
            "display": null,
            "flex": null,
            "flex_flow": null,
            "grid_area": null,
            "grid_auto_columns": null,
            "grid_auto_flow": null,
            "grid_auto_rows": null,
            "grid_column": null,
            "grid_gap": null,
            "grid_row": null,
            "grid_template_areas": null,
            "grid_template_columns": null,
            "grid_template_rows": null,
            "height": null,
            "justify_content": null,
            "justify_items": null,
            "left": null,
            "margin": null,
            "max_height": null,
            "max_width": null,
            "min_height": null,
            "min_width": null,
            "object_fit": null,
            "object_position": null,
            "order": null,
            "overflow": null,
            "overflow_x": null,
            "overflow_y": null,
            "padding": null,
            "right": null,
            "top": null,
            "visibility": null,
            "width": null
          }
        },
        "5bc5c06a4d384ea8875162d8b893cf30": {
          "model_module": "@jupyter-widgets/controls",
          "model_name": "ProgressStyleModel",
          "model_module_version": "1.5.0",
          "state": {
            "_model_module": "@jupyter-widgets/controls",
            "_model_module_version": "1.5.0",
            "_model_name": "ProgressStyleModel",
            "_view_count": null,
            "_view_module": "@jupyter-widgets/base",
            "_view_module_version": "1.2.0",
            "_view_name": "StyleView",
            "bar_color": null,
            "description_width": ""
          }
        },
        "2a8478f51f564703acf4c4173167967f": {
          "model_module": "@jupyter-widgets/base",
          "model_name": "LayoutModel",
          "model_module_version": "1.2.0",
          "state": {
            "_model_module": "@jupyter-widgets/base",
            "_model_module_version": "1.2.0",
            "_model_name": "LayoutModel",
            "_view_count": null,
            "_view_module": "@jupyter-widgets/base",
            "_view_module_version": "1.2.0",
            "_view_name": "LayoutView",
            "align_content": null,
            "align_items": null,
            "align_self": null,
            "border": null,
            "bottom": null,
            "display": null,
            "flex": null,
            "flex_flow": null,
            "grid_area": null,
            "grid_auto_columns": null,
            "grid_auto_flow": null,
            "grid_auto_rows": null,
            "grid_column": null,
            "grid_gap": null,
            "grid_row": null,
            "grid_template_areas": null,
            "grid_template_columns": null,
            "grid_template_rows": null,
            "height": null,
            "justify_content": null,
            "justify_items": null,
            "left": null,
            "margin": null,
            "max_height": null,
            "max_width": null,
            "min_height": null,
            "min_width": null,
            "object_fit": null,
            "object_position": null,
            "order": null,
            "overflow": null,
            "overflow_x": null,
            "overflow_y": null,
            "padding": null,
            "right": null,
            "top": null,
            "visibility": null,
            "width": null
          }
        },
        "17bcdaf7a6de459f860fedf6701f804e": {
          "model_module": "@jupyter-widgets/controls",
          "model_name": "DescriptionStyleModel",
          "model_module_version": "1.5.0",
          "state": {
            "_model_module": "@jupyter-widgets/controls",
            "_model_module_version": "1.5.0",
            "_model_name": "DescriptionStyleModel",
            "_view_count": null,
            "_view_module": "@jupyter-widgets/base",
            "_view_module_version": "1.2.0",
            "_view_name": "StyleView",
            "description_width": ""
          }
        },
        "aaaa5018234544cbbf051796699fc5b6": {
          "model_module": "@jupyter-widgets/controls",
          "model_name": "HBoxModel",
          "model_module_version": "1.5.0",
          "state": {
            "_dom_classes": [],
            "_model_module": "@jupyter-widgets/controls",
            "_model_module_version": "1.5.0",
            "_model_name": "HBoxModel",
            "_view_count": null,
            "_view_module": "@jupyter-widgets/controls",
            "_view_module_version": "1.5.0",
            "_view_name": "HBoxView",
            "box_style": "",
            "children": [
              "IPY_MODEL_d4adbccd68a540e7af3dbafa4256c941",
              "IPY_MODEL_8e491316839e47e299fe602bb3065cb5",
              "IPY_MODEL_22d006c290ee4c0f98467ce01d5e15e3"
            ],
            "layout": "IPY_MODEL_0303c0e670bd4e3cb943090a97b04281"
          }
        },
        "d4adbccd68a540e7af3dbafa4256c941": {
          "model_module": "@jupyter-widgets/controls",
          "model_name": "HTMLModel",
          "model_module_version": "1.5.0",
          "state": {
            "_dom_classes": [],
            "_model_module": "@jupyter-widgets/controls",
            "_model_module_version": "1.5.0",
            "_model_name": "HTMLModel",
            "_view_count": null,
            "_view_module": "@jupyter-widgets/controls",
            "_view_module_version": "1.5.0",
            "_view_name": "HTMLView",
            "description": "",
            "description_tooltip": null,
            "layout": "IPY_MODEL_5b80d213f62d47c9af299f04fe66c1f0",
            "placeholder": "​",
            "style": "IPY_MODEL_d1cc09e1594f478c8de5ce2e1738f526",
            "value": "special_tokens_map.json: 100%"
          }
        },
        "8e491316839e47e299fe602bb3065cb5": {
          "model_module": "@jupyter-widgets/controls",
          "model_name": "FloatProgressModel",
          "model_module_version": "1.5.0",
          "state": {
            "_dom_classes": [],
            "_model_module": "@jupyter-widgets/controls",
            "_model_module_version": "1.5.0",
            "_model_name": "FloatProgressModel",
            "_view_count": null,
            "_view_module": "@jupyter-widgets/controls",
            "_view_module_version": "1.5.0",
            "_view_name": "ProgressView",
            "bar_style": "success",
            "description": "",
            "description_tooltip": null,
            "layout": "IPY_MODEL_17c9a03c80b940f097016754e5ff3239",
            "max": 228,
            "min": 0,
            "orientation": "horizontal",
            "style": "IPY_MODEL_428db19498454be5aba5de7eb35795c8",
            "value": 228
          }
        },
        "22d006c290ee4c0f98467ce01d5e15e3": {
          "model_module": "@jupyter-widgets/controls",
          "model_name": "HTMLModel",
          "model_module_version": "1.5.0",
          "state": {
            "_dom_classes": [],
            "_model_module": "@jupyter-widgets/controls",
            "_model_module_version": "1.5.0",
            "_model_name": "HTMLModel",
            "_view_count": null,
            "_view_module": "@jupyter-widgets/controls",
            "_view_module_version": "1.5.0",
            "_view_name": "HTMLView",
            "description": "",
            "description_tooltip": null,
            "layout": "IPY_MODEL_9d300c2bdf564f2d883a942367114781",
            "placeholder": "​",
            "style": "IPY_MODEL_531c98f240824c97b65a1573b39847d8",
            "value": " 228/228 [00:00&lt;00:00, 19.6kB/s]"
          }
        },
        "0303c0e670bd4e3cb943090a97b04281": {
          "model_module": "@jupyter-widgets/base",
          "model_name": "LayoutModel",
          "model_module_version": "1.2.0",
          "state": {
            "_model_module": "@jupyter-widgets/base",
            "_model_module_version": "1.2.0",
            "_model_name": "LayoutModel",
            "_view_count": null,
            "_view_module": "@jupyter-widgets/base",
            "_view_module_version": "1.2.0",
            "_view_name": "LayoutView",
            "align_content": null,
            "align_items": null,
            "align_self": null,
            "border": null,
            "bottom": null,
            "display": null,
            "flex": null,
            "flex_flow": null,
            "grid_area": null,
            "grid_auto_columns": null,
            "grid_auto_flow": null,
            "grid_auto_rows": null,
            "grid_column": null,
            "grid_gap": null,
            "grid_row": null,
            "grid_template_areas": null,
            "grid_template_columns": null,
            "grid_template_rows": null,
            "height": null,
            "justify_content": null,
            "justify_items": null,
            "left": null,
            "margin": null,
            "max_height": null,
            "max_width": null,
            "min_height": null,
            "min_width": null,
            "object_fit": null,
            "object_position": null,
            "order": null,
            "overflow": null,
            "overflow_x": null,
            "overflow_y": null,
            "padding": null,
            "right": null,
            "top": null,
            "visibility": null,
            "width": null
          }
        },
        "5b80d213f62d47c9af299f04fe66c1f0": {
          "model_module": "@jupyter-widgets/base",
          "model_name": "LayoutModel",
          "model_module_version": "1.2.0",
          "state": {
            "_model_module": "@jupyter-widgets/base",
            "_model_module_version": "1.2.0",
            "_model_name": "LayoutModel",
            "_view_count": null,
            "_view_module": "@jupyter-widgets/base",
            "_view_module_version": "1.2.0",
            "_view_name": "LayoutView",
            "align_content": null,
            "align_items": null,
            "align_self": null,
            "border": null,
            "bottom": null,
            "display": null,
            "flex": null,
            "flex_flow": null,
            "grid_area": null,
            "grid_auto_columns": null,
            "grid_auto_flow": null,
            "grid_auto_rows": null,
            "grid_column": null,
            "grid_gap": null,
            "grid_row": null,
            "grid_template_areas": null,
            "grid_template_columns": null,
            "grid_template_rows": null,
            "height": null,
            "justify_content": null,
            "justify_items": null,
            "left": null,
            "margin": null,
            "max_height": null,
            "max_width": null,
            "min_height": null,
            "min_width": null,
            "object_fit": null,
            "object_position": null,
            "order": null,
            "overflow": null,
            "overflow_x": null,
            "overflow_y": null,
            "padding": null,
            "right": null,
            "top": null,
            "visibility": null,
            "width": null
          }
        },
        "d1cc09e1594f478c8de5ce2e1738f526": {
          "model_module": "@jupyter-widgets/controls",
          "model_name": "DescriptionStyleModel",
          "model_module_version": "1.5.0",
          "state": {
            "_model_module": "@jupyter-widgets/controls",
            "_model_module_version": "1.5.0",
            "_model_name": "DescriptionStyleModel",
            "_view_count": null,
            "_view_module": "@jupyter-widgets/base",
            "_view_module_version": "1.2.0",
            "_view_name": "StyleView",
            "description_width": ""
          }
        },
        "17c9a03c80b940f097016754e5ff3239": {
          "model_module": "@jupyter-widgets/base",
          "model_name": "LayoutModel",
          "model_module_version": "1.2.0",
          "state": {
            "_model_module": "@jupyter-widgets/base",
            "_model_module_version": "1.2.0",
            "_model_name": "LayoutModel",
            "_view_count": null,
            "_view_module": "@jupyter-widgets/base",
            "_view_module_version": "1.2.0",
            "_view_name": "LayoutView",
            "align_content": null,
            "align_items": null,
            "align_self": null,
            "border": null,
            "bottom": null,
            "display": null,
            "flex": null,
            "flex_flow": null,
            "grid_area": null,
            "grid_auto_columns": null,
            "grid_auto_flow": null,
            "grid_auto_rows": null,
            "grid_column": null,
            "grid_gap": null,
            "grid_row": null,
            "grid_template_areas": null,
            "grid_template_columns": null,
            "grid_template_rows": null,
            "height": null,
            "justify_content": null,
            "justify_items": null,
            "left": null,
            "margin": null,
            "max_height": null,
            "max_width": null,
            "min_height": null,
            "min_width": null,
            "object_fit": null,
            "object_position": null,
            "order": null,
            "overflow": null,
            "overflow_x": null,
            "overflow_y": null,
            "padding": null,
            "right": null,
            "top": null,
            "visibility": null,
            "width": null
          }
        },
        "428db19498454be5aba5de7eb35795c8": {
          "model_module": "@jupyter-widgets/controls",
          "model_name": "ProgressStyleModel",
          "model_module_version": "1.5.0",
          "state": {
            "_model_module": "@jupyter-widgets/controls",
            "_model_module_version": "1.5.0",
            "_model_name": "ProgressStyleModel",
            "_view_count": null,
            "_view_module": "@jupyter-widgets/base",
            "_view_module_version": "1.2.0",
            "_view_name": "StyleView",
            "bar_color": null,
            "description_width": ""
          }
        },
        "9d300c2bdf564f2d883a942367114781": {
          "model_module": "@jupyter-widgets/base",
          "model_name": "LayoutModel",
          "model_module_version": "1.2.0",
          "state": {
            "_model_module": "@jupyter-widgets/base",
            "_model_module_version": "1.2.0",
            "_model_name": "LayoutModel",
            "_view_count": null,
            "_view_module": "@jupyter-widgets/base",
            "_view_module_version": "1.2.0",
            "_view_name": "LayoutView",
            "align_content": null,
            "align_items": null,
            "align_self": null,
            "border": null,
            "bottom": null,
            "display": null,
            "flex": null,
            "flex_flow": null,
            "grid_area": null,
            "grid_auto_columns": null,
            "grid_auto_flow": null,
            "grid_auto_rows": null,
            "grid_column": null,
            "grid_gap": null,
            "grid_row": null,
            "grid_template_areas": null,
            "grid_template_columns": null,
            "grid_template_rows": null,
            "height": null,
            "justify_content": null,
            "justify_items": null,
            "left": null,
            "margin": null,
            "max_height": null,
            "max_width": null,
            "min_height": null,
            "min_width": null,
            "object_fit": null,
            "object_position": null,
            "order": null,
            "overflow": null,
            "overflow_x": null,
            "overflow_y": null,
            "padding": null,
            "right": null,
            "top": null,
            "visibility": null,
            "width": null
          }
        },
        "531c98f240824c97b65a1573b39847d8": {
          "model_module": "@jupyter-widgets/controls",
          "model_name": "DescriptionStyleModel",
          "model_module_version": "1.5.0",
          "state": {
            "_model_module": "@jupyter-widgets/controls",
            "_model_module_version": "1.5.0",
            "_model_name": "DescriptionStyleModel",
            "_view_count": null,
            "_view_module": "@jupyter-widgets/base",
            "_view_module_version": "1.2.0",
            "_view_name": "StyleView",
            "description_width": ""
          }
        },
        "9c26f583d1ec4d2ba1ed105d9948001d": {
          "model_module": "@jupyter-widgets/controls",
          "model_name": "HBoxModel",
          "model_module_version": "1.5.0",
          "state": {
            "_dom_classes": [],
            "_model_module": "@jupyter-widgets/controls",
            "_model_module_version": "1.5.0",
            "_model_name": "HBoxModel",
            "_view_count": null,
            "_view_module": "@jupyter-widgets/controls",
            "_view_module_version": "1.5.0",
            "_view_name": "HBoxView",
            "box_style": "",
            "children": [
              "IPY_MODEL_425dfe32e12f415aa2a590016dff5785",
              "IPY_MODEL_b5496ed24bcc4a169bdfad0bd63ddd5c",
              "IPY_MODEL_16b46f33c0004963845bdab0f3312b35"
            ],
            "layout": "IPY_MODEL_d86e4624b5854426926711213d835036"
          }
        },
        "425dfe32e12f415aa2a590016dff5785": {
          "model_module": "@jupyter-widgets/controls",
          "model_name": "HTMLModel",
          "model_module_version": "1.5.0",
          "state": {
            "_dom_classes": [],
            "_model_module": "@jupyter-widgets/controls",
            "_model_module_version": "1.5.0",
            "_model_name": "HTMLModel",
            "_view_count": null,
            "_view_module": "@jupyter-widgets/controls",
            "_view_module_version": "1.5.0",
            "_view_name": "HTMLView",
            "description": "",
            "description_tooltip": null,
            "layout": "IPY_MODEL_2d864f720b8e4677bf0c21cd22427004",
            "placeholder": "​",
            "style": "IPY_MODEL_40870af76d9d4cd680c1c664faa130a3",
            "value": "config.json: 100%"
          }
        },
        "b5496ed24bcc4a169bdfad0bd63ddd5c": {
          "model_module": "@jupyter-widgets/controls",
          "model_name": "FloatProgressModel",
          "model_module_version": "1.5.0",
          "state": {
            "_dom_classes": [],
            "_model_module": "@jupyter-widgets/controls",
            "_model_module_version": "1.5.0",
            "_model_name": "FloatProgressModel",
            "_view_count": null,
            "_view_module": "@jupyter-widgets/controls",
            "_view_module_version": "1.5.0",
            "_view_name": "ProgressView",
            "bar_style": "success",
            "description": "",
            "description_tooltip": null,
            "layout": "IPY_MODEL_f88eea682f8d468f82bc5d4888d2cbdf",
            "max": 819,
            "min": 0,
            "orientation": "horizontal",
            "style": "IPY_MODEL_af9b72286f3f434fabaf0f82c387cc7c",
            "value": 819
          }
        },
        "16b46f33c0004963845bdab0f3312b35": {
          "model_module": "@jupyter-widgets/controls",
          "model_name": "HTMLModel",
          "model_module_version": "1.5.0",
          "state": {
            "_dom_classes": [],
            "_model_module": "@jupyter-widgets/controls",
            "_model_module_version": "1.5.0",
            "_model_name": "HTMLModel",
            "_view_count": null,
            "_view_module": "@jupyter-widgets/controls",
            "_view_module_version": "1.5.0",
            "_view_name": "HTMLView",
            "description": "",
            "description_tooltip": null,
            "layout": "IPY_MODEL_cd282e34eaec406f85554e8cf2f1df34",
            "placeholder": "​",
            "style": "IPY_MODEL_fad188ccf8fa4a89a440cef4bdff280c",
            "value": " 819/819 [00:00&lt;00:00, 72.0kB/s]"
          }
        },
        "d86e4624b5854426926711213d835036": {
          "model_module": "@jupyter-widgets/base",
          "model_name": "LayoutModel",
          "model_module_version": "1.2.0",
          "state": {
            "_model_module": "@jupyter-widgets/base",
            "_model_module_version": "1.2.0",
            "_model_name": "LayoutModel",
            "_view_count": null,
            "_view_module": "@jupyter-widgets/base",
            "_view_module_version": "1.2.0",
            "_view_name": "LayoutView",
            "align_content": null,
            "align_items": null,
            "align_self": null,
            "border": null,
            "bottom": null,
            "display": null,
            "flex": null,
            "flex_flow": null,
            "grid_area": null,
            "grid_auto_columns": null,
            "grid_auto_flow": null,
            "grid_auto_rows": null,
            "grid_column": null,
            "grid_gap": null,
            "grid_row": null,
            "grid_template_areas": null,
            "grid_template_columns": null,
            "grid_template_rows": null,
            "height": null,
            "justify_content": null,
            "justify_items": null,
            "left": null,
            "margin": null,
            "max_height": null,
            "max_width": null,
            "min_height": null,
            "min_width": null,
            "object_fit": null,
            "object_position": null,
            "order": null,
            "overflow": null,
            "overflow_x": null,
            "overflow_y": null,
            "padding": null,
            "right": null,
            "top": null,
            "visibility": null,
            "width": null
          }
        },
        "2d864f720b8e4677bf0c21cd22427004": {
          "model_module": "@jupyter-widgets/base",
          "model_name": "LayoutModel",
          "model_module_version": "1.2.0",
          "state": {
            "_model_module": "@jupyter-widgets/base",
            "_model_module_version": "1.2.0",
            "_model_name": "LayoutModel",
            "_view_count": null,
            "_view_module": "@jupyter-widgets/base",
            "_view_module_version": "1.2.0",
            "_view_name": "LayoutView",
            "align_content": null,
            "align_items": null,
            "align_self": null,
            "border": null,
            "bottom": null,
            "display": null,
            "flex": null,
            "flex_flow": null,
            "grid_area": null,
            "grid_auto_columns": null,
            "grid_auto_flow": null,
            "grid_auto_rows": null,
            "grid_column": null,
            "grid_gap": null,
            "grid_row": null,
            "grid_template_areas": null,
            "grid_template_columns": null,
            "grid_template_rows": null,
            "height": null,
            "justify_content": null,
            "justify_items": null,
            "left": null,
            "margin": null,
            "max_height": null,
            "max_width": null,
            "min_height": null,
            "min_width": null,
            "object_fit": null,
            "object_position": null,
            "order": null,
            "overflow": null,
            "overflow_x": null,
            "overflow_y": null,
            "padding": null,
            "right": null,
            "top": null,
            "visibility": null,
            "width": null
          }
        },
        "40870af76d9d4cd680c1c664faa130a3": {
          "model_module": "@jupyter-widgets/controls",
          "model_name": "DescriptionStyleModel",
          "model_module_version": "1.5.0",
          "state": {
            "_model_module": "@jupyter-widgets/controls",
            "_model_module_version": "1.5.0",
            "_model_name": "DescriptionStyleModel",
            "_view_count": null,
            "_view_module": "@jupyter-widgets/base",
            "_view_module_version": "1.2.0",
            "_view_name": "StyleView",
            "description_width": ""
          }
        },
        "f88eea682f8d468f82bc5d4888d2cbdf": {
          "model_module": "@jupyter-widgets/base",
          "model_name": "LayoutModel",
          "model_module_version": "1.2.0",
          "state": {
            "_model_module": "@jupyter-widgets/base",
            "_model_module_version": "1.2.0",
            "_model_name": "LayoutModel",
            "_view_count": null,
            "_view_module": "@jupyter-widgets/base",
            "_view_module_version": "1.2.0",
            "_view_name": "LayoutView",
            "align_content": null,
            "align_items": null,
            "align_self": null,
            "border": null,
            "bottom": null,
            "display": null,
            "flex": null,
            "flex_flow": null,
            "grid_area": null,
            "grid_auto_columns": null,
            "grid_auto_flow": null,
            "grid_auto_rows": null,
            "grid_column": null,
            "grid_gap": null,
            "grid_row": null,
            "grid_template_areas": null,
            "grid_template_columns": null,
            "grid_template_rows": null,
            "height": null,
            "justify_content": null,
            "justify_items": null,
            "left": null,
            "margin": null,
            "max_height": null,
            "max_width": null,
            "min_height": null,
            "min_width": null,
            "object_fit": null,
            "object_position": null,
            "order": null,
            "overflow": null,
            "overflow_x": null,
            "overflow_y": null,
            "padding": null,
            "right": null,
            "top": null,
            "visibility": null,
            "width": null
          }
        },
        "af9b72286f3f434fabaf0f82c387cc7c": {
          "model_module": "@jupyter-widgets/controls",
          "model_name": "ProgressStyleModel",
          "model_module_version": "1.5.0",
          "state": {
            "_model_module": "@jupyter-widgets/controls",
            "_model_module_version": "1.5.0",
            "_model_name": "ProgressStyleModel",
            "_view_count": null,
            "_view_module": "@jupyter-widgets/base",
            "_view_module_version": "1.2.0",
            "_view_name": "StyleView",
            "bar_color": null,
            "description_width": ""
          }
        },
        "cd282e34eaec406f85554e8cf2f1df34": {
          "model_module": "@jupyter-widgets/base",
          "model_name": "LayoutModel",
          "model_module_version": "1.2.0",
          "state": {
            "_model_module": "@jupyter-widgets/base",
            "_model_module_version": "1.2.0",
            "_model_name": "LayoutModel",
            "_view_count": null,
            "_view_module": "@jupyter-widgets/base",
            "_view_module_version": "1.2.0",
            "_view_name": "LayoutView",
            "align_content": null,
            "align_items": null,
            "align_self": null,
            "border": null,
            "bottom": null,
            "display": null,
            "flex": null,
            "flex_flow": null,
            "grid_area": null,
            "grid_auto_columns": null,
            "grid_auto_flow": null,
            "grid_auto_rows": null,
            "grid_column": null,
            "grid_gap": null,
            "grid_row": null,
            "grid_template_areas": null,
            "grid_template_columns": null,
            "grid_template_rows": null,
            "height": null,
            "justify_content": null,
            "justify_items": null,
            "left": null,
            "margin": null,
            "max_height": null,
            "max_width": null,
            "min_height": null,
            "min_width": null,
            "object_fit": null,
            "object_position": null,
            "order": null,
            "overflow": null,
            "overflow_x": null,
            "overflow_y": null,
            "padding": null,
            "right": null,
            "top": null,
            "visibility": null,
            "width": null
          }
        },
        "fad188ccf8fa4a89a440cef4bdff280c": {
          "model_module": "@jupyter-widgets/controls",
          "model_name": "DescriptionStyleModel",
          "model_module_version": "1.5.0",
          "state": {
            "_model_module": "@jupyter-widgets/controls",
            "_model_module_version": "1.5.0",
            "_model_name": "DescriptionStyleModel",
            "_view_count": null,
            "_view_module": "@jupyter-widgets/base",
            "_view_module_version": "1.2.0",
            "_view_name": "StyleView",
            "description_width": ""
          }
        },
        "d71e91f20d2d4c0d8b06c529e7837138": {
          "model_module": "@jupyter-widgets/controls",
          "model_name": "HBoxModel",
          "model_module_version": "1.5.0",
          "state": {
            "_dom_classes": [],
            "_model_module": "@jupyter-widgets/controls",
            "_model_module_version": "1.5.0",
            "_model_name": "HBoxModel",
            "_view_count": null,
            "_view_module": "@jupyter-widgets/controls",
            "_view_module_version": "1.5.0",
            "_view_name": "HBoxView",
            "box_style": "",
            "children": [
              "IPY_MODEL_e7e45c074f884bb99530933ae1e94a87",
              "IPY_MODEL_74a2298e89f446ec84a8e4481bccb759",
              "IPY_MODEL_25770bc953b54de3982445a40ebcdbf3"
            ],
            "layout": "IPY_MODEL_466ae9e97e794884885ed285ce85c8fe"
          }
        },
        "e7e45c074f884bb99530933ae1e94a87": {
          "model_module": "@jupyter-widgets/controls",
          "model_name": "HTMLModel",
          "model_module_version": "1.5.0",
          "state": {
            "_dom_classes": [],
            "_model_module": "@jupyter-widgets/controls",
            "_model_module_version": "1.5.0",
            "_model_name": "HTMLModel",
            "_view_count": null,
            "_view_module": "@jupyter-widgets/controls",
            "_view_module_version": "1.5.0",
            "_view_name": "HTMLView",
            "description": "",
            "description_tooltip": null,
            "layout": "IPY_MODEL_038666b5059b45deb1bab25da230a170",
            "placeholder": "​",
            "style": "IPY_MODEL_e938bd7cb03a4bf8a2f47a1190b784be",
            "value": "pytorch_model.bin: 100%"
          }
        },
        "74a2298e89f446ec84a8e4481bccb759": {
          "model_module": "@jupyter-widgets/controls",
          "model_name": "FloatProgressModel",
          "model_module_version": "1.5.0",
          "state": {
            "_dom_classes": [],
            "_model_module": "@jupyter-widgets/controls",
            "_model_module_version": "1.5.0",
            "_model_name": "FloatProgressModel",
            "_view_count": null,
            "_view_module": "@jupyter-widgets/controls",
            "_view_module_version": "1.5.0",
            "_view_name": "ProgressView",
            "bar_style": "success",
            "description": "",
            "description_tooltip": null,
            "layout": "IPY_MODEL_8a5eb74aa623472781d9461416dd4683",
            "max": 5684548185,
            "min": 0,
            "orientation": "horizontal",
            "style": "IPY_MODEL_fb799167e3b34e9c8f1eda7ee0436f85",
            "value": 5684548185
          }
        },
        "25770bc953b54de3982445a40ebcdbf3": {
          "model_module": "@jupyter-widgets/controls",
          "model_name": "HTMLModel",
          "model_module_version": "1.5.0",
          "state": {
            "_dom_classes": [],
            "_model_module": "@jupyter-widgets/controls",
            "_model_module_version": "1.5.0",
            "_model_name": "HTMLModel",
            "_view_count": null,
            "_view_module": "@jupyter-widgets/controls",
            "_view_module_version": "1.5.0",
            "_view_name": "HTMLView",
            "description": "",
            "description_tooltip": null,
            "layout": "IPY_MODEL_28bcc9a820ae45e3a562e0c38bdba351",
            "placeholder": "​",
            "style": "IPY_MODEL_72885b53272847d599580a79259cc4e2",
            "value": " 5.68G/5.68G [00:19&lt;00:00, 297MB/s]"
          }
        },
        "466ae9e97e794884885ed285ce85c8fe": {
          "model_module": "@jupyter-widgets/base",
          "model_name": "LayoutModel",
          "model_module_version": "1.2.0",
          "state": {
            "_model_module": "@jupyter-widgets/base",
            "_model_module_version": "1.2.0",
            "_model_name": "LayoutModel",
            "_view_count": null,
            "_view_module": "@jupyter-widgets/base",
            "_view_module_version": "1.2.0",
            "_view_name": "LayoutView",
            "align_content": null,
            "align_items": null,
            "align_self": null,
            "border": null,
            "bottom": null,
            "display": null,
            "flex": null,
            "flex_flow": null,
            "grid_area": null,
            "grid_auto_columns": null,
            "grid_auto_flow": null,
            "grid_auto_rows": null,
            "grid_column": null,
            "grid_gap": null,
            "grid_row": null,
            "grid_template_areas": null,
            "grid_template_columns": null,
            "grid_template_rows": null,
            "height": null,
            "justify_content": null,
            "justify_items": null,
            "left": null,
            "margin": null,
            "max_height": null,
            "max_width": null,
            "min_height": null,
            "min_width": null,
            "object_fit": null,
            "object_position": null,
            "order": null,
            "overflow": null,
            "overflow_x": null,
            "overflow_y": null,
            "padding": null,
            "right": null,
            "top": null,
            "visibility": null,
            "width": null
          }
        },
        "038666b5059b45deb1bab25da230a170": {
          "model_module": "@jupyter-widgets/base",
          "model_name": "LayoutModel",
          "model_module_version": "1.2.0",
          "state": {
            "_model_module": "@jupyter-widgets/base",
            "_model_module_version": "1.2.0",
            "_model_name": "LayoutModel",
            "_view_count": null,
            "_view_module": "@jupyter-widgets/base",
            "_view_module_version": "1.2.0",
            "_view_name": "LayoutView",
            "align_content": null,
            "align_items": null,
            "align_self": null,
            "border": null,
            "bottom": null,
            "display": null,
            "flex": null,
            "flex_flow": null,
            "grid_area": null,
            "grid_auto_columns": null,
            "grid_auto_flow": null,
            "grid_auto_rows": null,
            "grid_column": null,
            "grid_gap": null,
            "grid_row": null,
            "grid_template_areas": null,
            "grid_template_columns": null,
            "grid_template_rows": null,
            "height": null,
            "justify_content": null,
            "justify_items": null,
            "left": null,
            "margin": null,
            "max_height": null,
            "max_width": null,
            "min_height": null,
            "min_width": null,
            "object_fit": null,
            "object_position": null,
            "order": null,
            "overflow": null,
            "overflow_x": null,
            "overflow_y": null,
            "padding": null,
            "right": null,
            "top": null,
            "visibility": null,
            "width": null
          }
        },
        "e938bd7cb03a4bf8a2f47a1190b784be": {
          "model_module": "@jupyter-widgets/controls",
          "model_name": "DescriptionStyleModel",
          "model_module_version": "1.5.0",
          "state": {
            "_model_module": "@jupyter-widgets/controls",
            "_model_module_version": "1.5.0",
            "_model_name": "DescriptionStyleModel",
            "_view_count": null,
            "_view_module": "@jupyter-widgets/base",
            "_view_module_version": "1.2.0",
            "_view_name": "StyleView",
            "description_width": ""
          }
        },
        "8a5eb74aa623472781d9461416dd4683": {
          "model_module": "@jupyter-widgets/base",
          "model_name": "LayoutModel",
          "model_module_version": "1.2.0",
          "state": {
            "_model_module": "@jupyter-widgets/base",
            "_model_module_version": "1.2.0",
            "_model_name": "LayoutModel",
            "_view_count": null,
            "_view_module": "@jupyter-widgets/base",
            "_view_module_version": "1.2.0",
            "_view_name": "LayoutView",
            "align_content": null,
            "align_items": null,
            "align_self": null,
            "border": null,
            "bottom": null,
            "display": null,
            "flex": null,
            "flex_flow": null,
            "grid_area": null,
            "grid_auto_columns": null,
            "grid_auto_flow": null,
            "grid_auto_rows": null,
            "grid_column": null,
            "grid_gap": null,
            "grid_row": null,
            "grid_template_areas": null,
            "grid_template_columns": null,
            "grid_template_rows": null,
            "height": null,
            "justify_content": null,
            "justify_items": null,
            "left": null,
            "margin": null,
            "max_height": null,
            "max_width": null,
            "min_height": null,
            "min_width": null,
            "object_fit": null,
            "object_position": null,
            "order": null,
            "overflow": null,
            "overflow_x": null,
            "overflow_y": null,
            "padding": null,
            "right": null,
            "top": null,
            "visibility": null,
            "width": null
          }
        },
        "fb799167e3b34e9c8f1eda7ee0436f85": {
          "model_module": "@jupyter-widgets/controls",
          "model_name": "ProgressStyleModel",
          "model_module_version": "1.5.0",
          "state": {
            "_model_module": "@jupyter-widgets/controls",
            "_model_module_version": "1.5.0",
            "_model_name": "ProgressStyleModel",
            "_view_count": null,
            "_view_module": "@jupyter-widgets/base",
            "_view_module_version": "1.2.0",
            "_view_name": "StyleView",
            "bar_color": null,
            "description_width": ""
          }
        },
        "28bcc9a820ae45e3a562e0c38bdba351": {
          "model_module": "@jupyter-widgets/base",
          "model_name": "LayoutModel",
          "model_module_version": "1.2.0",
          "state": {
            "_model_module": "@jupyter-widgets/base",
            "_model_module_version": "1.2.0",
            "_model_name": "LayoutModel",
            "_view_count": null,
            "_view_module": "@jupyter-widgets/base",
            "_view_module_version": "1.2.0",
            "_view_name": "LayoutView",
            "align_content": null,
            "align_items": null,
            "align_self": null,
            "border": null,
            "bottom": null,
            "display": null,
            "flex": null,
            "flex_flow": null,
            "grid_area": null,
            "grid_auto_columns": null,
            "grid_auto_flow": null,
            "grid_auto_rows": null,
            "grid_column": null,
            "grid_gap": null,
            "grid_row": null,
            "grid_template_areas": null,
            "grid_template_columns": null,
            "grid_template_rows": null,
            "height": null,
            "justify_content": null,
            "justify_items": null,
            "left": null,
            "margin": null,
            "max_height": null,
            "max_width": null,
            "min_height": null,
            "min_width": null,
            "object_fit": null,
            "object_position": null,
            "order": null,
            "overflow": null,
            "overflow_x": null,
            "overflow_y": null,
            "padding": null,
            "right": null,
            "top": null,
            "visibility": null,
            "width": null
          }
        },
        "72885b53272847d599580a79259cc4e2": {
          "model_module": "@jupyter-widgets/controls",
          "model_name": "DescriptionStyleModel",
          "model_module_version": "1.5.0",
          "state": {
            "_model_module": "@jupyter-widgets/controls",
            "_model_module_version": "1.5.0",
            "_model_name": "DescriptionStyleModel",
            "_view_count": null,
            "_view_module": "@jupyter-widgets/base",
            "_view_module_version": "1.2.0",
            "_view_name": "StyleView",
            "description_width": ""
          }
        }
      }
    }
  },
  "cells": [
    {
      "cell_type": "markdown",
      "source": [
        "**Comp 646 Final Report**\n",
        "<Br>\n",
        "**Project : Stegano-LLM**\n",
        "<br>\n",
        "Name : Divit Patidar\n",
        "<br>\n",
        "NetID : DP78"
      ],
      "metadata": {
        "id": "okxi5SMlWN7V"
      }
    },
    {
      "cell_type": "code",
      "source": [
        "!pip install transformers"
      ],
      "metadata": {
        "colab": {
          "base_uri": "https://localhost:8080/"
        },
        "id": "h2EsE3m8Erbc",
        "outputId": "5ce8f8d5-b597-4ddd-d2a3-db0be27cfc4f"
      },
      "execution_count": null,
      "outputs": [
        {
          "output_type": "stream",
          "name": "stdout",
          "text": [
            "Requirement already satisfied: transformers in /usr/local/lib/python3.10/dist-packages (4.40.0)\n",
            "Requirement already satisfied: filelock in /usr/local/lib/python3.10/dist-packages (from transformers) (3.13.4)\n",
            "Requirement already satisfied: huggingface-hub<1.0,>=0.19.3 in /usr/local/lib/python3.10/dist-packages (from transformers) (0.20.3)\n",
            "Requirement already satisfied: numpy>=1.17 in /usr/local/lib/python3.10/dist-packages (from transformers) (1.25.2)\n",
            "Requirement already satisfied: packaging>=20.0 in /usr/local/lib/python3.10/dist-packages (from transformers) (24.0)\n",
            "Requirement already satisfied: pyyaml>=5.1 in /usr/local/lib/python3.10/dist-packages (from transformers) (6.0.1)\n",
            "Requirement already satisfied: regex!=2019.12.17 in /usr/local/lib/python3.10/dist-packages (from transformers) (2023.12.25)\n",
            "Requirement already satisfied: requests in /usr/local/lib/python3.10/dist-packages (from transformers) (2.31.0)\n",
            "Requirement already satisfied: tokenizers<0.20,>=0.19 in /usr/local/lib/python3.10/dist-packages (from transformers) (0.19.1)\n",
            "Requirement already satisfied: safetensors>=0.4.1 in /usr/local/lib/python3.10/dist-packages (from transformers) (0.4.3)\n",
            "Requirement already satisfied: tqdm>=4.27 in /usr/local/lib/python3.10/dist-packages (from transformers) (4.66.2)\n",
            "Requirement already satisfied: fsspec>=2023.5.0 in /usr/local/lib/python3.10/dist-packages (from huggingface-hub<1.0,>=0.19.3->transformers) (2023.6.0)\n",
            "Requirement already satisfied: typing-extensions>=3.7.4.3 in /usr/local/lib/python3.10/dist-packages (from huggingface-hub<1.0,>=0.19.3->transformers) (4.11.0)\n",
            "Requirement already satisfied: charset-normalizer<4,>=2 in /usr/local/lib/python3.10/dist-packages (from requests->transformers) (3.3.2)\n",
            "Requirement already satisfied: idna<4,>=2.5 in /usr/local/lib/python3.10/dist-packages (from requests->transformers) (3.7)\n",
            "Requirement already satisfied: urllib3<3,>=1.21.1 in /usr/local/lib/python3.10/dist-packages (from requests->transformers) (2.0.7)\n",
            "Requirement already satisfied: certifi>=2017.4.17 in /usr/local/lib/python3.10/dist-packages (from requests->transformers) (2024.2.2)\n"
          ]
        }
      ]
    },
    {
      "cell_type": "code",
      "execution_count": null,
      "metadata": {
        "id": "96F8ieS7IxpM",
        "colab": {
          "base_uri": "https://localhost:8080/"
        },
        "outputId": "577348ea-78be-4502-e314-3f57a7ba8ff1"
      },
      "outputs": [
        {
          "output_type": "stream",
          "name": "stdout",
          "text": [
            "Drive already mounted at /content/drive; to attempt to forcibly remount, call drive.mount(\"/content/drive\", force_remount=True).\n"
          ]
        }
      ],
      "source": [
        "import os\n",
        "import pandas as pd\n",
        "import numpy as np\n",
        "import matplotlib.pyplot as plt\n",
        "import seaborn as sns\n",
        "import base64\n",
        "from PIL import Image\n",
        "import warnings\n",
        "import cv2\n",
        "import base64\n",
        "import io\n",
        "import json\n",
        "import re\n",
        "import zipfile\n",
        "import numpy as np\n",
        "import csv\n",
        "from glob import glob\n",
        "from transformers import AutoTokenizer, AutoModelForCausalLM\n",
        "from google.colab import drive\n",
        "warnings.filterwarnings('ignore')\n",
        "# Mounting the Google Drive\n",
        "drive.mount('/content/drive')\n",
        "\n",
        "# Accessing the dataset Folder\n",
        "folder_path = '/content/drive/My Drive/gray'"
      ]
    },
    {
      "cell_type": "code",
      "source": [
        "# Mounting the Google Drive\n",
        "drive.mount('/content/drive')\n",
        "\n",
        "# Accessing the dataset Folder\n",
        "folder_path = '/content/drive/My Drive/gray'\n",
        "image_files = os.listdir(folder_path)\n",
        "\n",
        "# Function to read and display an image from the dataset, the images have been fortmatted to grayscale.\n",
        "def display_image(file):\n",
        "    image_path = os.path.join(folder_path, file)\n",
        "    image = cv2.imread(image_path, cv2.IMREAD_GRAYSCALE)  # Read the image in grayscale\n",
        "    plt.imshow(image, cmap='gray')  # Display the image in grayscale\n",
        "    plt.title(file)\n",
        "    plt.axis('off')\n",
        "    plt.show()\n",
        "\n",
        "# Step 3: Display the first image as an example\n",
        "if image_files:\n",
        "    display_image(image_files[0])\n"
      ],
      "metadata": {
        "colab": {
          "base_uri": "https://localhost:8080/",
          "height": 445
        },
        "id": "BCmY30jlIzKU",
        "outputId": "d7d92ac8-9e0a-4333-cb3c-93b13c12817e"
      },
      "execution_count": null,
      "outputs": [
        {
          "output_type": "stream",
          "name": "stdout",
          "text": [
            "Mounted at /content/drive\n"
          ]
        },
        {
          "output_type": "display_data",
          "data": {
            "text/plain": [
              "<Figure size 640x480 with 1 Axes>"
            ],
            "image/png": "[encoded data removed]"
          },
          "metadata": {}
        }
      ]
    },
    {
      "cell_type": "code",
      "source": [
        "# Inatilizing the models\n",
        "tokenizer = AutoTokenizer.from_pretrained(\"databricks/dolly-v2-3b\")\n",
        "model = AutoModelForCausalLM.from_pretrained(\"databricks/dolly-v2-3b\")"
      ],
      "metadata": {
        "id": "0nfN0EBRVHx_",
        "colab": {
          "base_uri": "https://localhost:8080/",
          "height": 507,
          "referenced_widgets": [
            "20fd6b4e03a34483bdd924e641a0c85a",
            "773ec08397164f60827554616a9f6bd4",
            "444f7ace3b754f478bb7361e9ca86983",
            "b673f623c6cc4072ab6776456f9e728a",
            "ddd69e0f55d040c7b1630b2ce7ed3bda",
            "dc7495c68bba4108a8880c97376172cb",
            "fa6bae88771c476fb1a3c1b0fdb0510a",
            "0dda4330ebfd4d95bb73359d1c396d13",
            "c15f4bd1cf0f4cbbbe36aae0c77e98c2",
            "103d90739739495d968c99a513f932cb",
            "019d6cb3425948408faebe97df57c37c",
            "95f24ab3eb6b4797b7c51f7ec504e493",
            "f7730851461049afa5158b25d777bf66",
            "4147c32160cb4437bde94ccc7cab2972",
            "d677aef8c7a84ce39768f1c716f408f2",
            "2b46640b436d430ca220086eaa1fb1de",
            "574f238200b441c8a8fe1261b65ebf6b",
            "bc1e94b1a98c45a9801731fb1d62a41f",
            "79c6a0753d9a4730a3c1fcba13696993",
            "5bc5c06a4d384ea8875162d8b893cf30",
            "2a8478f51f564703acf4c4173167967f",
            "17bcdaf7a6de459f860fedf6701f804e",
            "aaaa5018234544cbbf051796699fc5b6",
            "d4adbccd68a540e7af3dbafa4256c941",
            "8e491316839e47e299fe602bb3065cb5",
            "22d006c290ee4c0f98467ce01d5e15e3",
            "0303c0e670bd4e3cb943090a97b04281",
            "5b80d213f62d47c9af299f04fe66c1f0",
            "d1cc09e1594f478c8de5ce2e1738f526",
            "17c9a03c80b940f097016754e5ff3239",
            "428db19498454be5aba5de7eb35795c8",
            "9d300c2bdf564f2d883a942367114781",
            "531c98f240824c97b65a1573b39847d8",
            "9c26f583d1ec4d2ba1ed105d9948001d",
            "425dfe32e12f415aa2a590016dff5785",
            "b5496ed24bcc4a169bdfad0bd63ddd5c",
            "16b46f33c0004963845bdab0f3312b35",
            "d86e4624b5854426926711213d835036",
            "2d864f720b8e4677bf0c21cd22427004",
            "40870af76d9d4cd680c1c664faa130a3",
            "f88eea682f8d468f82bc5d4888d2cbdf",
            "af9b72286f3f434fabaf0f82c387cc7c",
            "cd282e34eaec406f85554e8cf2f1df34",
            "fad188ccf8fa4a89a440cef4bdff280c",
            "d71e91f20d2d4c0d8b06c529e7837138",
            "e7e45c074f884bb99530933ae1e94a87",
            "74a2298e89f446ec84a8e4481bccb759",
            "25770bc953b54de3982445a40ebcdbf3",
            "466ae9e97e794884885ed285ce85c8fe",
            "038666b5059b45deb1bab25da230a170",
            "e938bd7cb03a4bf8a2f47a1190b784be",
            "8a5eb74aa623472781d9461416dd4683",
            "fb799167e3b34e9c8f1eda7ee0436f85",
            "28bcc9a820ae45e3a562e0c38bdba351",
            "72885b53272847d599580a79259cc4e2"
          ]
        },
        "outputId": "215b90f3-a87b-471e-c734-d0be07f31530"
      },
      "execution_count": null,
      "outputs": [
        {
          "output_type": "stream",
          "name": "stdout",
          "text": [
            "Requirement already satisfied: transformers in /usr/local/lib/python3.10/dist-packages (4.40.0)\n",
            "Requirement already satisfied: pillow in /usr/local/lib/python3.10/dist-packages (9.4.0)\n",
            "Requirement already satisfied: filelock in /usr/local/lib/python3.10/dist-packages (from transformers) (3.13.4)\n",
            "Requirement already satisfied: huggingface-hub<1.0,>=0.19.3 in /usr/local/lib/python3.10/dist-packages (from transformers) (0.20.3)\n",
            "Requirement already satisfied: numpy>=1.17 in /usr/local/lib/python3.10/dist-packages (from transformers) (1.25.2)\n",
            "Requirement already satisfied: packaging>=20.0 in /usr/local/lib/python3.10/dist-packages (from transformers) (24.0)\n",
            "Requirement already satisfied: pyyaml>=5.1 in /usr/local/lib/python3.10/dist-packages (from transformers) (6.0.1)\n",
            "Requirement already satisfied: regex!=2019.12.17 in /usr/local/lib/python3.10/dist-packages (from transformers) (2023.12.25)\n",
            "Requirement already satisfied: requests in /usr/local/lib/python3.10/dist-packages (from transformers) (2.31.0)\n",
            "Requirement already satisfied: tokenizers<0.20,>=0.19 in /usr/local/lib/python3.10/dist-packages (from transformers) (0.19.1)\n",
            "Requirement already satisfied: safetensors>=0.4.1 in /usr/local/lib/python3.10/dist-packages (from transformers) (0.4.3)\n",
            "Requirement already satisfied: tqdm>=4.27 in /usr/local/lib/python3.10/dist-packages (from transformers) (4.66.2)\n",
            "Requirement already satisfied: fsspec>=2023.5.0 in /usr/local/lib/python3.10/dist-packages (from huggingface-hub<1.0,>=0.19.3->transformers) (2023.6.0)\n",
            "Requirement already satisfied: typing-extensions>=3.7.4.3 in /usr/local/lib/python3.10/dist-packages (from huggingface-hub<1.0,>=0.19.3->transformers) (4.11.0)\n",
            "Requirement already satisfied: charset-normalizer<4,>=2 in /usr/local/lib/python3.10/dist-packages (from requests->transformers) (3.3.2)\n",
            "Requirement already satisfied: idna<4,>=2.5 in /usr/local/lib/python3.10/dist-packages (from requests->transformers) (3.7)\n",
            "Requirement already satisfied: urllib3<3,>=1.21.1 in /usr/local/lib/python3.10/dist-packages (from requests->transformers) (2.0.7)\n",
            "Requirement already satisfied: certifi>=2017.4.17 in /usr/local/lib/python3.10/dist-packages (from requests->transformers) (2024.2.2)\n"
          ]
        },
        {
          "output_type": "display_data",
          "data": {
            "text/plain": [
              "tokenizer_config.json:   0%|          | 0.00/450 [00:00<?, ?B/s]"
            ],
            "application/vnd.jupyter.widget-view+json": {
              "version_major": 2,
              "version_minor": 0,
              "model_id": "20fd6b4e03a34483bdd924e641a0c85a"
            }
          },
          "metadata": {}
        },
        {
          "output_type": "display_data",
          "data": {
            "text/plain": [
              "tokenizer.json:   0%|          | 0.00/2.11M [00:00<?, ?B/s]"
            ],
            "application/vnd.jupyter.widget-view+json": {
              "version_major": 2,
              "version_minor": 0,
              "model_id": "95f24ab3eb6b4797b7c51f7ec504e493"
            }
          },
          "metadata": {}
        },
        {
          "output_type": "display_data",
          "data": {
            "text/plain": [
              "special_tokens_map.json:   0%|          | 0.00/228 [00:00<?, ?B/s]"
            ],
            "application/vnd.jupyter.widget-view+json": {
              "version_major": 2,
              "version_minor": 0,
              "model_id": "aaaa5018234544cbbf051796699fc5b6"
            }
          },
          "metadata": {}
        },
        {
          "output_type": "stream",
          "name": "stderr",
          "text": [
            "Special tokens have been added in the vocabulary, make sure the associated word embeddings are fine-tuned or trained.\n"
          ]
        },
        {
          "output_type": "display_data",
          "data": {
            "text/plain": [
              "config.json:   0%|          | 0.00/819 [00:00<?, ?B/s]"
            ],
            "application/vnd.jupyter.widget-view+json": {
              "version_major": 2,
              "version_minor": 0,
              "model_id": "9c26f583d1ec4d2ba1ed105d9948001d"
            }
          },
          "metadata": {}
        },
        {
          "output_type": "display_data",
          "data": {
            "text/plain": [
              "pytorch_model.bin:   0%|          | 0.00/5.68G [00:00<?, ?B/s]"
            ],
            "application/vnd.jupyter.widget-view+json": {
              "version_major": 2,
              "version_minor": 0,
              "model_id": "d71e91f20d2d4c0d8b06c529e7837138"
            }
          },
          "metadata": {}
        }
      ]
    },
    {
      "cell_type": "code",
      "source": [
        "# Directory containing the images\n",
        "image_directory = '/content/drive/My Drive/gray'\n",
        "\n",
        "# Confirming the path and list files\n",
        "if os.path.exists(image_directory):\n",
        "    print(\"Listing files in the directory:\")\n",
        "    print(os.listdir(image_directory))\n",
        "else:\n",
        "    print(\"Directory does not exist. Check the path.\")\n"
      ],
      "metadata": {
        "colab": {
          "base_uri": "https://localhost:8080/"
        },
        "id": "8SsG_gE3RlIF",
        "outputId": "3a521062-122e-4077-fd3f-ea039c0daddd"
      },
      "execution_count": null,
      "outputs": [
        {
          "output_type": "stream",
          "name": "stdout",
          "text": [
            "Listing files in the directory:\n",
            "['498.jpg', '326.jpg', '137.jpg', '383.jpg', '4.jpg', '241.jpg', '48.jpg', '146.jpg', '365.jpg', '361.jpg', '194.jpg', '447.jpg', '387.jpg', '56.jpg', '38.jpg', '86.jpg', '124.jpg', '166.jpg', '268.jpg', '312.jpg', '445.jpg', '335.jpg', '277.jpg', '496.jpg', '121.jpg', '369.jpg', '256.jpg', '100.jpg', '274.jpg', '416.jpg', '491.jpg', '238.jpg', '143.jpg', '345.jpg', '408.jpg', '120.jpg', '105.jpg', '58.jpg', '463.jpg', '93.jpg', '181.jpg', '446.jpg', '394.jpg', '237.jpg', '276.jpg', '417.jpg', '333.jpg', '313.jpg', '80.jpg', '171.jpg', '78.jpg', '449.jpg', '259.jpg', '440.jpg', '301.jpg', '479.jpg', '197.jpg', '141.jpg', '354.jpg', '160.jpg', '249.jpg', '57.jpg', '9.jpg', '264.jpg', '158.jpg', '41.jpg', '35.jpg', '217.jpg', '344.jpg', '174.jpg', '139.jpg', '215.jpg', '377.jpg', '159.jpg', '415.jpg', '64.jpg', '484.jpg', '483.jpg', '376.jpg', '481.jpg', '232.jpg', '155.jpg', '212.jpg', '390.jpg', '251.jpg', '281.jpg', '459.jpg', '323.jpg', '26.jpg', '269.jpg', '327.jpg', '331.jpg', '451.jpg', '284.jpg', '157.jpg', '297.jpg', '461.jpg', '425.jpg', '460.jpg', '195.jpg', '46.jpg', '11.jpg', '47.jpg', '475.jpg', '309.jpg', '74.jpg', '295.jpg', '307.jpg', '339.jpg', '154.jpg', '410.jpg', '380.jpg', '342.jpg', '66.jpg', '133.jpg', '115.jpg', '473.jpg', '373.jpg', '368.jpg', '127.jpg', '59.jpg', '303.jpg', '173.jpg', '490.jpg', '188.jpg', '287.jpg', '392.jpg', '142.jpg', '90.jpg', '360.jpg', '329.jpg', '298.jpg', '424.jpg', '21.jpg', '184.jpg', '396.jpg', '363.jpg', '250.jpg', '13.jpg', '325.jpg', '437.jpg', '69.jpg', '234.jpg', '302.jpg', '349.jpg', '202.jpg', '468.jpg', '183.jpg', '82.jpg', '227.jpg', '316.jpg', '25.jpg', '45.jpg', '439.jpg', '453.jpg', '201.jpg', '94.jpg', '255.jpg', '421.jpg', '261.jpg', '418.jpg', '114.jpg', '153.jpg', '229.jpg', '471.jpg', '33.jpg', '28.jpg', '99.jpg', '43.jpg', '385.jpg', '275.jpg', '95.jpg', '17.jpg', '65.jpg', '180.jpg', '129.jpg', '289.jpg', '75.jpg', '409.jpg', '228.jpg', '288.jpg', '306.jpg', '296.jpg', '135.jpg', '271.jpg', '175.jpg', '311.jpg', '52.jpg', '2.jpg', '407.jpg', '53.jpg', '324.jpg', '161.jpg', '272.jpg', '315.jpg', '341.jpg', '68.jpg', '246.jpg', '482.jpg', '0.jpg', '73.jpg', '399.jpg', '123.jpg', '118.jpg', '455.jpg', '430.jpg', '193.jpg', '290.jpg', '243.jpg', '198.jpg', '393.jpg', '151.jpg', '72.jpg', '472.jpg', '156.jpg', '224.jpg', '321.jpg', '138.jpg', '350.jpg', '254.jpg', '163.jpg', '176.jpg', '236.jpg', '164.jpg', '270.jpg', '285.jpg', '85.jpg', '458.jpg', '292.jpg', '500.jpg', '37.jpg', '328.jpg', '130.jpg', '240.jpg', '346.jpg', '167.jpg', '477.jpg', '244.jpg', '470.jpg', '128.jpg', '106.jpg', '389.jpg', '225.jpg', '70.jpg', '434.jpg', '214.jpg', '372.jpg', '257.jpg', '132.jpg', '32.jpg', '18.jpg', '467.jpg', '60.jpg', '71.jpg', '182.jpg', '239.jpg', '334.jpg', '88.jpg', '283.jpg', '51.jpg', '487.jpg', '391.jpg', '189.jpg', '428.jpg', '97.jpg', '406.jpg', '125.jpg', '209.jpg', '300.jpg', '381.jpg', '304.jpg', '367.jpg', '486.jpg', '245.jpg', '192.jpg', '378.jpg', '462.jpg', '338.jpg', '353.jpg', '221.jpg', '147.jpg', '388.jpg', '101.jpg', '402.jpg', '448.jpg', '332.jpg', '187.jpg', '144.jpg', '178.jpg', '429.jpg', '122.jpg', '423.jpg', '76.jpg', '337.jpg', '223.jpg', '358.jpg', '443.jpg', '219.jpg', '357.jpg', '168.jpg', '152.jpg', '140.jpg', '207.jpg', '432.jpg', '29.jpg', '19.jpg', '336.jpg', '149.jpg', '489.jpg', '320.jpg', '371.jpg', '111.jpg', '3.jpg', '403.jpg', '397.jpg', '208.jpg', '280.jpg', '370.jpg', '203.jpg', '382.jpg', '165.jpg', '480.jpg', '488.jpg', '348.jpg', '497.jpg', '450.jpg', '442.jpg', '131.jpg', '22.jpg', '308.jpg', '36.jpg', '356.jpg', '63.jpg', '55.jpg', '485.jpg', '83.jpg', '8.jpg', '27.jpg', '476.jpg', '10.jpg', '411.jpg', '199.jpg', '110.jpg', '299.jpg', '145.jpg', '286.jpg', '464.jpg', '54.jpg', '465.jpg', '191.jpg', '185.jpg', '359.jpg', '398.jpg', '150.jpg', '87.jpg', '77.jpg', '362.jpg', '492.jpg', '190.jpg', '91.jpg', '170.jpg', '12.jpg', '126.jpg', '262.jpg', '310.jpg', '412.jpg', '61.jpg', '7.jpg', '179.jpg', '273.jpg', '103.jpg', '89.jpg', '379.jpg', '218.jpg', '279.jpg', '196.jpg', '252.jpg', '213.jpg', '14.jpg', '1.jpg', '116.jpg', '30.jpg', '319.jpg', '81.jpg', '340.jpg', '162.jpg', '222.jpg', '314.jpg', '499.jpg', '247.jpg', '478.jpg', '260.jpg', '79.jpg', '493.jpg', '265.jpg', '186.jpg', '427.jpg', '435.jpg', '200.jpg', '172.jpg', '112.jpg', '136.jpg', '169.jpg', '230.jpg', '351.jpg', '104.jpg', '220.jpg', '253.jpg', '148.jpg', '343.jpg', '364.jpg', '235.jpg', '16.jpg', '62.jpg', '405.jpg', '305.jpg', '226.jpg', '44.jpg', '347.jpg', '374.jpg', '31.jpg', '456.jpg', '404.jpg', '23.jpg', '24.jpg', '20.jpg', '50.jpg', '355.jpg', '39.jpg', '469.jpg', '206.jpg', '113.jpg', '40.jpg', '318.jpg', '452.jpg', '216.jpg', '67.jpg', '386.jpg', '108.jpg', '457.jpg', '177.jpg', '5.jpg', '419.jpg', '431.jpg', '258.jpg', '231.jpg', '414.jpg', '242.jpg', '263.jpg', '454.jpg', '34.jpg', '49.jpg', '84.jpg', '317.jpg', '109.jpg', '117.jpg', '441.jpg', '293.jpg', '278.jpg', '248.jpg', '294.jpg', '474.jpg', '211.jpg', '401.jpg', '384.jpg', '420.jpg', '438.jpg', '119.jpg', '204.jpg', '426.jpg', '375.jpg', '98.jpg', '433.jpg', '267.jpg', '233.jpg', '210.jpg', '42.jpg', '15.jpg', '436.jpg', '266.jpg', '322.jpg', '366.jpg', '205.jpg', '413.jpg', '330.jpg', '352.jpg', '282.jpg', '495.jpg', '92.jpg', '444.jpg', '400.jpg', '291.jpg', '107.jpg', '422.jpg', '494.jpg', '96.jpg', '102.jpg', '134.jpg', '6.jpg', '395.jpg', '466.jpg']\n"
          ]
        }
      ]
    },
    {
      "cell_type": "code",
      "source": [
        "# Converting image to base64 encoded string.\n",
        "def image_to_base64(image_path):\n",
        "    with open(image_path, \"rb\") as image_file:\n",
        "        encoded_string = base64.b64encode(image_file.read()).decode('utf-8')\n",
        "    return encoded_string\n",
        "\n",
        "# Converting all images in the directory to base64 and save with names to a CSV file\n",
        "def images_to_csv(directory, csv_file_path):\n",
        "    with open(csv_file_path, mode='w', newline='') as file:\n",
        "        writer = csv.writer(file)\n",
        "        writer.writerow(['Image Name', 'base64'])  # Writing the header row with 'base64' as column name\n",
        "\n",
        "        for filename in os.listdir(directory):\n",
        "            if filename.endswith(\".jpg\") or filename.endswith(\".png\"):\n",
        "                print(f\"Processing file: {filename}\")\n",
        "                image_path = os.path.join(directory, filename)\n",
        "                base64_data = image_to_base64(image_path)\n",
        "                writer.writerow([filename, base64_data])\n",
        "                print(f\"Written {filename} to CSV\")\n"
      ],
      "metadata": {
        "id": "CfVXykMWRlFe"
      },
      "execution_count": null,
      "outputs": []
    },
    {
      "cell_type": "code",
      "source": [
        "# Defining the image directory and output CSV path\n",
        "image_directory = '/content/drive/My Drive/gray'\n",
        "csv_output_path = '/content/drive/My Drive/image_base64.csv'\n",
        "\n",
        "# Process the images and save to CSV\n",
        "images_to_csv(image_directory, csv_output_path)\n"
      ],
      "metadata": {
        "id": "drQVyXls90bc"
      },
      "execution_count": null,
      "outputs": []
    },
    {
      "cell_type": "code",
      "source": [
        "# Generating a random prompt for an image using the language model ( LLM ) Dolly-v-3B from databricks\n",
        "def generate_prompt(image_name):\n",
        "    input_text = f\"Describe the image: {image_name} in an artistic way.\"\n",
        "    inputs = tokenizer(input_text, return_tensors=\"pt\")\n",
        "    outputs = model.generate(**inputs, max_length=50)\n",
        "    prompt = tokenizer.decode(outputs[0], skip_special_tokens=True)\n",
        "    return prompt\n",
        "\n",
        "# Converting all images in the directory to base64, generate prompts, and save with names to a CSV file\n",
        "def images_to_csv_with_prompts(directory, csv_file_path):\n",
        "    \"\"\".\"\"\"\n",
        "    with open(csv_file_path, mode='w', newline='') as file:\n",
        "        writer = csv.writer(file)\n",
        "        writer.writerow(['Image Name', 'Base64', 'Prompt'])  # Include 'Prompt' in the header\n",
        "\n",
        "        for filename in os.listdir(directory):\n",
        "            if filename.endswith(\".jpg\") or filename.endswith(\".png\"):\n",
        "                print(f\"Processing file: {filename}\")\n",
        "                image_path = os.path.join(directory, filename)\n",
        "                base64_data = image_to_base64(image_path)\n",
        "                prompt = generate_prompt(filename)\n",
        "                writer.writerow([filename, base64_data, prompt])\n",
        "                print(f\"Written data for {filename} to CSV with prompt.\")\n",
        "\n",
        "csv_output_path = '/content/drive/My Drive/image_base64_with_prompts.csv'\n",
        "\n",
        "# Process the images and save to CSV with prompts\n",
        "images_to_csv_with_prompts(image_directory, csv_output_path)"
      ],
      "metadata": {
        "colab": {
          "base_uri": "https://localhost:8080/"
        },
        "id": "RsQEGZICWO3i",
        "outputId": "b8054d74-7dc2-4a1f-ee1f-4d657c927d65"
      },
      "execution_count": null,
      "outputs": [
        {
          "output_type": "stream",
          "name": "stderr",
          "text": [
            "Setting `pad_token_id` to `eos_token_id`:0 for open-end generation.\n"
          ]
        },
        {
          "output_type": "stream",
          "name": "stdout",
          "text": [
            "Processing file: 498.jpg\n"
          ]
        },
        {
          "output_type": "stream",
          "name": "stderr",
          "text": [
            "Setting `pad_token_id` to `eos_token_id`:0 for open-end generation.\n"
          ]
        },
        {
          "output_type": "stream",
          "name": "stdout",
          "text": [
            "Written data for 498.jpg to CSV with prompt.\n",
            "Processing file: 326.jpg\n"
          ]
        },
        {
          "output_type": "stream",
          "name": "stderr",
          "text": [
            "Setting `pad_token_id` to `eos_token_id`:0 for open-end generation.\n"
          ]
        },
        {
          "output_type": "stream",
          "name": "stdout",
          "text": [
            "Written data for 326.jpg to CSV with prompt.\n",
            "Processing file: 137.jpg\n"
          ]
        },
        {
          "output_type": "stream",
          "name": "stderr",
          "text": [
            "Setting `pad_token_id` to `eos_token_id`:0 for open-end generation.\n"
          ]
        },
        {
          "output_type": "stream",
          "name": "stdout",
          "text": [
            "Written data for 137.jpg to CSV with prompt.\n",
            "Processing file: 383.jpg\n"
          ]
        },
        {
          "output_type": "stream",
          "name": "stderr",
          "text": [
            "Setting `pad_token_id` to `eos_token_id`:0 for open-end generation.\n"
          ]
        },
        {
          "output_type": "stream",
          "name": "stdout",
          "text": [
            "Written data for 383.jpg to CSV with prompt.\n",
            "Processing file: 4.jpg\n"
          ]
        },
        {
          "output_type": "stream",
          "name": "stderr",
          "text": [
            "Setting `pad_token_id` to `eos_token_id`:0 for open-end generation.\n"
          ]
        },
        {
          "output_type": "stream",
          "name": "stdout",
          "text": [
            "Written data for 4.jpg to CSV with prompt.\n",
            "Processing file: 241.jpg\n"
          ]
        },
        {
          "output_type": "stream",
          "name": "stderr",
          "text": [
            "Setting `pad_token_id` to `eos_token_id`:0 for open-end generation.\n"
          ]
        },
        {
          "output_type": "stream",
          "name": "stdout",
          "text": [
            "Written data for 241.jpg to CSV with prompt.\n",
            "Processing file: 48.jpg\n"
          ]
        },
        {
          "output_type": "stream",
          "name": "stderr",
          "text": [
            "Setting `pad_token_id` to `eos_token_id`:0 for open-end generation.\n"
          ]
        },
        {
          "output_type": "stream",
          "name": "stdout",
          "text": [
            "Written data for 48.jpg to CSV with prompt.\n",
            "Processing file: 146.jpg\n"
          ]
        },
        {
          "output_type": "stream",
          "name": "stderr",
          "text": [
            "Setting `pad_token_id` to `eos_token_id`:0 for open-end generation.\n"
          ]
        },
        {
          "output_type": "stream",
          "name": "stdout",
          "text": [
            "Written data for 146.jpg to CSV with prompt.\n",
            "Processing file: 365.jpg\n"
          ]
        },
        {
          "output_type": "stream",
          "name": "stderr",
          "text": [
            "Setting `pad_token_id` to `eos_token_id`:0 for open-end generation.\n"
          ]
        },
        {
          "output_type": "stream",
          "name": "stdout",
          "text": [
            "Written data for 365.jpg to CSV with prompt.\n",
            "Processing file: 361.jpg\n"
          ]
        },
        {
          "output_type": "stream",
          "name": "stderr",
          "text": [
            "Setting `pad_token_id` to `eos_token_id`:0 for open-end generation.\n"
          ]
        },
        {
          "output_type": "stream",
          "name": "stdout",
          "text": [
            "Written data for 361.jpg to CSV with prompt.\n",
            "Processing file: 194.jpg\n"
          ]
        },
        {
          "output_type": "stream",
          "name": "stderr",
          "text": [
            "Setting `pad_token_id` to `eos_token_id`:0 for open-end generation.\n"
          ]
        },
        {
          "output_type": "stream",
          "name": "stdout",
          "text": [
            "Written data for 194.jpg to CSV with prompt.\n",
            "Processing file: 447.jpg\n"
          ]
        },
        {
          "output_type": "stream",
          "name": "stderr",
          "text": [
            "Setting `pad_token_id` to `eos_token_id`:0 for open-end generation.\n"
          ]
        },
        {
          "output_type": "stream",
          "name": "stdout",
          "text": [
            "Written data for 447.jpg to CSV with prompt.\n",
            "Processing file: 387.jpg\n"
          ]
        },
        {
          "output_type": "stream",
          "name": "stderr",
          "text": [
            "Setting `pad_token_id` to `eos_token_id`:0 for open-end generation.\n"
          ]
        },
        {
          "output_type": "stream",
          "name": "stdout",
          "text": [
            "Written data for 387.jpg to CSV with prompt.\n",
            "Processing file: 56.jpg\n"
          ]
        },
        {
          "output_type": "stream",
          "name": "stderr",
          "text": [
            "Setting `pad_token_id` to `eos_token_id`:0 for open-end generation.\n"
          ]
        },
        {
          "output_type": "stream",
          "name": "stdout",
          "text": [
            "Written data for 56.jpg to CSV with prompt.\n",
            "Processing file: 38.jpg\n"
          ]
        },
        {
          "output_type": "stream",
          "name": "stderr",
          "text": [
            "Setting `pad_token_id` to `eos_token_id`:0 for open-end generation.\n"
          ]
        },
        {
          "output_type": "stream",
          "name": "stdout",
          "text": [
            "Written data for 38.jpg to CSV with prompt.\n",
            "Processing file: 86.jpg\n"
          ]
        },
        {
          "output_type": "stream",
          "name": "stderr",
          "text": [
            "Setting `pad_token_id` to `eos_token_id`:0 for open-end generation.\n"
          ]
        },
        {
          "output_type": "stream",
          "name": "stdout",
          "text": [
            "Written data for 86.jpg to CSV with prompt.\n",
            "Processing file: 124.jpg\n"
          ]
        },
        {
          "output_type": "stream",
          "name": "stderr",
          "text": [
            "Setting `pad_token_id` to `eos_token_id`:0 for open-end generation.\n"
          ]
        },
        {
          "output_type": "stream",
          "name": "stdout",
          "text": [
            "Written data for 124.jpg to CSV with prompt.\n",
            "Processing file: 166.jpg\n"
          ]
        },
        {
          "output_type": "stream",
          "name": "stderr",
          "text": [
            "Setting `pad_token_id` to `eos_token_id`:0 for open-end generation.\n"
          ]
        },
        {
          "output_type": "stream",
          "name": "stdout",
          "text": [
            "Written data for 166.jpg to CSV with prompt.\n",
            "Processing file: 268.jpg\n"
          ]
        },
        {
          "output_type": "stream",
          "name": "stderr",
          "text": [
            "Setting `pad_token_id` to `eos_token_id`:0 for open-end generation.\n"
          ]
        },
        {
          "output_type": "stream",
          "name": "stdout",
          "text": [
            "Written data for 268.jpg to CSV with prompt.\n",
            "Processing file: 312.jpg\n"
          ]
        },
        {
          "output_type": "stream",
          "name": "stderr",
          "text": [
            "Setting `pad_token_id` to `eos_token_id`:0 for open-end generation.\n"
          ]
        },
        {
          "output_type": "stream",
          "name": "stdout",
          "text": [
            "Written data for 312.jpg to CSV with prompt.\n",
            "Processing file: 445.jpg\n"
          ]
        },
        {
          "output_type": "stream",
          "name": "stderr",
          "text": [
            "Setting `pad_token_id` to `eos_token_id`:0 for open-end generation.\n"
          ]
        },
        {
          "output_type": "stream",
          "name": "stdout",
          "text": [
            "Written data for 445.jpg to CSV with prompt.\n",
            "Processing file: 335.jpg\n"
          ]
        },
        {
          "output_type": "stream",
          "name": "stderr",
          "text": [
            "Setting `pad_token_id` to `eos_token_id`:0 for open-end generation.\n"
          ]
        },
        {
          "output_type": "stream",
          "name": "stdout",
          "text": [
            "Written data for 335.jpg to CSV with prompt.\n",
            "Processing file: 277.jpg\n"
          ]
        },
        {
          "output_type": "stream",
          "name": "stderr",
          "text": [
            "Setting `pad_token_id` to `eos_token_id`:0 for open-end generation.\n"
          ]
        },
        {
          "output_type": "stream",
          "name": "stdout",
          "text": [
            "Written data for 277.jpg to CSV with prompt.\n",
            "Processing file: 496.jpg\n"
          ]
        },
        {
          "output_type": "stream",
          "name": "stderr",
          "text": [
            "Setting `pad_token_id` to `eos_token_id`:0 for open-end generation.\n"
          ]
        },
        {
          "output_type": "stream",
          "name": "stdout",
          "text": [
            "Written data for 496.jpg to CSV with prompt.\n",
            "Processing file: 121.jpg\n"
          ]
        },
        {
          "output_type": "stream",
          "name": "stderr",
          "text": [
            "Setting `pad_token_id` to `eos_token_id`:0 for open-end generation.\n"
          ]
        },
        {
          "output_type": "stream",
          "name": "stdout",
          "text": [
            "Written data for 121.jpg to CSV with prompt.\n",
            "Processing file: 369.jpg\n"
          ]
        },
        {
          "output_type": "stream",
          "name": "stderr",
          "text": [
            "Setting `pad_token_id` to `eos_token_id`:0 for open-end generation.\n"
          ]
        },
        {
          "output_type": "stream",
          "name": "stdout",
          "text": [
            "Written data for 369.jpg to CSV with prompt.\n",
            "Processing file: 256.jpg\n"
          ]
        },
        {
          "output_type": "stream",
          "name": "stderr",
          "text": [
            "Setting `pad_token_id` to `eos_token_id`:0 for open-end generation.\n"
          ]
        },
        {
          "output_type": "stream",
          "name": "stdout",
          "text": [
            "Written data for 256.jpg to CSV with prompt.\n",
            "Processing file: 100.jpg\n"
          ]
        },
        {
          "output_type": "stream",
          "name": "stderr",
          "text": [
            "Setting `pad_token_id` to `eos_token_id`:0 for open-end generation.\n"
          ]
        },
        {
          "output_type": "stream",
          "name": "stdout",
          "text": [
            "Written data for 100.jpg to CSV with prompt.\n",
            "Processing file: 274.jpg\n"
          ]
        },
        {
          "output_type": "stream",
          "name": "stderr",
          "text": [
            "Setting `pad_token_id` to `eos_token_id`:0 for open-end generation.\n"
          ]
        },
        {
          "output_type": "stream",
          "name": "stdout",
          "text": [
            "Written data for 274.jpg to CSV with prompt.\n",
            "Processing file: 416.jpg\n"
          ]
        },
        {
          "output_type": "stream",
          "name": "stderr",
          "text": [
            "Setting `pad_token_id` to `eos_token_id`:0 for open-end generation.\n"
          ]
        },
        {
          "output_type": "stream",
          "name": "stdout",
          "text": [
            "Written data for 416.jpg to CSV with prompt.\n",
            "Processing file: 491.jpg\n"
          ]
        },
        {
          "output_type": "stream",
          "name": "stderr",
          "text": [
            "Setting `pad_token_id` to `eos_token_id`:0 for open-end generation.\n"
          ]
        },
        {
          "output_type": "stream",
          "name": "stdout",
          "text": [
            "Written data for 491.jpg to CSV with prompt.\n",
            "Processing file: 238.jpg\n"
          ]
        },
        {
          "output_type": "stream",
          "name": "stderr",
          "text": [
            "Setting `pad_token_id` to `eos_token_id`:0 for open-end generation.\n"
          ]
        },
        {
          "output_type": "stream",
          "name": "stdout",
          "text": [
            "Written data for 238.jpg to CSV with prompt.\n",
            "Processing file: 143.jpg\n"
          ]
        },
        {
          "output_type": "stream",
          "name": "stderr",
          "text": [
            "Setting `pad_token_id` to `eos_token_id`:0 for open-end generation.\n"
          ]
        },
        {
          "output_type": "stream",
          "name": "stdout",
          "text": [
            "Written data for 143.jpg to CSV with prompt.\n",
            "Processing file: 345.jpg\n"
          ]
        },
        {
          "output_type": "stream",
          "name": "stderr",
          "text": [
            "Setting `pad_token_id` to `eos_token_id`:0 for open-end generation.\n"
          ]
        },
        {
          "output_type": "stream",
          "name": "stdout",
          "text": [
            "Written data for 345.jpg to CSV with prompt.\n",
            "Processing file: 408.jpg\n"
          ]
        },
        {
          "output_type": "stream",
          "name": "stderr",
          "text": [
            "Setting `pad_token_id` to `eos_token_id`:0 for open-end generation.\n"
          ]
        },
        {
          "output_type": "stream",
          "name": "stdout",
          "text": [
            "Written data for 408.jpg to CSV with prompt.\n",
            "Processing file: 120.jpg\n"
          ]
        },
        {
          "output_type": "stream",
          "name": "stderr",
          "text": [
            "Setting `pad_token_id` to `eos_token_id`:0 for open-end generation.\n"
          ]
        },
        {
          "output_type": "stream",
          "name": "stdout",
          "text": [
            "Written data for 120.jpg to CSV with prompt.\n",
            "Processing file: 105.jpg\n"
          ]
        },
        {
          "output_type": "stream",
          "name": "stderr",
          "text": [
            "Setting `pad_token_id` to `eos_token_id`:0 for open-end generation.\n"
          ]
        },
        {
          "output_type": "stream",
          "name": "stdout",
          "text": [
            "Written data for 105.jpg to CSV with prompt.\n",
            "Processing file: 58.jpg\n"
          ]
        },
        {
          "output_type": "stream",
          "name": "stderr",
          "text": [
            "Setting `pad_token_id` to `eos_token_id`:0 for open-end generation.\n"
          ]
        },
        {
          "output_type": "stream",
          "name": "stdout",
          "text": [
            "Written data for 58.jpg to CSV with prompt.\n",
            "Processing file: 463.jpg\n"
          ]
        },
        {
          "output_type": "stream",
          "name": "stderr",
          "text": [
            "Setting `pad_token_id` to `eos_token_id`:0 for open-end generation.\n"
          ]
        },
        {
          "output_type": "stream",
          "name": "stdout",
          "text": [
            "Written data for 463.jpg to CSV with prompt.\n",
            "Processing file: 93.jpg\n"
          ]
        },
        {
          "output_type": "stream",
          "name": "stderr",
          "text": [
            "Setting `pad_token_id` to `eos_token_id`:0 for open-end generation.\n"
          ]
        },
        {
          "output_type": "stream",
          "name": "stdout",
          "text": [
            "Written data for 93.jpg to CSV with prompt.\n",
            "Processing file: 181.jpg\n"
          ]
        },
        {
          "output_type": "stream",
          "name": "stderr",
          "text": [
            "Setting `pad_token_id` to `eos_token_id`:0 for open-end generation.\n"
          ]
        },
        {
          "output_type": "stream",
          "name": "stdout",
          "text": [
            "Written data for 181.jpg to CSV with prompt.\n",
            "Processing file: 446.jpg\n"
          ]
        },
        {
          "output_type": "stream",
          "name": "stderr",
          "text": [
            "Setting `pad_token_id` to `eos_token_id`:0 for open-end generation.\n"
          ]
        },
        {
          "output_type": "stream",
          "name": "stdout",
          "text": [
            "Written data for 446.jpg to CSV with prompt.\n",
            "Processing file: 394.jpg\n"
          ]
        },
        {
          "output_type": "stream",
          "name": "stderr",
          "text": [
            "Setting `pad_token_id` to `eos_token_id`:0 for open-end generation.\n"
          ]
        },
        {
          "output_type": "stream",
          "name": "stdout",
          "text": [
            "Written data for 394.jpg to CSV with prompt.\n",
            "Processing file: 237.jpg\n"
          ]
        },
        {
          "output_type": "stream",
          "name": "stderr",
          "text": [
            "Setting `pad_token_id` to `eos_token_id`:0 for open-end generation.\n"
          ]
        },
        {
          "output_type": "stream",
          "name": "stdout",
          "text": [
            "Written data for 237.jpg to CSV with prompt.\n",
            "Processing file: 276.jpg\n"
          ]
        },
        {
          "output_type": "stream",
          "name": "stderr",
          "text": [
            "Setting `pad_token_id` to `eos_token_id`:0 for open-end generation.\n"
          ]
        },
        {
          "output_type": "stream",
          "name": "stdout",
          "text": [
            "Written data for 276.jpg to CSV with prompt.\n",
            "Processing file: 417.jpg\n"
          ]
        },
        {
          "output_type": "stream",
          "name": "stderr",
          "text": [
            "Setting `pad_token_id` to `eos_token_id`:0 for open-end generation.\n"
          ]
        },
        {
          "output_type": "stream",
          "name": "stdout",
          "text": [
            "Written data for 417.jpg to CSV with prompt.\n",
            "Processing file: 333.jpg\n"
          ]
        },
        {
          "output_type": "stream",
          "name": "stderr",
          "text": [
            "Setting `pad_token_id` to `eos_token_id`:0 for open-end generation.\n"
          ]
        },
        {
          "output_type": "stream",
          "name": "stdout",
          "text": [
            "Written data for 333.jpg to CSV with prompt.\n",
            "Processing file: 313.jpg\n"
          ]
        },
        {
          "output_type": "stream",
          "name": "stderr",
          "text": [
            "Setting `pad_token_id` to `eos_token_id`:0 for open-end generation.\n"
          ]
        },
        {
          "output_type": "stream",
          "name": "stdout",
          "text": [
            "Written data for 313.jpg to CSV with prompt.\n",
            "Processing file: 80.jpg\n"
          ]
        },
        {
          "output_type": "stream",
          "name": "stderr",
          "text": [
            "Setting `pad_token_id` to `eos_token_id`:0 for open-end generation.\n"
          ]
        },
        {
          "output_type": "stream",
          "name": "stdout",
          "text": [
            "Written data for 80.jpg to CSV with prompt.\n",
            "Processing file: 171.jpg\n"
          ]
        },
        {
          "output_type": "stream",
          "name": "stderr",
          "text": [
            "Setting `pad_token_id` to `eos_token_id`:0 for open-end generation.\n"
          ]
        },
        {
          "output_type": "stream",
          "name": "stdout",
          "text": [
            "Written data for 171.jpg to CSV with prompt.\n",
            "Processing file: 78.jpg\n"
          ]
        },
        {
          "output_type": "stream",
          "name": "stderr",
          "text": [
            "Setting `pad_token_id` to `eos_token_id`:0 for open-end generation.\n"
          ]
        },
        {
          "output_type": "stream",
          "name": "stdout",
          "text": [
            "Written data for 78.jpg to CSV with prompt.\n",
            "Processing file: 449.jpg\n"
          ]
        },
        {
          "output_type": "stream",
          "name": "stderr",
          "text": [
            "Setting `pad_token_id` to `eos_token_id`:0 for open-end generation.\n"
          ]
        },
        {
          "output_type": "stream",
          "name": "stdout",
          "text": [
            "Written data for 449.jpg to CSV with prompt.\n",
            "Processing file: 259.jpg\n"
          ]
        },
        {
          "output_type": "stream",
          "name": "stderr",
          "text": [
            "Setting `pad_token_id` to `eos_token_id`:0 for open-end generation.\n"
          ]
        },
        {
          "output_type": "stream",
          "name": "stdout",
          "text": [
            "Written data for 259.jpg to CSV with prompt.\n",
            "Processing file: 440.jpg\n"
          ]
        },
        {
          "output_type": "stream",
          "name": "stderr",
          "text": [
            "Setting `pad_token_id` to `eos_token_id`:0 for open-end generation.\n"
          ]
        },
        {
          "output_type": "stream",
          "name": "stdout",
          "text": [
            "Written data for 440.jpg to CSV with prompt.\n",
            "Processing file: 301.jpg\n"
          ]
        },
        {
          "output_type": "stream",
          "name": "stderr",
          "text": [
            "Setting `pad_token_id` to `eos_token_id`:0 for open-end generation.\n"
          ]
        },
        {
          "output_type": "stream",
          "name": "stdout",
          "text": [
            "Written data for 301.jpg to CSV with prompt.\n",
            "Processing file: 479.jpg\n"
          ]
        },
        {
          "output_type": "stream",
          "name": "stderr",
          "text": [
            "Setting `pad_token_id` to `eos_token_id`:0 for open-end generation.\n"
          ]
        },
        {
          "output_type": "stream",
          "name": "stdout",
          "text": [
            "Written data for 479.jpg to CSV with prompt.\n",
            "Processing file: 197.jpg\n"
          ]
        },
        {
          "output_type": "stream",
          "name": "stderr",
          "text": [
            "Setting `pad_token_id` to `eos_token_id`:0 for open-end generation.\n"
          ]
        },
        {
          "output_type": "stream",
          "name": "stdout",
          "text": [
            "Written data for 197.jpg to CSV with prompt.\n",
            "Processing file: 141.jpg\n"
          ]
        },
        {
          "output_type": "stream",
          "name": "stderr",
          "text": [
            "Setting `pad_token_id` to `eos_token_id`:0 for open-end generation.\n"
          ]
        },
        {
          "output_type": "stream",
          "name": "stdout",
          "text": [
            "Written data for 141.jpg to CSV with prompt.\n",
            "Processing file: 354.jpg\n"
          ]
        },
        {
          "output_type": "stream",
          "name": "stderr",
          "text": [
            "Setting `pad_token_id` to `eos_token_id`:0 for open-end generation.\n"
          ]
        },
        {
          "output_type": "stream",
          "name": "stdout",
          "text": [
            "Written data for 354.jpg to CSV with prompt.\n",
            "Processing file: 160.jpg\n"
          ]
        },
        {
          "output_type": "stream",
          "name": "stderr",
          "text": [
            "Setting `pad_token_id` to `eos_token_id`:0 for open-end generation.\n"
          ]
        },
        {
          "output_type": "stream",
          "name": "stdout",
          "text": [
            "Written data for 160.jpg to CSV with prompt.\n",
            "Processing file: 249.jpg\n"
          ]
        },
        {
          "output_type": "stream",
          "name": "stderr",
          "text": [
            "Setting `pad_token_id` to `eos_token_id`:0 for open-end generation.\n"
          ]
        },
        {
          "output_type": "stream",
          "name": "stdout",
          "text": [
            "Written data for 249.jpg to CSV with prompt.\n",
            "Processing file: 57.jpg\n"
          ]
        },
        {
          "output_type": "stream",
          "name": "stderr",
          "text": [
            "Setting `pad_token_id` to `eos_token_id`:0 for open-end generation.\n"
          ]
        },
        {
          "output_type": "stream",
          "name": "stdout",
          "text": [
            "Written data for 57.jpg to CSV with prompt.\n",
            "Processing file: 9.jpg\n"
          ]
        },
        {
          "output_type": "stream",
          "name": "stderr",
          "text": [
            "Setting `pad_token_id` to `eos_token_id`:0 for open-end generation.\n"
          ]
        },
        {
          "output_type": "stream",
          "name": "stdout",
          "text": [
            "Written data for 9.jpg to CSV with prompt.\n",
            "Processing file: 264.jpg\n"
          ]
        },
        {
          "output_type": "stream",
          "name": "stderr",
          "text": [
            "Setting `pad_token_id` to `eos_token_id`:0 for open-end generation.\n"
          ]
        },
        {
          "output_type": "stream",
          "name": "stdout",
          "text": [
            "Written data for 264.jpg to CSV with prompt.\n",
            "Processing file: 158.jpg\n"
          ]
        },
        {
          "output_type": "stream",
          "name": "stderr",
          "text": [
            "Setting `pad_token_id` to `eos_token_id`:0 for open-end generation.\n"
          ]
        },
        {
          "output_type": "stream",
          "name": "stdout",
          "text": [
            "Written data for 158.jpg to CSV with prompt.\n",
            "Processing file: 41.jpg\n"
          ]
        },
        {
          "output_type": "stream",
          "name": "stderr",
          "text": [
            "Setting `pad_token_id` to `eos_token_id`:0 for open-end generation.\n"
          ]
        },
        {
          "output_type": "stream",
          "name": "stdout",
          "text": [
            "Written data for 41.jpg to CSV with prompt.\n",
            "Processing file: 35.jpg\n"
          ]
        },
        {
          "output_type": "stream",
          "name": "stderr",
          "text": [
            "Setting `pad_token_id` to `eos_token_id`:0 for open-end generation.\n"
          ]
        },
        {
          "output_type": "stream",
          "name": "stdout",
          "text": [
            "Written data for 35.jpg to CSV with prompt.\n",
            "Processing file: 217.jpg\n"
          ]
        },
        {
          "output_type": "stream",
          "name": "stderr",
          "text": [
            "Setting `pad_token_id` to `eos_token_id`:0 for open-end generation.\n"
          ]
        },
        {
          "output_type": "stream",
          "name": "stdout",
          "text": [
            "Written data for 217.jpg to CSV with prompt.\n",
            "Processing file: 344.jpg\n"
          ]
        },
        {
          "output_type": "stream",
          "name": "stderr",
          "text": [
            "Setting `pad_token_id` to `eos_token_id`:0 for open-end generation.\n"
          ]
        },
        {
          "output_type": "stream",
          "name": "stdout",
          "text": [
            "Written data for 344.jpg to CSV with prompt.\n",
            "Processing file: 174.jpg\n"
          ]
        },
        {
          "output_type": "stream",
          "name": "stderr",
          "text": [
            "Setting `pad_token_id` to `eos_token_id`:0 for open-end generation.\n"
          ]
        },
        {
          "output_type": "stream",
          "name": "stdout",
          "text": [
            "Written data for 174.jpg to CSV with prompt.\n",
            "Processing file: 139.jpg\n"
          ]
        },
        {
          "output_type": "stream",
          "name": "stderr",
          "text": [
            "Setting `pad_token_id` to `eos_token_id`:0 for open-end generation.\n"
          ]
        },
        {
          "output_type": "stream",
          "name": "stdout",
          "text": [
            "Written data for 139.jpg to CSV with prompt.\n",
            "Processing file: 215.jpg\n"
          ]
        },
        {
          "output_type": "stream",
          "name": "stderr",
          "text": [
            "Setting `pad_token_id` to `eos_token_id`:0 for open-end generation.\n"
          ]
        },
        {
          "output_type": "stream",
          "name": "stdout",
          "text": [
            "Written data for 215.jpg to CSV with prompt.\n",
            "Processing file: 377.jpg\n"
          ]
        },
        {
          "output_type": "stream",
          "name": "stderr",
          "text": [
            "Setting `pad_token_id` to `eos_token_id`:0 for open-end generation.\n"
          ]
        },
        {
          "output_type": "stream",
          "name": "stdout",
          "text": [
            "Written data for 377.jpg to CSV with prompt.\n",
            "Processing file: 159.jpg\n"
          ]
        },
        {
          "output_type": "stream",
          "name": "stderr",
          "text": [
            "Setting `pad_token_id` to `eos_token_id`:0 for open-end generation.\n"
          ]
        },
        {
          "output_type": "stream",
          "name": "stdout",
          "text": [
            "Written data for 159.jpg to CSV with prompt.\n",
            "Processing file: 415.jpg\n"
          ]
        },
        {
          "output_type": "stream",
          "name": "stderr",
          "text": [
            "Setting `pad_token_id` to `eos_token_id`:0 for open-end generation.\n"
          ]
        },
        {
          "output_type": "stream",
          "name": "stdout",
          "text": [
            "Written data for 415.jpg to CSV with prompt.\n",
            "Processing file: 64.jpg\n"
          ]
        },
        {
          "output_type": "stream",
          "name": "stderr",
          "text": [
            "Setting `pad_token_id` to `eos_token_id`:0 for open-end generation.\n"
          ]
        },
        {
          "output_type": "stream",
          "name": "stdout",
          "text": [
            "Written data for 64.jpg to CSV with prompt.\n",
            "Processing file: 484.jpg\n"
          ]
        },
        {
          "output_type": "stream",
          "name": "stderr",
          "text": [
            "Setting `pad_token_id` to `eos_token_id`:0 for open-end generation.\n"
          ]
        },
        {
          "output_type": "stream",
          "name": "stdout",
          "text": [
            "Written data for 484.jpg to CSV with prompt.\n",
            "Processing file: 483.jpg\n"
          ]
        },
        {
          "output_type": "stream",
          "name": "stderr",
          "text": [
            "Setting `pad_token_id` to `eos_token_id`:0 for open-end generation.\n"
          ]
        },
        {
          "output_type": "stream",
          "name": "stdout",
          "text": [
            "Written data for 483.jpg to CSV with prompt.\n",
            "Processing file: 376.jpg\n"
          ]
        },
        {
          "output_type": "stream",
          "name": "stderr",
          "text": [
            "Setting `pad_token_id` to `eos_token_id`:0 for open-end generation.\n"
          ]
        },
        {
          "output_type": "stream",
          "name": "stdout",
          "text": [
            "Written data for 376.jpg to CSV with prompt.\n",
            "Processing file: 481.jpg\n"
          ]
        },
        {
          "output_type": "stream",
          "name": "stderr",
          "text": [
            "Setting `pad_token_id` to `eos_token_id`:0 for open-end generation.\n"
          ]
        },
        {
          "output_type": "stream",
          "name": "stdout",
          "text": [
            "Written data for 481.jpg to CSV with prompt.\n",
            "Processing file: 232.jpg\n"
          ]
        },
        {
          "output_type": "stream",
          "name": "stderr",
          "text": [
            "Setting `pad_token_id` to `eos_token_id`:0 for open-end generation.\n"
          ]
        },
        {
          "output_type": "stream",
          "name": "stdout",
          "text": [
            "Written data for 232.jpg to CSV with prompt.\n",
            "Processing file: 155.jpg\n"
          ]
        },
        {
          "output_type": "stream",
          "name": "stderr",
          "text": [
            "Setting `pad_token_id` to `eos_token_id`:0 for open-end generation.\n"
          ]
        },
        {
          "output_type": "stream",
          "name": "stdout",
          "text": [
            "Written data for 155.jpg to CSV with prompt.\n",
            "Processing file: 212.jpg\n"
          ]
        },
        {
          "output_type": "stream",
          "name": "stderr",
          "text": [
            "Setting `pad_token_id` to `eos_token_id`:0 for open-end generation.\n"
          ]
        },
        {
          "output_type": "stream",
          "name": "stdout",
          "text": [
            "Written data for 212.jpg to CSV with prompt.\n",
            "Processing file: 390.jpg\n"
          ]
        },
        {
          "output_type": "stream",
          "name": "stderr",
          "text": [
            "Setting `pad_token_id` to `eos_token_id`:0 for open-end generation.\n"
          ]
        },
        {
          "output_type": "stream",
          "name": "stdout",
          "text": [
            "Written data for 390.jpg to CSV with prompt.\n",
            "Processing file: 251.jpg\n"
          ]
        },
        {
          "output_type": "stream",
          "name": "stderr",
          "text": [
            "Setting `pad_token_id` to `eos_token_id`:0 for open-end generation.\n"
          ]
        },
        {
          "output_type": "stream",
          "name": "stdout",
          "text": [
            "Written data for 251.jpg to CSV with prompt.\n",
            "Processing file: 281.jpg\n"
          ]
        },
        {
          "output_type": "stream",
          "name": "stderr",
          "text": [
            "Setting `pad_token_id` to `eos_token_id`:0 for open-end generation.\n"
          ]
        },
        {
          "output_type": "stream",
          "name": "stdout",
          "text": [
            "Written data for 281.jpg to CSV with prompt.\n",
            "Processing file: 459.jpg\n"
          ]
        },
        {
          "output_type": "stream",
          "name": "stderr",
          "text": [
            "Setting `pad_token_id` to `eos_token_id`:0 for open-end generation.\n"
          ]
        },
        {
          "output_type": "stream",
          "name": "stdout",
          "text": [
            "Written data for 459.jpg to CSV with prompt.\n",
            "Processing file: 323.jpg\n"
          ]
        },
        {
          "output_type": "stream",
          "name": "stderr",
          "text": [
            "Setting `pad_token_id` to `eos_token_id`:0 for open-end generation.\n"
          ]
        },
        {
          "output_type": "stream",
          "name": "stdout",
          "text": [
            "Written data for 323.jpg to CSV with prompt.\n",
            "Processing file: 26.jpg\n"
          ]
        },
        {
          "output_type": "stream",
          "name": "stderr",
          "text": [
            "Setting `pad_token_id` to `eos_token_id`:0 for open-end generation.\n"
          ]
        },
        {
          "output_type": "stream",
          "name": "stdout",
          "text": [
            "Written data for 26.jpg to CSV with prompt.\n",
            "Processing file: 269.jpg\n"
          ]
        },
        {
          "output_type": "stream",
          "name": "stderr",
          "text": [
            "Setting `pad_token_id` to `eos_token_id`:0 for open-end generation.\n"
          ]
        },
        {
          "output_type": "stream",
          "name": "stdout",
          "text": [
            "Written data for 269.jpg to CSV with prompt.\n",
            "Processing file: 327.jpg\n"
          ]
        },
        {
          "output_type": "stream",
          "name": "stderr",
          "text": [
            "Setting `pad_token_id` to `eos_token_id`:0 for open-end generation.\n"
          ]
        },
        {
          "output_type": "stream",
          "name": "stdout",
          "text": [
            "Written data for 327.jpg to CSV with prompt.\n",
            "Processing file: 331.jpg\n"
          ]
        },
        {
          "output_type": "stream",
          "name": "stderr",
          "text": [
            "Setting `pad_token_id` to `eos_token_id`:0 for open-end generation.\n"
          ]
        },
        {
          "output_type": "stream",
          "name": "stdout",
          "text": [
            "Written data for 331.jpg to CSV with prompt.\n",
            "Processing file: 451.jpg\n"
          ]
        },
        {
          "output_type": "stream",
          "name": "stderr",
          "text": [
            "Setting `pad_token_id` to `eos_token_id`:0 for open-end generation.\n"
          ]
        },
        {
          "output_type": "stream",
          "name": "stdout",
          "text": [
            "Written data for 451.jpg to CSV with prompt.\n",
            "Processing file: 284.jpg\n"
          ]
        },
        {
          "output_type": "stream",
          "name": "stderr",
          "text": [
            "Setting `pad_token_id` to `eos_token_id`:0 for open-end generation.\n"
          ]
        },
        {
          "output_type": "stream",
          "name": "stdout",
          "text": [
            "Written data for 284.jpg to CSV with prompt.\n",
            "Processing file: 157.jpg\n"
          ]
        },
        {
          "output_type": "stream",
          "name": "stderr",
          "text": [
            "Setting `pad_token_id` to `eos_token_id`:0 for open-end generation.\n"
          ]
        },
        {
          "output_type": "stream",
          "name": "stdout",
          "text": [
            "Written data for 157.jpg to CSV with prompt.\n",
            "Processing file: 297.jpg\n"
          ]
        },
        {
          "output_type": "stream",
          "name": "stderr",
          "text": [
            "Setting `pad_token_id` to `eos_token_id`:0 for open-end generation.\n"
          ]
        },
        {
          "output_type": "stream",
          "name": "stdout",
          "text": [
            "Written data for 297.jpg to CSV with prompt.\n",
            "Processing file: 461.jpg\n"
          ]
        },
        {
          "output_type": "stream",
          "name": "stderr",
          "text": [
            "Setting `pad_token_id` to `eos_token_id`:0 for open-end generation.\n"
          ]
        },
        {
          "output_type": "stream",
          "name": "stdout",
          "text": [
            "Written data for 461.jpg to CSV with prompt.\n",
            "Processing file: 425.jpg\n"
          ]
        },
        {
          "output_type": "stream",
          "name": "stderr",
          "text": [
            "Setting `pad_token_id` to `eos_token_id`:0 for open-end generation.\n"
          ]
        },
        {
          "output_type": "stream",
          "name": "stdout",
          "text": [
            "Written data for 425.jpg to CSV with prompt.\n",
            "Processing file: 460.jpg\n"
          ]
        },
        {
          "output_type": "stream",
          "name": "stderr",
          "text": [
            "Setting `pad_token_id` to `eos_token_id`:0 for open-end generation.\n"
          ]
        },
        {
          "output_type": "stream",
          "name": "stdout",
          "text": [
            "Written data for 460.jpg to CSV with prompt.\n",
            "Processing file: 195.jpg\n"
          ]
        },
        {
          "output_type": "stream",
          "name": "stderr",
          "text": [
            "Setting `pad_token_id` to `eos_token_id`:0 for open-end generation.\n"
          ]
        },
        {
          "output_type": "stream",
          "name": "stdout",
          "text": [
            "Written data for 195.jpg to CSV with prompt.\n",
            "Processing file: 46.jpg\n"
          ]
        },
        {
          "output_type": "stream",
          "name": "stderr",
          "text": [
            "Setting `pad_token_id` to `eos_token_id`:0 for open-end generation.\n"
          ]
        },
        {
          "output_type": "stream",
          "name": "stdout",
          "text": [
            "Written data for 46.jpg to CSV with prompt.\n",
            "Processing file: 11.jpg\n"
          ]
        },
        {
          "output_type": "stream",
          "name": "stderr",
          "text": [
            "Setting `pad_token_id` to `eos_token_id`:0 for open-end generation.\n"
          ]
        },
        {
          "output_type": "stream",
          "name": "stdout",
          "text": [
            "Written data for 11.jpg to CSV with prompt.\n",
            "Processing file: 47.jpg\n"
          ]
        },
        {
          "output_type": "stream",
          "name": "stderr",
          "text": [
            "Setting `pad_token_id` to `eos_token_id`:0 for open-end generation.\n"
          ]
        },
        {
          "output_type": "stream",
          "name": "stdout",
          "text": [
            "Written data for 47.jpg to CSV with prompt.\n",
            "Processing file: 475.jpg\n"
          ]
        },
        {
          "output_type": "stream",
          "name": "stderr",
          "text": [
            "Setting `pad_token_id` to `eos_token_id`:0 for open-end generation.\n"
          ]
        },
        {
          "output_type": "stream",
          "name": "stdout",
          "text": [
            "Written data for 475.jpg to CSV with prompt.\n",
            "Processing file: 309.jpg\n"
          ]
        },
        {
          "output_type": "stream",
          "name": "stderr",
          "text": [
            "Setting `pad_token_id` to `eos_token_id`:0 for open-end generation.\n"
          ]
        },
        {
          "output_type": "stream",
          "name": "stdout",
          "text": [
            "Written data for 309.jpg to CSV with prompt.\n",
            "Processing file: 74.jpg\n"
          ]
        },
        {
          "output_type": "stream",
          "name": "stderr",
          "text": [
            "Setting `pad_token_id` to `eos_token_id`:0 for open-end generation.\n"
          ]
        },
        {
          "output_type": "stream",
          "name": "stdout",
          "text": [
            "Written data for 74.jpg to CSV with prompt.\n",
            "Processing file: 295.jpg\n"
          ]
        },
        {
          "output_type": "stream",
          "name": "stderr",
          "text": [
            "Setting `pad_token_id` to `eos_token_id`:0 for open-end generation.\n"
          ]
        },
        {
          "output_type": "stream",
          "name": "stdout",
          "text": [
            "Written data for 295.jpg to CSV with prompt.\n",
            "Processing file: 307.jpg\n"
          ]
        },
        {
          "output_type": "stream",
          "name": "stderr",
          "text": [
            "Setting `pad_token_id` to `eos_token_id`:0 for open-end generation.\n"
          ]
        },
        {
          "output_type": "stream",
          "name": "stdout",
          "text": [
            "Written data for 307.jpg to CSV with prompt.\n",
            "Processing file: 339.jpg\n"
          ]
        },
        {
          "output_type": "stream",
          "name": "stderr",
          "text": [
            "Setting `pad_token_id` to `eos_token_id`:0 for open-end generation.\n"
          ]
        },
        {
          "output_type": "stream",
          "name": "stdout",
          "text": [
            "Written data for 339.jpg to CSV with prompt.\n",
            "Processing file: 154.jpg\n"
          ]
        },
        {
          "output_type": "stream",
          "name": "stderr",
          "text": [
            "Setting `pad_token_id` to `eos_token_id`:0 for open-end generation.\n"
          ]
        },
        {
          "output_type": "stream",
          "name": "stdout",
          "text": [
            "Written data for 154.jpg to CSV with prompt.\n",
            "Processing file: 410.jpg\n"
          ]
        },
        {
          "output_type": "stream",
          "name": "stderr",
          "text": [
            "Setting `pad_token_id` to `eos_token_id`:0 for open-end generation.\n"
          ]
        },
        {
          "output_type": "stream",
          "name": "stdout",
          "text": [
            "Written data for 410.jpg to CSV with prompt.\n",
            "Processing file: 380.jpg\n"
          ]
        },
        {
          "output_type": "stream",
          "name": "stderr",
          "text": [
            "Setting `pad_token_id` to `eos_token_id`:0 for open-end generation.\n"
          ]
        },
        {
          "output_type": "stream",
          "name": "stdout",
          "text": [
            "Written data for 380.jpg to CSV with prompt.\n",
            "Processing file: 342.jpg\n"
          ]
        },
        {
          "output_type": "stream",
          "name": "stderr",
          "text": [
            "Setting `pad_token_id` to `eos_token_id`:0 for open-end generation.\n"
          ]
        },
        {
          "output_type": "stream",
          "name": "stdout",
          "text": [
            "Written data for 342.jpg to CSV with prompt.\n",
            "Processing file: 66.jpg\n"
          ]
        },
        {
          "output_type": "stream",
          "name": "stderr",
          "text": [
            "Setting `pad_token_id` to `eos_token_id`:0 for open-end generation.\n"
          ]
        },
        {
          "output_type": "stream",
          "name": "stdout",
          "text": [
            "Written data for 66.jpg to CSV with prompt.\n",
            "Processing file: 133.jpg\n"
          ]
        },
        {
          "output_type": "stream",
          "name": "stderr",
          "text": [
            "Setting `pad_token_id` to `eos_token_id`:0 for open-end generation.\n"
          ]
        },
        {
          "output_type": "stream",
          "name": "stdout",
          "text": [
            "Written data for 133.jpg to CSV with prompt.\n",
            "Processing file: 115.jpg\n"
          ]
        },
        {
          "output_type": "stream",
          "name": "stderr",
          "text": [
            "Setting `pad_token_id` to `eos_token_id`:0 for open-end generation.\n"
          ]
        },
        {
          "output_type": "stream",
          "name": "stdout",
          "text": [
            "Written data for 115.jpg to CSV with prompt.\n",
            "Processing file: 473.jpg\n"
          ]
        },
        {
          "output_type": "stream",
          "name": "stderr",
          "text": [
            "Setting `pad_token_id` to `eos_token_id`:0 for open-end generation.\n"
          ]
        },
        {
          "output_type": "stream",
          "name": "stdout",
          "text": [
            "Written data for 473.jpg to CSV with prompt.\n",
            "Processing file: 373.jpg\n"
          ]
        },
        {
          "output_type": "stream",
          "name": "stderr",
          "text": [
            "Setting `pad_token_id` to `eos_token_id`:0 for open-end generation.\n"
          ]
        },
        {
          "output_type": "stream",
          "name": "stdout",
          "text": [
            "Written data for 373.jpg to CSV with prompt.\n",
            "Processing file: 368.jpg\n"
          ]
        },
        {
          "output_type": "stream",
          "name": "stderr",
          "text": [
            "Setting `pad_token_id` to `eos_token_id`:0 for open-end generation.\n"
          ]
        },
        {
          "output_type": "stream",
          "name": "stdout",
          "text": [
            "Written data for 368.jpg to CSV with prompt.\n",
            "Processing file: 127.jpg\n"
          ]
        },
        {
          "output_type": "stream",
          "name": "stderr",
          "text": [
            "Setting `pad_token_id` to `eos_token_id`:0 for open-end generation.\n"
          ]
        },
        {
          "output_type": "stream",
          "name": "stdout",
          "text": [
            "Written data for 127.jpg to CSV with prompt.\n",
            "Processing file: 59.jpg\n"
          ]
        },
        {
          "output_type": "stream",
          "name": "stderr",
          "text": [
            "Setting `pad_token_id` to `eos_token_id`:0 for open-end generation.\n"
          ]
        },
        {
          "output_type": "stream",
          "name": "stdout",
          "text": [
            "Written data for 59.jpg to CSV with prompt.\n",
            "Processing file: 303.jpg\n"
          ]
        },
        {
          "output_type": "stream",
          "name": "stderr",
          "text": [
            "Setting `pad_token_id` to `eos_token_id`:0 for open-end generation.\n"
          ]
        },
        {
          "output_type": "stream",
          "name": "stdout",
          "text": [
            "Written data for 303.jpg to CSV with prompt.\n",
            "Processing file: 173.jpg\n"
          ]
        },
        {
          "output_type": "stream",
          "name": "stderr",
          "text": [
            "Setting `pad_token_id` to `eos_token_id`:0 for open-end generation.\n"
          ]
        },
        {
          "output_type": "stream",
          "name": "stdout",
          "text": [
            "Written data for 173.jpg to CSV with prompt.\n",
            "Processing file: 490.jpg\n"
          ]
        },
        {
          "output_type": "stream",
          "name": "stderr",
          "text": [
            "Setting `pad_token_id` to `eos_token_id`:0 for open-end generation.\n"
          ]
        },
        {
          "output_type": "stream",
          "name": "stdout",
          "text": [
            "Written data for 490.jpg to CSV with prompt.\n",
            "Processing file: 188.jpg\n"
          ]
        },
        {
          "output_type": "stream",
          "name": "stderr",
          "text": [
            "Setting `pad_token_id` to `eos_token_id`:0 for open-end generation.\n"
          ]
        },
        {
          "output_type": "stream",
          "name": "stdout",
          "text": [
            "Written data for 188.jpg to CSV with prompt.\n",
            "Processing file: 287.jpg\n"
          ]
        },
        {
          "output_type": "stream",
          "name": "stderr",
          "text": [
            "Setting `pad_token_id` to `eos_token_id`:0 for open-end generation.\n"
          ]
        },
        {
          "output_type": "stream",
          "name": "stdout",
          "text": [
            "Written data for 287.jpg to CSV with prompt.\n",
            "Processing file: 392.jpg\n"
          ]
        },
        {
          "output_type": "stream",
          "name": "stderr",
          "text": [
            "Setting `pad_token_id` to `eos_token_id`:0 for open-end generation.\n"
          ]
        },
        {
          "output_type": "stream",
          "name": "stdout",
          "text": [
            "Written data for 392.jpg to CSV with prompt.\n",
            "Processing file: 142.jpg\n"
          ]
        },
        {
          "output_type": "stream",
          "name": "stderr",
          "text": [
            "Setting `pad_token_id` to `eos_token_id`:0 for open-end generation.\n"
          ]
        },
        {
          "output_type": "stream",
          "name": "stdout",
          "text": [
            "Written data for 142.jpg to CSV with prompt.\n",
            "Processing file: 90.jpg\n"
          ]
        },
        {
          "output_type": "stream",
          "name": "stderr",
          "text": [
            "Setting `pad_token_id` to `eos_token_id`:0 for open-end generation.\n"
          ]
        },
        {
          "output_type": "stream",
          "name": "stdout",
          "text": [
            "Written data for 90.jpg to CSV with prompt.\n",
            "Processing file: 360.jpg\n"
          ]
        },
        {
          "output_type": "stream",
          "name": "stderr",
          "text": [
            "Setting `pad_token_id` to `eos_token_id`:0 for open-end generation.\n"
          ]
        },
        {
          "output_type": "stream",
          "name": "stdout",
          "text": [
            "Written data for 360.jpg to CSV with prompt.\n",
            "Processing file: 329.jpg\n"
          ]
        },
        {
          "output_type": "stream",
          "name": "stderr",
          "text": [
            "Setting `pad_token_id` to `eos_token_id`:0 for open-end generation.\n"
          ]
        },
        {
          "output_type": "stream",
          "name": "stdout",
          "text": [
            "Written data for 329.jpg to CSV with prompt.\n",
            "Processing file: 298.jpg\n"
          ]
        },
        {
          "output_type": "stream",
          "name": "stderr",
          "text": [
            "Setting `pad_token_id` to `eos_token_id`:0 for open-end generation.\n"
          ]
        },
        {
          "output_type": "stream",
          "name": "stdout",
          "text": [
            "Written data for 298.jpg to CSV with prompt.\n",
            "Processing file: 424.jpg\n"
          ]
        },
        {
          "output_type": "stream",
          "name": "stderr",
          "text": [
            "Setting `pad_token_id` to `eos_token_id`:0 for open-end generation.\n"
          ]
        },
        {
          "output_type": "stream",
          "name": "stdout",
          "text": [
            "Written data for 424.jpg to CSV with prompt.\n",
            "Processing file: 21.jpg\n"
          ]
        },
        {
          "output_type": "stream",
          "name": "stderr",
          "text": [
            "Setting `pad_token_id` to `eos_token_id`:0 for open-end generation.\n"
          ]
        },
        {
          "output_type": "stream",
          "name": "stdout",
          "text": [
            "Written data for 21.jpg to CSV with prompt.\n",
            "Processing file: 184.jpg\n"
          ]
        },
        {
          "output_type": "stream",
          "name": "stderr",
          "text": [
            "Setting `pad_token_id` to `eos_token_id`:0 for open-end generation.\n"
          ]
        },
        {
          "output_type": "stream",
          "name": "stdout",
          "text": [
            "Written data for 184.jpg to CSV with prompt.\n",
            "Processing file: 396.jpg\n"
          ]
        },
        {
          "output_type": "stream",
          "name": "stderr",
          "text": [
            "Setting `pad_token_id` to `eos_token_id`:0 for open-end generation.\n"
          ]
        },
        {
          "output_type": "stream",
          "name": "stdout",
          "text": [
            "Written data for 396.jpg to CSV with prompt.\n",
            "Processing file: 363.jpg\n"
          ]
        },
        {
          "output_type": "stream",
          "name": "stderr",
          "text": [
            "Setting `pad_token_id` to `eos_token_id`:0 for open-end generation.\n"
          ]
        },
        {
          "output_type": "stream",
          "name": "stdout",
          "text": [
            "Written data for 363.jpg to CSV with prompt.\n",
            "Processing file: 250.jpg\n"
          ]
        },
        {
          "output_type": "stream",
          "name": "stderr",
          "text": [
            "Setting `pad_token_id` to `eos_token_id`:0 for open-end generation.\n"
          ]
        },
        {
          "output_type": "stream",
          "name": "stdout",
          "text": [
            "Written data for 250.jpg to CSV with prompt.\n",
            "Processing file: 13.jpg\n"
          ]
        },
        {
          "output_type": "stream",
          "name": "stderr",
          "text": [
            "Setting `pad_token_id` to `eos_token_id`:0 for open-end generation.\n"
          ]
        },
        {
          "output_type": "stream",
          "name": "stdout",
          "text": [
            "Written data for 13.jpg to CSV with prompt.\n",
            "Processing file: 325.jpg\n"
          ]
        },
        {
          "output_type": "stream",
          "name": "stderr",
          "text": [
            "Setting `pad_token_id` to `eos_token_id`:0 for open-end generation.\n"
          ]
        },
        {
          "output_type": "stream",
          "name": "stdout",
          "text": [
            "Written data for 325.jpg to CSV with prompt.\n",
            "Processing file: 437.jpg\n"
          ]
        },
        {
          "output_type": "stream",
          "name": "stderr",
          "text": [
            "Setting `pad_token_id` to `eos_token_id`:0 for open-end generation.\n"
          ]
        },
        {
          "output_type": "stream",
          "name": "stdout",
          "text": [
            "Written data for 437.jpg to CSV with prompt.\n",
            "Processing file: 69.jpg\n"
          ]
        },
        {
          "output_type": "stream",
          "name": "stderr",
          "text": [
            "Setting `pad_token_id` to `eos_token_id`:0 for open-end generation.\n"
          ]
        },
        {
          "output_type": "stream",
          "name": "stdout",
          "text": [
            "Written data for 69.jpg to CSV with prompt.\n",
            "Processing file: 234.jpg\n"
          ]
        },
        {
          "output_type": "stream",
          "name": "stderr",
          "text": [
            "Setting `pad_token_id` to `eos_token_id`:0 for open-end generation.\n"
          ]
        },
        {
          "output_type": "stream",
          "name": "stdout",
          "text": [
            "Written data for 234.jpg to CSV with prompt.\n",
            "Processing file: 302.jpg\n"
          ]
        },
        {
          "output_type": "stream",
          "name": "stderr",
          "text": [
            "Setting `pad_token_id` to `eos_token_id`:0 for open-end generation.\n"
          ]
        },
        {
          "output_type": "stream",
          "name": "stdout",
          "text": [
            "Written data for 302.jpg to CSV with prompt.\n",
            "Processing file: 349.jpg\n"
          ]
        },
        {
          "output_type": "stream",
          "name": "stderr",
          "text": [
            "Setting `pad_token_id` to `eos_token_id`:0 for open-end generation.\n"
          ]
        },
        {
          "output_type": "stream",
          "name": "stdout",
          "text": [
            "Written data for 349.jpg to CSV with prompt.\n",
            "Processing file: 202.jpg\n"
          ]
        },
        {
          "output_type": "stream",
          "name": "stderr",
          "text": [
            "Setting `pad_token_id` to `eos_token_id`:0 for open-end generation.\n"
          ]
        },
        {
          "output_type": "stream",
          "name": "stdout",
          "text": [
            "Written data for 202.jpg to CSV with prompt.\n",
            "Processing file: 468.jpg\n"
          ]
        },
        {
          "output_type": "stream",
          "name": "stderr",
          "text": [
            "Setting `pad_token_id` to `eos_token_id`:0 for open-end generation.\n"
          ]
        },
        {
          "output_type": "stream",
          "name": "stdout",
          "text": [
            "Written data for 468.jpg to CSV with prompt.\n",
            "Processing file: 183.jpg\n"
          ]
        },
        {
          "output_type": "stream",
          "name": "stderr",
          "text": [
            "Setting `pad_token_id` to `eos_token_id`:0 for open-end generation.\n"
          ]
        },
        {
          "output_type": "stream",
          "name": "stdout",
          "text": [
            "Written data for 183.jpg to CSV with prompt.\n",
            "Processing file: 82.jpg\n"
          ]
        },
        {
          "output_type": "stream",
          "name": "stderr",
          "text": [
            "Setting `pad_token_id` to `eos_token_id`:0 for open-end generation.\n"
          ]
        },
        {
          "output_type": "stream",
          "name": "stdout",
          "text": [
            "Written data for 82.jpg to CSV with prompt.\n",
            "Processing file: 227.jpg\n"
          ]
        },
        {
          "output_type": "stream",
          "name": "stderr",
          "text": [
            "Setting `pad_token_id` to `eos_token_id`:0 for open-end generation.\n"
          ]
        },
        {
          "output_type": "stream",
          "name": "stdout",
          "text": [
            "Written data for 227.jpg to CSV with prompt.\n",
            "Processing file: 316.jpg\n"
          ]
        },
        {
          "output_type": "stream",
          "name": "stderr",
          "text": [
            "Setting `pad_token_id` to `eos_token_id`:0 for open-end generation.\n"
          ]
        },
        {
          "output_type": "stream",
          "name": "stdout",
          "text": [
            "Written data for 316.jpg to CSV with prompt.\n",
            "Processing file: 25.jpg\n"
          ]
        },
        {
          "output_type": "stream",
          "name": "stderr",
          "text": [
            "Setting `pad_token_id` to `eos_token_id`:0 for open-end generation.\n"
          ]
        },
        {
          "output_type": "stream",
          "name": "stdout",
          "text": [
            "Written data for 25.jpg to CSV with prompt.\n",
            "Processing file: 45.jpg\n"
          ]
        },
        {
          "output_type": "stream",
          "name": "stderr",
          "text": [
            "Setting `pad_token_id` to `eos_token_id`:0 for open-end generation.\n"
          ]
        },
        {
          "output_type": "stream",
          "name": "stdout",
          "text": [
            "Written data for 45.jpg to CSV with prompt.\n",
            "Processing file: 439.jpg\n"
          ]
        },
        {
          "output_type": "stream",
          "name": "stderr",
          "text": [
            "Setting `pad_token_id` to `eos_token_id`:0 for open-end generation.\n"
          ]
        },
        {
          "output_type": "stream",
          "name": "stdout",
          "text": [
            "Written data for 439.jpg to CSV with prompt.\n",
            "Processing file: 453.jpg\n"
          ]
        },
        {
          "output_type": "stream",
          "name": "stderr",
          "text": [
            "Setting `pad_token_id` to `eos_token_id`:0 for open-end generation.\n"
          ]
        },
        {
          "output_type": "stream",
          "name": "stdout",
          "text": [
            "Written data for 453.jpg to CSV with prompt.\n",
            "Processing file: 201.jpg\n"
          ]
        },
        {
          "output_type": "stream",
          "name": "stderr",
          "text": [
            "Setting `pad_token_id` to `eos_token_id`:0 for open-end generation.\n"
          ]
        },
        {
          "output_type": "stream",
          "name": "stdout",
          "text": [
            "Written data for 201.jpg to CSV with prompt.\n",
            "Processing file: 94.jpg\n"
          ]
        },
        {
          "output_type": "stream",
          "name": "stderr",
          "text": [
            "Setting `pad_token_id` to `eos_token_id`:0 for open-end generation.\n"
          ]
        },
        {
          "output_type": "stream",
          "name": "stdout",
          "text": [
            "Written data for 94.jpg to CSV with prompt.\n",
            "Processing file: 255.jpg\n"
          ]
        },
        {
          "output_type": "stream",
          "name": "stderr",
          "text": [
            "Setting `pad_token_id` to `eos_token_id`:0 for open-end generation.\n"
          ]
        },
        {
          "output_type": "stream",
          "name": "stdout",
          "text": [
            "Written data for 255.jpg to CSV with prompt.\n",
            "Processing file: 421.jpg\n"
          ]
        },
        {
          "output_type": "stream",
          "name": "stderr",
          "text": [
            "Setting `pad_token_id` to `eos_token_id`:0 for open-end generation.\n"
          ]
        },
        {
          "output_type": "stream",
          "name": "stdout",
          "text": [
            "Written data for 421.jpg to CSV with prompt.\n",
            "Processing file: 261.jpg\n"
          ]
        },
        {
          "output_type": "stream",
          "name": "stderr",
          "text": [
            "Setting `pad_token_id` to `eos_token_id`:0 for open-end generation.\n"
          ]
        },
        {
          "output_type": "stream",
          "name": "stdout",
          "text": [
            "Written data for 261.jpg to CSV with prompt.\n",
            "Processing file: 418.jpg\n"
          ]
        },
        {
          "output_type": "stream",
          "name": "stderr",
          "text": [
            "Setting `pad_token_id` to `eos_token_id`:0 for open-end generation.\n"
          ]
        },
        {
          "output_type": "stream",
          "name": "stdout",
          "text": [
            "Written data for 418.jpg to CSV with prompt.\n",
            "Processing file: 114.jpg\n"
          ]
        },
        {
          "output_type": "stream",
          "name": "stderr",
          "text": [
            "Setting `pad_token_id` to `eos_token_id`:0 for open-end generation.\n"
          ]
        },
        {
          "output_type": "stream",
          "name": "stdout",
          "text": [
            "Written data for 114.jpg to CSV with prompt.\n",
            "Processing file: 153.jpg\n"
          ]
        },
        {
          "output_type": "stream",
          "name": "stderr",
          "text": [
            "Setting `pad_token_id` to `eos_token_id`:0 for open-end generation.\n"
          ]
        },
        {
          "output_type": "stream",
          "name": "stdout",
          "text": [
            "Written data for 153.jpg to CSV with prompt.\n",
            "Processing file: 229.jpg\n"
          ]
        },
        {
          "output_type": "stream",
          "name": "stderr",
          "text": [
            "Setting `pad_token_id` to `eos_token_id`:0 for open-end generation.\n"
          ]
        },
        {
          "output_type": "stream",
          "name": "stdout",
          "text": [
            "Written data for 229.jpg to CSV with prompt.\n",
            "Processing file: 471.jpg\n"
          ]
        },
        {
          "output_type": "stream",
          "name": "stderr",
          "text": [
            "Setting `pad_token_id` to `eos_token_id`:0 for open-end generation.\n"
          ]
        },
        {
          "output_type": "stream",
          "name": "stdout",
          "text": [
            "Written data for 471.jpg to CSV with prompt.\n",
            "Processing file: 33.jpg\n"
          ]
        },
        {
          "output_type": "stream",
          "name": "stderr",
          "text": [
            "Setting `pad_token_id` to `eos_token_id`:0 for open-end generation.\n"
          ]
        },
        {
          "output_type": "stream",
          "name": "stdout",
          "text": [
            "Written data for 33.jpg to CSV with prompt.\n",
            "Processing file: 28.jpg\n"
          ]
        },
        {
          "output_type": "stream",
          "name": "stderr",
          "text": [
            "Setting `pad_token_id` to `eos_token_id`:0 for open-end generation.\n"
          ]
        },
        {
          "output_type": "stream",
          "name": "stdout",
          "text": [
            "Written data for 28.jpg to CSV with prompt.\n",
            "Processing file: 99.jpg\n"
          ]
        },
        {
          "output_type": "stream",
          "name": "stderr",
          "text": [
            "Setting `pad_token_id` to `eos_token_id`:0 for open-end generation.\n"
          ]
        },
        {
          "output_type": "stream",
          "name": "stdout",
          "text": [
            "Written data for 99.jpg to CSV with prompt.\n",
            "Processing file: 43.jpg\n"
          ]
        },
        {
          "output_type": "stream",
          "name": "stderr",
          "text": [
            "Setting `pad_token_id` to `eos_token_id`:0 for open-end generation.\n"
          ]
        },
        {
          "output_type": "stream",
          "name": "stdout",
          "text": [
            "Written data for 43.jpg to CSV with prompt.\n",
            "Processing file: 385.jpg\n"
          ]
        },
        {
          "output_type": "stream",
          "name": "stderr",
          "text": [
            "Setting `pad_token_id` to `eos_token_id`:0 for open-end generation.\n"
          ]
        },
        {
          "output_type": "stream",
          "name": "stdout",
          "text": [
            "Written data for 385.jpg to CSV with prompt.\n",
            "Processing file: 275.jpg\n"
          ]
        },
        {
          "output_type": "stream",
          "name": "stderr",
          "text": [
            "Setting `pad_token_id` to `eos_token_id`:0 for open-end generation.\n"
          ]
        },
        {
          "output_type": "stream",
          "name": "stdout",
          "text": [
            "Written data for 275.jpg to CSV with prompt.\n",
            "Processing file: 95.jpg\n"
          ]
        },
        {
          "output_type": "stream",
          "name": "stderr",
          "text": [
            "Setting `pad_token_id` to `eos_token_id`:0 for open-end generation.\n"
          ]
        },
        {
          "output_type": "stream",
          "name": "stdout",
          "text": [
            "Written data for 95.jpg to CSV with prompt.\n",
            "Processing file: 17.jpg\n"
          ]
        },
        {
          "output_type": "stream",
          "name": "stderr",
          "text": [
            "Setting `pad_token_id` to `eos_token_id`:0 for open-end generation.\n"
          ]
        },
        {
          "output_type": "stream",
          "name": "stdout",
          "text": [
            "Written data for 17.jpg to CSV with prompt.\n",
            "Processing file: 65.jpg\n"
          ]
        },
        {
          "output_type": "stream",
          "name": "stderr",
          "text": [
            "Setting `pad_token_id` to `eos_token_id`:0 for open-end generation.\n"
          ]
        },
        {
          "output_type": "stream",
          "name": "stdout",
          "text": [
            "Written data for 65.jpg to CSV with prompt.\n",
            "Processing file: 180.jpg\n"
          ]
        },
        {
          "output_type": "stream",
          "name": "stderr",
          "text": [
            "Setting `pad_token_id` to `eos_token_id`:0 for open-end generation.\n"
          ]
        },
        {
          "output_type": "stream",
          "name": "stdout",
          "text": [
            "Written data for 180.jpg to CSV with prompt.\n",
            "Processing file: 129.jpg\n"
          ]
        },
        {
          "output_type": "stream",
          "name": "stderr",
          "text": [
            "Setting `pad_token_id` to `eos_token_id`:0 for open-end generation.\n"
          ]
        },
        {
          "output_type": "stream",
          "name": "stdout",
          "text": [
            "Written data for 129.jpg to CSV with prompt.\n",
            "Processing file: 289.jpg\n"
          ]
        },
        {
          "output_type": "stream",
          "name": "stderr",
          "text": [
            "Setting `pad_token_id` to `eos_token_id`:0 for open-end generation.\n"
          ]
        },
        {
          "output_type": "stream",
          "name": "stdout",
          "text": [
            "Written data for 289.jpg to CSV with prompt.\n",
            "Processing file: 75.jpg\n"
          ]
        },
        {
          "output_type": "stream",
          "name": "stderr",
          "text": [
            "Setting `pad_token_id` to `eos_token_id`:0 for open-end generation.\n"
          ]
        },
        {
          "output_type": "stream",
          "name": "stdout",
          "text": [
            "Written data for 75.jpg to CSV with prompt.\n",
            "Processing file: 409.jpg\n"
          ]
        },
        {
          "output_type": "stream",
          "name": "stderr",
          "text": [
            "Setting `pad_token_id` to `eos_token_id`:0 for open-end generation.\n"
          ]
        },
        {
          "output_type": "stream",
          "name": "stdout",
          "text": [
            "Written data for 409.jpg to CSV with prompt.\n",
            "Processing file: 228.jpg\n"
          ]
        },
        {
          "output_type": "stream",
          "name": "stderr",
          "text": [
            "Setting `pad_token_id` to `eos_token_id`:0 for open-end generation.\n"
          ]
        },
        {
          "output_type": "stream",
          "name": "stdout",
          "text": [
            "Written data for 228.jpg to CSV with prompt.\n",
            "Processing file: 288.jpg\n"
          ]
        },
        {
          "output_type": "stream",
          "name": "stderr",
          "text": [
            "Setting `pad_token_id` to `eos_token_id`:0 for open-end generation.\n"
          ]
        },
        {
          "output_type": "stream",
          "name": "stdout",
          "text": [
            "Written data for 288.jpg to CSV with prompt.\n",
            "Processing file: 306.jpg\n"
          ]
        },
        {
          "output_type": "stream",
          "name": "stderr",
          "text": [
            "Setting `pad_token_id` to `eos_token_id`:0 for open-end generation.\n"
          ]
        },
        {
          "output_type": "stream",
          "name": "stdout",
          "text": [
            "Written data for 306.jpg to CSV with prompt.\n",
            "Processing file: 296.jpg\n"
          ]
        },
        {
          "output_type": "stream",
          "name": "stderr",
          "text": [
            "Setting `pad_token_id` to `eos_token_id`:0 for open-end generation.\n"
          ]
        },
        {
          "output_type": "stream",
          "name": "stdout",
          "text": [
            "Written data for 296.jpg to CSV with prompt.\n",
            "Processing file: 135.jpg\n"
          ]
        },
        {
          "output_type": "stream",
          "name": "stderr",
          "text": [
            "Setting `pad_token_id` to `eos_token_id`:0 for open-end generation.\n"
          ]
        },
        {
          "output_type": "stream",
          "name": "stdout",
          "text": [
            "Written data for 135.jpg to CSV with prompt.\n",
            "Processing file: 271.jpg\n"
          ]
        },
        {
          "output_type": "stream",
          "name": "stderr",
          "text": [
            "Setting `pad_token_id` to `eos_token_id`:0 for open-end generation.\n"
          ]
        },
        {
          "output_type": "stream",
          "name": "stdout",
          "text": [
            "Written data for 271.jpg to CSV with prompt.\n",
            "Processing file: 175.jpg\n"
          ]
        },
        {
          "output_type": "stream",
          "name": "stderr",
          "text": [
            "Setting `pad_token_id` to `eos_token_id`:0 for open-end generation.\n"
          ]
        },
        {
          "output_type": "stream",
          "name": "stdout",
          "text": [
            "Written data for 175.jpg to CSV with prompt.\n",
            "Processing file: 311.jpg\n"
          ]
        },
        {
          "output_type": "stream",
          "name": "stderr",
          "text": [
            "Setting `pad_token_id` to `eos_token_id`:0 for open-end generation.\n"
          ]
        },
        {
          "output_type": "stream",
          "name": "stdout",
          "text": [
            "Written data for 311.jpg to CSV with prompt.\n",
            "Processing file: 52.jpg\n"
          ]
        },
        {
          "output_type": "stream",
          "name": "stderr",
          "text": [
            "Setting `pad_token_id` to `eos_token_id`:0 for open-end generation.\n"
          ]
        },
        {
          "output_type": "stream",
          "name": "stdout",
          "text": [
            "Written data for 52.jpg to CSV with prompt.\n",
            "Processing file: 2.jpg\n"
          ]
        },
        {
          "output_type": "stream",
          "name": "stderr",
          "text": [
            "Setting `pad_token_id` to `eos_token_id`:0 for open-end generation.\n"
          ]
        },
        {
          "output_type": "stream",
          "name": "stdout",
          "text": [
            "Written data for 2.jpg to CSV with prompt.\n",
            "Processing file: 407.jpg\n"
          ]
        },
        {
          "output_type": "stream",
          "name": "stderr",
          "text": [
            "Setting `pad_token_id` to `eos_token_id`:0 for open-end generation.\n"
          ]
        },
        {
          "output_type": "stream",
          "name": "stdout",
          "text": [
            "Written data for 407.jpg to CSV with prompt.\n",
            "Processing file: 53.jpg\n"
          ]
        },
        {
          "output_type": "stream",
          "name": "stderr",
          "text": [
            "Setting `pad_token_id` to `eos_token_id`:0 for open-end generation.\n"
          ]
        },
        {
          "output_type": "stream",
          "name": "stdout",
          "text": [
            "Written data for 53.jpg to CSV with prompt.\n",
            "Processing file: 324.jpg\n"
          ]
        },
        {
          "output_type": "stream",
          "name": "stderr",
          "text": [
            "Setting `pad_token_id` to `eos_token_id`:0 for open-end generation.\n"
          ]
        },
        {
          "output_type": "stream",
          "name": "stdout",
          "text": [
            "Written data for 324.jpg to CSV with prompt.\n",
            "Processing file: 161.jpg\n"
          ]
        },
        {
          "output_type": "stream",
          "name": "stderr",
          "text": [
            "Setting `pad_token_id` to `eos_token_id`:0 for open-end generation.\n"
          ]
        },
        {
          "output_type": "stream",
          "name": "stdout",
          "text": [
            "Written data for 161.jpg to CSV with prompt.\n",
            "Processing file: 272.jpg\n"
          ]
        },
        {
          "output_type": "stream",
          "name": "stderr",
          "text": [
            "Setting `pad_token_id` to `eos_token_id`:0 for open-end generation.\n"
          ]
        },
        {
          "output_type": "stream",
          "name": "stdout",
          "text": [
            "Written data for 272.jpg to CSV with prompt.\n",
            "Processing file: 315.jpg\n"
          ]
        },
        {
          "output_type": "stream",
          "name": "stderr",
          "text": [
            "Setting `pad_token_id` to `eos_token_id`:0 for open-end generation.\n"
          ]
        },
        {
          "output_type": "stream",
          "name": "stdout",
          "text": [
            "Written data for 315.jpg to CSV with prompt.\n",
            "Processing file: 341.jpg\n"
          ]
        },
        {
          "output_type": "stream",
          "name": "stderr",
          "text": [
            "Setting `pad_token_id` to `eos_token_id`:0 for open-end generation.\n"
          ]
        },
        {
          "output_type": "stream",
          "name": "stdout",
          "text": [
            "Written data for 341.jpg to CSV with prompt.\n",
            "Processing file: 68.jpg\n"
          ]
        },
        {
          "output_type": "stream",
          "name": "stderr",
          "text": [
            "Setting `pad_token_id` to `eos_token_id`:0 for open-end generation.\n"
          ]
        },
        {
          "output_type": "stream",
          "name": "stdout",
          "text": [
            "Written data for 68.jpg to CSV with prompt.\n",
            "Processing file: 246.jpg\n"
          ]
        },
        {
          "output_type": "stream",
          "name": "stderr",
          "text": [
            "Setting `pad_token_id` to `eos_token_id`:0 for open-end generation.\n"
          ]
        },
        {
          "output_type": "stream",
          "name": "stdout",
          "text": [
            "Written data for 246.jpg to CSV with prompt.\n",
            "Processing file: 482.jpg\n"
          ]
        },
        {
          "output_type": "stream",
          "name": "stderr",
          "text": [
            "Setting `pad_token_id` to `eos_token_id`:0 for open-end generation.\n"
          ]
        },
        {
          "output_type": "stream",
          "name": "stdout",
          "text": [
            "Written data for 482.jpg to CSV with prompt.\n",
            "Processing file: 0.jpg\n"
          ]
        },
        {
          "output_type": "stream",
          "name": "stderr",
          "text": [
            "Setting `pad_token_id` to `eos_token_id`:0 for open-end generation.\n"
          ]
        },
        {
          "output_type": "stream",
          "name": "stdout",
          "text": [
            "Written data for 0.jpg to CSV with prompt.\n",
            "Processing file: 73.jpg\n"
          ]
        },
        {
          "output_type": "stream",
          "name": "stderr",
          "text": [
            "Setting `pad_token_id` to `eos_token_id`:0 for open-end generation.\n"
          ]
        },
        {
          "output_type": "stream",
          "name": "stdout",
          "text": [
            "Written data for 73.jpg to CSV with prompt.\n",
            "Processing file: 399.jpg\n"
          ]
        },
        {
          "output_type": "stream",
          "name": "stderr",
          "text": [
            "Setting `pad_token_id` to `eos_token_id`:0 for open-end generation.\n"
          ]
        },
        {
          "output_type": "stream",
          "name": "stdout",
          "text": [
            "Written data for 399.jpg to CSV with prompt.\n",
            "Processing file: 123.jpg\n"
          ]
        },
        {
          "output_type": "stream",
          "name": "stderr",
          "text": [
            "Setting `pad_token_id` to `eos_token_id`:0 for open-end generation.\n"
          ]
        },
        {
          "output_type": "stream",
          "name": "stdout",
          "text": [
            "Written data for 123.jpg to CSV with prompt.\n",
            "Processing file: 118.jpg\n"
          ]
        },
        {
          "output_type": "stream",
          "name": "stderr",
          "text": [
            "Setting `pad_token_id` to `eos_token_id`:0 for open-end generation.\n"
          ]
        },
        {
          "output_type": "stream",
          "name": "stdout",
          "text": [
            "Written data for 118.jpg to CSV with prompt.\n",
            "Processing file: 455.jpg\n"
          ]
        },
        {
          "output_type": "stream",
          "name": "stderr",
          "text": [
            "Setting `pad_token_id` to `eos_token_id`:0 for open-end generation.\n"
          ]
        },
        {
          "output_type": "stream",
          "name": "stdout",
          "text": [
            "Written data for 455.jpg to CSV with prompt.\n",
            "Processing file: 430.jpg\n"
          ]
        },
        {
          "output_type": "stream",
          "name": "stderr",
          "text": [
            "Setting `pad_token_id` to `eos_token_id`:0 for open-end generation.\n"
          ]
        },
        {
          "output_type": "stream",
          "name": "stdout",
          "text": [
            "Written data for 430.jpg to CSV with prompt.\n",
            "Processing file: 193.jpg\n"
          ]
        },
        {
          "output_type": "stream",
          "name": "stderr",
          "text": [
            "Setting `pad_token_id` to `eos_token_id`:0 for open-end generation.\n"
          ]
        },
        {
          "output_type": "stream",
          "name": "stdout",
          "text": [
            "Written data for 193.jpg to CSV with prompt.\n",
            "Processing file: 290.jpg\n"
          ]
        },
        {
          "output_type": "stream",
          "name": "stderr",
          "text": [
            "Setting `pad_token_id` to `eos_token_id`:0 for open-end generation.\n"
          ]
        },
        {
          "output_type": "stream",
          "name": "stdout",
          "text": [
            "Written data for 290.jpg to CSV with prompt.\n",
            "Processing file: 243.jpg\n"
          ]
        },
        {
          "output_type": "stream",
          "name": "stderr",
          "text": [
            "Setting `pad_token_id` to `eos_token_id`:0 for open-end generation.\n"
          ]
        },
        {
          "output_type": "stream",
          "name": "stdout",
          "text": [
            "Written data for 243.jpg to CSV with prompt.\n",
            "Processing file: 198.jpg\n"
          ]
        },
        {
          "output_type": "stream",
          "name": "stderr",
          "text": [
            "Setting `pad_token_id` to `eos_token_id`:0 for open-end generation.\n"
          ]
        },
        {
          "output_type": "stream",
          "name": "stdout",
          "text": [
            "Written data for 198.jpg to CSV with prompt.\n",
            "Processing file: 393.jpg\n"
          ]
        },
        {
          "output_type": "stream",
          "name": "stderr",
          "text": [
            "Setting `pad_token_id` to `eos_token_id`:0 for open-end generation.\n"
          ]
        },
        {
          "output_type": "stream",
          "name": "stdout",
          "text": [
            "Written data for 393.jpg to CSV with prompt.\n",
            "Processing file: 151.jpg\n"
          ]
        },
        {
          "output_type": "stream",
          "name": "stderr",
          "text": [
            "Setting `pad_token_id` to `eos_token_id`:0 for open-end generation.\n"
          ]
        },
        {
          "output_type": "stream",
          "name": "stdout",
          "text": [
            "Written data for 151.jpg to CSV with prompt.\n",
            "Processing file: 72.jpg\n"
          ]
        },
        {
          "output_type": "stream",
          "name": "stderr",
          "text": [
            "Setting `pad_token_id` to `eos_token_id`:0 for open-end generation.\n"
          ]
        },
        {
          "output_type": "stream",
          "name": "stdout",
          "text": [
            "Written data for 72.jpg to CSV with prompt.\n",
            "Processing file: 472.jpg\n"
          ]
        },
        {
          "output_type": "stream",
          "name": "stderr",
          "text": [
            "Setting `pad_token_id` to `eos_token_id`:0 for open-end generation.\n"
          ]
        },
        {
          "output_type": "stream",
          "name": "stdout",
          "text": [
            "Written data for 472.jpg to CSV with prompt.\n",
            "Processing file: 156.jpg\n"
          ]
        },
        {
          "output_type": "stream",
          "name": "stderr",
          "text": [
            "Setting `pad_token_id` to `eos_token_id`:0 for open-end generation.\n"
          ]
        },
        {
          "output_type": "stream",
          "name": "stdout",
          "text": [
            "Written data for 156.jpg to CSV with prompt.\n",
            "Processing file: 224.jpg\n"
          ]
        },
        {
          "output_type": "stream",
          "name": "stderr",
          "text": [
            "Setting `pad_token_id` to `eos_token_id`:0 for open-end generation.\n"
          ]
        },
        {
          "output_type": "stream",
          "name": "stdout",
          "text": [
            "Written data for 224.jpg to CSV with prompt.\n",
            "Processing file: 321.jpg\n"
          ]
        },
        {
          "output_type": "stream",
          "name": "stderr",
          "text": [
            "Setting `pad_token_id` to `eos_token_id`:0 for open-end generation.\n"
          ]
        },
        {
          "output_type": "stream",
          "name": "stdout",
          "text": [
            "Written data for 321.jpg to CSV with prompt.\n",
            "Processing file: 138.jpg\n"
          ]
        },
        {
          "output_type": "stream",
          "name": "stderr",
          "text": [
            "Setting `pad_token_id` to `eos_token_id`:0 for open-end generation.\n"
          ]
        },
        {
          "output_type": "stream",
          "name": "stdout",
          "text": [
            "Written data for 138.jpg to CSV with prompt.\n",
            "Processing file: 350.jpg\n"
          ]
        },
        {
          "output_type": "stream",
          "name": "stderr",
          "text": [
            "Setting `pad_token_id` to `eos_token_id`:0 for open-end generation.\n"
          ]
        },
        {
          "output_type": "stream",
          "name": "stdout",
          "text": [
            "Written data for 350.jpg to CSV with prompt.\n",
            "Processing file: 254.jpg\n"
          ]
        },
        {
          "output_type": "stream",
          "name": "stderr",
          "text": [
            "Setting `pad_token_id` to `eos_token_id`:0 for open-end generation.\n"
          ]
        },
        {
          "output_type": "stream",
          "name": "stdout",
          "text": [
            "Written data for 254.jpg to CSV with prompt.\n",
            "Processing file: 163.jpg\n"
          ]
        },
        {
          "output_type": "stream",
          "name": "stderr",
          "text": [
            "Setting `pad_token_id` to `eos_token_id`:0 for open-end generation.\n"
          ]
        },
        {
          "output_type": "stream",
          "name": "stdout",
          "text": [
            "Written data for 163.jpg to CSV with prompt.\n",
            "Processing file: 176.jpg\n"
          ]
        },
        {
          "output_type": "stream",
          "name": "stderr",
          "text": [
            "Setting `pad_token_id` to `eos_token_id`:0 for open-end generation.\n"
          ]
        },
        {
          "output_type": "stream",
          "name": "stdout",
          "text": [
            "Written data for 176.jpg to CSV with prompt.\n",
            "Processing file: 236.jpg\n"
          ]
        },
        {
          "output_type": "stream",
          "name": "stderr",
          "text": [
            "Setting `pad_token_id` to `eos_token_id`:0 for open-end generation.\n"
          ]
        },
        {
          "output_type": "stream",
          "name": "stdout",
          "text": [
            "Written data for 236.jpg to CSV with prompt.\n",
            "Processing file: 164.jpg\n"
          ]
        },
        {
          "output_type": "stream",
          "name": "stderr",
          "text": [
            "Setting `pad_token_id` to `eos_token_id`:0 for open-end generation.\n"
          ]
        },
        {
          "output_type": "stream",
          "name": "stdout",
          "text": [
            "Written data for 164.jpg to CSV with prompt.\n",
            "Processing file: 270.jpg\n"
          ]
        },
        {
          "output_type": "stream",
          "name": "stderr",
          "text": [
            "Setting `pad_token_id` to `eos_token_id`:0 for open-end generation.\n"
          ]
        },
        {
          "output_type": "stream",
          "name": "stdout",
          "text": [
            "Written data for 270.jpg to CSV with prompt.\n",
            "Processing file: 285.jpg\n"
          ]
        },
        {
          "output_type": "stream",
          "name": "stderr",
          "text": [
            "Setting `pad_token_id` to `eos_token_id`:0 for open-end generation.\n"
          ]
        },
        {
          "output_type": "stream",
          "name": "stdout",
          "text": [
            "Written data for 285.jpg to CSV with prompt.\n",
            "Processing file: 85.jpg\n"
          ]
        },
        {
          "output_type": "stream",
          "name": "stderr",
          "text": [
            "Setting `pad_token_id` to `eos_token_id`:0 for open-end generation.\n"
          ]
        },
        {
          "output_type": "stream",
          "name": "stdout",
          "text": [
            "Written data for 85.jpg to CSV with prompt.\n",
            "Processing file: 458.jpg\n"
          ]
        },
        {
          "output_type": "stream",
          "name": "stderr",
          "text": [
            "Setting `pad_token_id` to `eos_token_id`:0 for open-end generation.\n"
          ]
        },
        {
          "output_type": "stream",
          "name": "stdout",
          "text": [
            "Written data for 458.jpg to CSV with prompt.\n",
            "Processing file: 292.jpg\n"
          ]
        },
        {
          "output_type": "stream",
          "name": "stderr",
          "text": [
            "Setting `pad_token_id` to `eos_token_id`:0 for open-end generation.\n"
          ]
        },
        {
          "output_type": "stream",
          "name": "stdout",
          "text": [
            "Written data for 292.jpg to CSV with prompt.\n",
            "Processing file: 500.jpg\n"
          ]
        },
        {
          "output_type": "stream",
          "name": "stderr",
          "text": [
            "Setting `pad_token_id` to `eos_token_id`:0 for open-end generation.\n"
          ]
        },
        {
          "output_type": "stream",
          "name": "stdout",
          "text": [
            "Written data for 500.jpg to CSV with prompt.\n",
            "Processing file: 37.jpg\n"
          ]
        },
        {
          "output_type": "stream",
          "name": "stderr",
          "text": [
            "Setting `pad_token_id` to `eos_token_id`:0 for open-end generation.\n"
          ]
        },
        {
          "output_type": "stream",
          "name": "stdout",
          "text": [
            "Written data for 37.jpg to CSV with prompt.\n",
            "Processing file: 328.jpg\n"
          ]
        },
        {
          "output_type": "stream",
          "name": "stderr",
          "text": [
            "Setting `pad_token_id` to `eos_token_id`:0 for open-end generation.\n"
          ]
        },
        {
          "output_type": "stream",
          "name": "stdout",
          "text": [
            "Written data for 328.jpg to CSV with prompt.\n",
            "Processing file: 130.jpg\n"
          ]
        },
        {
          "output_type": "stream",
          "name": "stderr",
          "text": [
            "Setting `pad_token_id` to `eos_token_id`:0 for open-end generation.\n"
          ]
        },
        {
          "output_type": "stream",
          "name": "stdout",
          "text": [
            "Written data for 130.jpg to CSV with prompt.\n",
            "Processing file: 240.jpg\n"
          ]
        },
        {
          "output_type": "stream",
          "name": "stderr",
          "text": [
            "Setting `pad_token_id` to `eos_token_id`:0 for open-end generation.\n"
          ]
        },
        {
          "output_type": "stream",
          "name": "stdout",
          "text": [
            "Written data for 240.jpg to CSV with prompt.\n",
            "Processing file: 346.jpg\n"
          ]
        },
        {
          "output_type": "stream",
          "name": "stderr",
          "text": [
            "Setting `pad_token_id` to `eos_token_id`:0 for open-end generation.\n"
          ]
        },
        {
          "output_type": "stream",
          "name": "stdout",
          "text": [
            "Written data for 346.jpg to CSV with prompt.\n",
            "Processing file: 167.jpg\n"
          ]
        },
        {
          "output_type": "stream",
          "name": "stderr",
          "text": [
            "Setting `pad_token_id` to `eos_token_id`:0 for open-end generation.\n"
          ]
        },
        {
          "output_type": "stream",
          "name": "stdout",
          "text": [
            "Written data for 167.jpg to CSV with prompt.\n",
            "Processing file: 477.jpg\n"
          ]
        },
        {
          "output_type": "stream",
          "name": "stderr",
          "text": [
            "Setting `pad_token_id` to `eos_token_id`:0 for open-end generation.\n"
          ]
        },
        {
          "output_type": "stream",
          "name": "stdout",
          "text": [
            "Written data for 477.jpg to CSV with prompt.\n",
            "Processing file: 244.jpg\n"
          ]
        },
        {
          "output_type": "stream",
          "name": "stderr",
          "text": [
            "Setting `pad_token_id` to `eos_token_id`:0 for open-end generation.\n"
          ]
        },
        {
          "output_type": "stream",
          "name": "stdout",
          "text": [
            "Written data for 244.jpg to CSV with prompt.\n",
            "Processing file: 470.jpg\n"
          ]
        },
        {
          "output_type": "stream",
          "name": "stderr",
          "text": [
            "Setting `pad_token_id` to `eos_token_id`:0 for open-end generation.\n"
          ]
        },
        {
          "output_type": "stream",
          "name": "stdout",
          "text": [
            "Written data for 470.jpg to CSV with prompt.\n",
            "Processing file: 128.jpg\n"
          ]
        },
        {
          "output_type": "stream",
          "name": "stderr",
          "text": [
            "Setting `pad_token_id` to `eos_token_id`:0 for open-end generation.\n"
          ]
        },
        {
          "output_type": "stream",
          "name": "stdout",
          "text": [
            "Written data for 128.jpg to CSV with prompt.\n",
            "Processing file: 106.jpg\n"
          ]
        },
        {
          "output_type": "stream",
          "name": "stderr",
          "text": [
            "Setting `pad_token_id` to `eos_token_id`:0 for open-end generation.\n"
          ]
        },
        {
          "output_type": "stream",
          "name": "stdout",
          "text": [
            "Written data for 106.jpg to CSV with prompt.\n",
            "Processing file: 389.jpg\n"
          ]
        },
        {
          "output_type": "stream",
          "name": "stderr",
          "text": [
            "Setting `pad_token_id` to `eos_token_id`:0 for open-end generation.\n"
          ]
        },
        {
          "output_type": "stream",
          "name": "stdout",
          "text": [
            "Written data for 389.jpg to CSV with prompt.\n",
            "Processing file: 225.jpg\n"
          ]
        },
        {
          "output_type": "stream",
          "name": "stderr",
          "text": [
            "Setting `pad_token_id` to `eos_token_id`:0 for open-end generation.\n"
          ]
        },
        {
          "output_type": "stream",
          "name": "stdout",
          "text": [
            "Written data for 225.jpg to CSV with prompt.\n",
            "Processing file: 70.jpg\n"
          ]
        },
        {
          "output_type": "stream",
          "name": "stderr",
          "text": [
            "Setting `pad_token_id` to `eos_token_id`:0 for open-end generation.\n"
          ]
        },
        {
          "output_type": "stream",
          "name": "stdout",
          "text": [
            "Written data for 70.jpg to CSV with prompt.\n",
            "Processing file: 434.jpg\n"
          ]
        },
        {
          "output_type": "stream",
          "name": "stderr",
          "text": [
            "Setting `pad_token_id` to `eos_token_id`:0 for open-end generation.\n"
          ]
        },
        {
          "output_type": "stream",
          "name": "stdout",
          "text": [
            "Written data for 434.jpg to CSV with prompt.\n",
            "Processing file: 214.jpg\n"
          ]
        },
        {
          "output_type": "stream",
          "name": "stderr",
          "text": [
            "Setting `pad_token_id` to `eos_token_id`:0 for open-end generation.\n"
          ]
        },
        {
          "output_type": "stream",
          "name": "stdout",
          "text": [
            "Written data for 214.jpg to CSV with prompt.\n",
            "Processing file: 372.jpg\n"
          ]
        },
        {
          "output_type": "stream",
          "name": "stderr",
          "text": [
            "Setting `pad_token_id` to `eos_token_id`:0 for open-end generation.\n"
          ]
        },
        {
          "output_type": "stream",
          "name": "stdout",
          "text": [
            "Written data for 372.jpg to CSV with prompt.\n",
            "Processing file: 257.jpg\n"
          ]
        },
        {
          "output_type": "stream",
          "name": "stderr",
          "text": [
            "Setting `pad_token_id` to `eos_token_id`:0 for open-end generation.\n"
          ]
        },
        {
          "output_type": "stream",
          "name": "stdout",
          "text": [
            "Written data for 257.jpg to CSV with prompt.\n",
            "Processing file: 132.jpg\n"
          ]
        },
        {
          "output_type": "stream",
          "name": "stderr",
          "text": [
            "Setting `pad_token_id` to `eos_token_id`:0 for open-end generation.\n"
          ]
        },
        {
          "output_type": "stream",
          "name": "stdout",
          "text": [
            "Written data for 132.jpg to CSV with prompt.\n",
            "Processing file: 32.jpg\n"
          ]
        },
        {
          "output_type": "stream",
          "name": "stderr",
          "text": [
            "Setting `pad_token_id` to `eos_token_id`:0 for open-end generation.\n"
          ]
        },
        {
          "output_type": "stream",
          "name": "stdout",
          "text": [
            "Written data for 32.jpg to CSV with prompt.\n",
            "Processing file: 18.jpg\n"
          ]
        },
        {
          "output_type": "stream",
          "name": "stderr",
          "text": [
            "Setting `pad_token_id` to `eos_token_id`:0 for open-end generation.\n"
          ]
        },
        {
          "output_type": "stream",
          "name": "stdout",
          "text": [
            "Written data for 18.jpg to CSV with prompt.\n",
            "Processing file: 467.jpg\n"
          ]
        },
        {
          "output_type": "stream",
          "name": "stderr",
          "text": [
            "Setting `pad_token_id` to `eos_token_id`:0 for open-end generation.\n"
          ]
        },
        {
          "output_type": "stream",
          "name": "stdout",
          "text": [
            "Written data for 467.jpg to CSV with prompt.\n",
            "Processing file: 60.jpg\n"
          ]
        },
        {
          "output_type": "stream",
          "name": "stderr",
          "text": [
            "Setting `pad_token_id` to `eos_token_id`:0 for open-end generation.\n"
          ]
        },
        {
          "output_type": "stream",
          "name": "stdout",
          "text": [
            "Written data for 60.jpg to CSV with prompt.\n",
            "Processing file: 71.jpg\n"
          ]
        },
        {
          "output_type": "stream",
          "name": "stderr",
          "text": [
            "Setting `pad_token_id` to `eos_token_id`:0 for open-end generation.\n"
          ]
        },
        {
          "output_type": "stream",
          "name": "stdout",
          "text": [
            "Written data for 71.jpg to CSV with prompt.\n",
            "Processing file: 182.jpg\n"
          ]
        },
        {
          "output_type": "stream",
          "name": "stderr",
          "text": [
            "Setting `pad_token_id` to `eos_token_id`:0 for open-end generation.\n"
          ]
        },
        {
          "output_type": "stream",
          "name": "stdout",
          "text": [
            "Written data for 182.jpg to CSV with prompt.\n",
            "Processing file: 239.jpg\n"
          ]
        },
        {
          "output_type": "stream",
          "name": "stderr",
          "text": [
            "Setting `pad_token_id` to `eos_token_id`:0 for open-end generation.\n"
          ]
        },
        {
          "output_type": "stream",
          "name": "stdout",
          "text": [
            "Written data for 239.jpg to CSV with prompt.\n",
            "Processing file: 334.jpg\n"
          ]
        },
        {
          "output_type": "stream",
          "name": "stderr",
          "text": [
            "Setting `pad_token_id` to `eos_token_id`:0 for open-end generation.\n"
          ]
        },
        {
          "output_type": "stream",
          "name": "stdout",
          "text": [
            "Written data for 334.jpg to CSV with prompt.\n",
            "Processing file: 88.jpg\n"
          ]
        },
        {
          "output_type": "stream",
          "name": "stderr",
          "text": [
            "Setting `pad_token_id` to `eos_token_id`:0 for open-end generation.\n"
          ]
        },
        {
          "output_type": "stream",
          "name": "stdout",
          "text": [
            "Written data for 88.jpg to CSV with prompt.\n",
            "Processing file: 283.jpg\n"
          ]
        },
        {
          "output_type": "stream",
          "name": "stderr",
          "text": [
            "Setting `pad_token_id` to `eos_token_id`:0 for open-end generation.\n"
          ]
        },
        {
          "output_type": "stream",
          "name": "stdout",
          "text": [
            "Written data for 283.jpg to CSV with prompt.\n",
            "Processing file: 51.jpg\n"
          ]
        },
        {
          "output_type": "stream",
          "name": "stderr",
          "text": [
            "Setting `pad_token_id` to `eos_token_id`:0 for open-end generation.\n"
          ]
        },
        {
          "output_type": "stream",
          "name": "stdout",
          "text": [
            "Written data for 51.jpg to CSV with prompt.\n",
            "Processing file: 487.jpg\n"
          ]
        },
        {
          "output_type": "stream",
          "name": "stderr",
          "text": [
            "Setting `pad_token_id` to `eos_token_id`:0 for open-end generation.\n"
          ]
        },
        {
          "output_type": "stream",
          "name": "stdout",
          "text": [
            "Written data for 487.jpg to CSV with prompt.\n",
            "Processing file: 391.jpg\n"
          ]
        },
        {
          "output_type": "stream",
          "name": "stderr",
          "text": [
            "Setting `pad_token_id` to `eos_token_id`:0 for open-end generation.\n"
          ]
        },
        {
          "output_type": "stream",
          "name": "stdout",
          "text": [
            "Written data for 391.jpg to CSV with prompt.\n",
            "Processing file: 189.jpg\n"
          ]
        },
        {
          "output_type": "stream",
          "name": "stderr",
          "text": [
            "Setting `pad_token_id` to `eos_token_id`:0 for open-end generation.\n"
          ]
        },
        {
          "output_type": "stream",
          "name": "stdout",
          "text": [
            "Written data for 189.jpg to CSV with prompt.\n",
            "Processing file: 428.jpg\n"
          ]
        },
        {
          "output_type": "stream",
          "name": "stderr",
          "text": [
            "Setting `pad_token_id` to `eos_token_id`:0 for open-end generation.\n"
          ]
        },
        {
          "output_type": "stream",
          "name": "stdout",
          "text": [
            "Written data for 428.jpg to CSV with prompt.\n",
            "Processing file: 97.jpg\n"
          ]
        },
        {
          "output_type": "stream",
          "name": "stderr",
          "text": [
            "Setting `pad_token_id` to `eos_token_id`:0 for open-end generation.\n"
          ]
        },
        {
          "output_type": "stream",
          "name": "stdout",
          "text": [
            "Written data for 97.jpg to CSV with prompt.\n",
            "Processing file: 406.jpg\n"
          ]
        },
        {
          "output_type": "stream",
          "name": "stderr",
          "text": [
            "Setting `pad_token_id` to `eos_token_id`:0 for open-end generation.\n"
          ]
        },
        {
          "output_type": "stream",
          "name": "stdout",
          "text": [
            "Written data for 406.jpg to CSV with prompt.\n",
            "Processing file: 125.jpg\n"
          ]
        },
        {
          "output_type": "stream",
          "name": "stderr",
          "text": [
            "Setting `pad_token_id` to `eos_token_id`:0 for open-end generation.\n"
          ]
        },
        {
          "output_type": "stream",
          "name": "stdout",
          "text": [
            "Written data for 125.jpg to CSV with prompt.\n",
            "Processing file: 209.jpg\n"
          ]
        },
        {
          "output_type": "stream",
          "name": "stderr",
          "text": [
            "Setting `pad_token_id` to `eos_token_id`:0 for open-end generation.\n"
          ]
        },
        {
          "output_type": "stream",
          "name": "stdout",
          "text": [
            "Written data for 209.jpg to CSV with prompt.\n",
            "Processing file: 300.jpg\n"
          ]
        },
        {
          "output_type": "stream",
          "name": "stderr",
          "text": [
            "Setting `pad_token_id` to `eos_token_id`:0 for open-end generation.\n"
          ]
        },
        {
          "output_type": "stream",
          "name": "stdout",
          "text": [
            "Written data for 300.jpg to CSV with prompt.\n",
            "Processing file: 381.jpg\n"
          ]
        },
        {
          "output_type": "stream",
          "name": "stderr",
          "text": [
            "Setting `pad_token_id` to `eos_token_id`:0 for open-end generation.\n"
          ]
        },
        {
          "output_type": "stream",
          "name": "stdout",
          "text": [
            "Written data for 381.jpg to CSV with prompt.\n",
            "Processing file: 304.jpg\n"
          ]
        },
        {
          "output_type": "stream",
          "name": "stderr",
          "text": [
            "Setting `pad_token_id` to `eos_token_id`:0 for open-end generation.\n"
          ]
        },
        {
          "output_type": "stream",
          "name": "stdout",
          "text": [
            "Written data for 304.jpg to CSV with prompt.\n",
            "Processing file: 367.jpg\n"
          ]
        },
        {
          "output_type": "stream",
          "name": "stderr",
          "text": [
            "Setting `pad_token_id` to `eos_token_id`:0 for open-end generation.\n"
          ]
        },
        {
          "output_type": "stream",
          "name": "stdout",
          "text": [
            "Written data for 367.jpg to CSV with prompt.\n",
            "Processing file: 486.jpg\n"
          ]
        },
        {
          "output_type": "stream",
          "name": "stderr",
          "text": [
            "Setting `pad_token_id` to `eos_token_id`:0 for open-end generation.\n"
          ]
        },
        {
          "output_type": "stream",
          "name": "stdout",
          "text": [
            "Written data for 486.jpg to CSV with prompt.\n",
            "Processing file: 245.jpg\n"
          ]
        },
        {
          "output_type": "stream",
          "name": "stderr",
          "text": [
            "Setting `pad_token_id` to `eos_token_id`:0 for open-end generation.\n"
          ]
        },
        {
          "output_type": "stream",
          "name": "stdout",
          "text": [
            "Written data for 245.jpg to CSV with prompt.\n",
            "Processing file: 192.jpg\n"
          ]
        },
        {
          "output_type": "stream",
          "name": "stderr",
          "text": [
            "Setting `pad_token_id` to `eos_token_id`:0 for open-end generation.\n"
          ]
        },
        {
          "output_type": "stream",
          "name": "stdout",
          "text": [
            "Written data for 192.jpg to CSV with prompt.\n",
            "Processing file: 378.jpg\n"
          ]
        },
        {
          "output_type": "stream",
          "name": "stderr",
          "text": [
            "Setting `pad_token_id` to `eos_token_id`:0 for open-end generation.\n"
          ]
        },
        {
          "output_type": "stream",
          "name": "stdout",
          "text": [
            "Written data for 378.jpg to CSV with prompt.\n",
            "Processing file: 462.jpg\n"
          ]
        },
        {
          "output_type": "stream",
          "name": "stderr",
          "text": [
            "Setting `pad_token_id` to `eos_token_id`:0 for open-end generation.\n"
          ]
        },
        {
          "output_type": "stream",
          "name": "stdout",
          "text": [
            "Written data for 462.jpg to CSV with prompt.\n",
            "Processing file: 338.jpg\n"
          ]
        },
        {
          "output_type": "stream",
          "name": "stderr",
          "text": [
            "Setting `pad_token_id` to `eos_token_id`:0 for open-end generation.\n"
          ]
        },
        {
          "output_type": "stream",
          "name": "stdout",
          "text": [
            "Written data for 338.jpg to CSV with prompt.\n",
            "Processing file: 353.jpg\n"
          ]
        },
        {
          "output_type": "stream",
          "name": "stderr",
          "text": [
            "Setting `pad_token_id` to `eos_token_id`:0 for open-end generation.\n"
          ]
        },
        {
          "output_type": "stream",
          "name": "stdout",
          "text": [
            "Written data for 353.jpg to CSV with prompt.\n",
            "Processing file: 221.jpg\n"
          ]
        },
        {
          "output_type": "stream",
          "name": "stderr",
          "text": [
            "Setting `pad_token_id` to `eos_token_id`:0 for open-end generation.\n"
          ]
        },
        {
          "output_type": "stream",
          "name": "stdout",
          "text": [
            "Written data for 221.jpg to CSV with prompt.\n",
            "Processing file: 147.jpg\n"
          ]
        },
        {
          "output_type": "stream",
          "name": "stderr",
          "text": [
            "Setting `pad_token_id` to `eos_token_id`:0 for open-end generation.\n"
          ]
        },
        {
          "output_type": "stream",
          "name": "stdout",
          "text": [
            "Written data for 147.jpg to CSV with prompt.\n",
            "Processing file: 388.jpg\n"
          ]
        },
        {
          "output_type": "stream",
          "name": "stderr",
          "text": [
            "Setting `pad_token_id` to `eos_token_id`:0 for open-end generation.\n"
          ]
        },
        {
          "output_type": "stream",
          "name": "stdout",
          "text": [
            "Written data for 388.jpg to CSV with prompt.\n",
            "Processing file: 101.jpg\n"
          ]
        },
        {
          "output_type": "stream",
          "name": "stderr",
          "text": [
            "Setting `pad_token_id` to `eos_token_id`:0 for open-end generation.\n"
          ]
        },
        {
          "output_type": "stream",
          "name": "stdout",
          "text": [
            "Written data for 101.jpg to CSV with prompt.\n",
            "Processing file: 402.jpg\n"
          ]
        },
        {
          "output_type": "stream",
          "name": "stderr",
          "text": [
            "Setting `pad_token_id` to `eos_token_id`:0 for open-end generation.\n"
          ]
        },
        {
          "output_type": "stream",
          "name": "stdout",
          "text": [
            "Written data for 402.jpg to CSV with prompt.\n",
            "Processing file: 448.jpg\n"
          ]
        },
        {
          "output_type": "stream",
          "name": "stderr",
          "text": [
            "Setting `pad_token_id` to `eos_token_id`:0 for open-end generation.\n"
          ]
        },
        {
          "output_type": "stream",
          "name": "stdout",
          "text": [
            "Written data for 448.jpg to CSV with prompt.\n",
            "Processing file: 332.jpg\n"
          ]
        },
        {
          "output_type": "stream",
          "name": "stderr",
          "text": [
            "Setting `pad_token_id` to `eos_token_id`:0 for open-end generation.\n"
          ]
        },
        {
          "output_type": "stream",
          "name": "stdout",
          "text": [
            "Written data for 332.jpg to CSV with prompt.\n",
            "Processing file: 187.jpg\n"
          ]
        },
        {
          "output_type": "stream",
          "name": "stderr",
          "text": [
            "Setting `pad_token_id` to `eos_token_id`:0 for open-end generation.\n"
          ]
        },
        {
          "output_type": "stream",
          "name": "stdout",
          "text": [
            "Written data for 187.jpg to CSV with prompt.\n",
            "Processing file: 144.jpg\n"
          ]
        },
        {
          "output_type": "stream",
          "name": "stderr",
          "text": [
            "Setting `pad_token_id` to `eos_token_id`:0 for open-end generation.\n"
          ]
        },
        {
          "output_type": "stream",
          "name": "stdout",
          "text": [
            "Written data for 144.jpg to CSV with prompt.\n",
            "Processing file: 178.jpg\n"
          ]
        },
        {
          "output_type": "stream",
          "name": "stderr",
          "text": [
            "Setting `pad_token_id` to `eos_token_id`:0 for open-end generation.\n"
          ]
        },
        {
          "output_type": "stream",
          "name": "stdout",
          "text": [
            "Written data for 178.jpg to CSV with prompt.\n",
            "Processing file: 429.jpg\n"
          ]
        },
        {
          "output_type": "stream",
          "name": "stderr",
          "text": [
            "Setting `pad_token_id` to `eos_token_id`:0 for open-end generation.\n"
          ]
        },
        {
          "output_type": "stream",
          "name": "stdout",
          "text": [
            "Written data for 429.jpg to CSV with prompt.\n",
            "Processing file: 122.jpg\n"
          ]
        },
        {
          "output_type": "stream",
          "name": "stderr",
          "text": [
            "Setting `pad_token_id` to `eos_token_id`:0 for open-end generation.\n"
          ]
        },
        {
          "output_type": "stream",
          "name": "stdout",
          "text": [
            "Written data for 122.jpg to CSV with prompt.\n",
            "Processing file: 423.jpg\n"
          ]
        },
        {
          "output_type": "stream",
          "name": "stderr",
          "text": [
            "Setting `pad_token_id` to `eos_token_id`:0 for open-end generation.\n"
          ]
        },
        {
          "output_type": "stream",
          "name": "stdout",
          "text": [
            "Written data for 423.jpg to CSV with prompt.\n",
            "Processing file: 76.jpg\n"
          ]
        },
        {
          "output_type": "stream",
          "name": "stderr",
          "text": [
            "Setting `pad_token_id` to `eos_token_id`:0 for open-end generation.\n"
          ]
        },
        {
          "output_type": "stream",
          "name": "stdout",
          "text": [
            "Written data for 76.jpg to CSV with prompt.\n",
            "Processing file: 337.jpg\n"
          ]
        },
        {
          "output_type": "stream",
          "name": "stderr",
          "text": [
            "Setting `pad_token_id` to `eos_token_id`:0 for open-end generation.\n"
          ]
        },
        {
          "output_type": "stream",
          "name": "stdout",
          "text": [
            "Written data for 337.jpg to CSV with prompt.\n",
            "Processing file: 223.jpg\n"
          ]
        },
        {
          "output_type": "stream",
          "name": "stderr",
          "text": [
            "Setting `pad_token_id` to `eos_token_id`:0 for open-end generation.\n"
          ]
        },
        {
          "output_type": "stream",
          "name": "stdout",
          "text": [
            "Written data for 223.jpg to CSV with prompt.\n",
            "Processing file: 358.jpg\n"
          ]
        },
        {
          "output_type": "stream",
          "name": "stderr",
          "text": [
            "Setting `pad_token_id` to `eos_token_id`:0 for open-end generation.\n"
          ]
        },
        {
          "output_type": "stream",
          "name": "stdout",
          "text": [
            "Written data for 358.jpg to CSV with prompt.\n",
            "Processing file: 443.jpg\n"
          ]
        },
        {
          "output_type": "stream",
          "name": "stderr",
          "text": [
            "Setting `pad_token_id` to `eos_token_id`:0 for open-end generation.\n"
          ]
        },
        {
          "output_type": "stream",
          "name": "stdout",
          "text": [
            "Written data for 443.jpg to CSV with prompt.\n",
            "Processing file: 219.jpg\n"
          ]
        },
        {
          "output_type": "stream",
          "name": "stderr",
          "text": [
            "Setting `pad_token_id` to `eos_token_id`:0 for open-end generation.\n"
          ]
        },
        {
          "output_type": "stream",
          "name": "stdout",
          "text": [
            "Written data for 219.jpg to CSV with prompt.\n",
            "Processing file: 357.jpg\n"
          ]
        },
        {
          "output_type": "stream",
          "name": "stderr",
          "text": [
            "Setting `pad_token_id` to `eos_token_id`:0 for open-end generation.\n"
          ]
        },
        {
          "output_type": "stream",
          "name": "stdout",
          "text": [
            "Written data for 357.jpg to CSV with prompt.\n",
            "Processing file: 168.jpg\n"
          ]
        },
        {
          "output_type": "stream",
          "name": "stderr",
          "text": [
            "Setting `pad_token_id` to `eos_token_id`:0 for open-end generation.\n"
          ]
        },
        {
          "output_type": "stream",
          "name": "stdout",
          "text": [
            "Written data for 168.jpg to CSV with prompt.\n",
            "Processing file: 152.jpg\n"
          ]
        },
        {
          "output_type": "stream",
          "name": "stderr",
          "text": [
            "Setting `pad_token_id` to `eos_token_id`:0 for open-end generation.\n"
          ]
        },
        {
          "output_type": "stream",
          "name": "stdout",
          "text": [
            "Written data for 152.jpg to CSV with prompt.\n",
            "Processing file: 140.jpg\n"
          ]
        },
        {
          "output_type": "stream",
          "name": "stderr",
          "text": [
            "Setting `pad_token_id` to `eos_token_id`:0 for open-end generation.\n"
          ]
        },
        {
          "output_type": "stream",
          "name": "stdout",
          "text": [
            "Written data for 140.jpg to CSV with prompt.\n",
            "Processing file: 207.jpg\n"
          ]
        },
        {
          "output_type": "stream",
          "name": "stderr",
          "text": [
            "Setting `pad_token_id` to `eos_token_id`:0 for open-end generation.\n"
          ]
        },
        {
          "output_type": "stream",
          "name": "stdout",
          "text": [
            "Written data for 207.jpg to CSV with prompt.\n",
            "Processing file: 432.jpg\n"
          ]
        },
        {
          "output_type": "stream",
          "name": "stderr",
          "text": [
            "Setting `pad_token_id` to `eos_token_id`:0 for open-end generation.\n"
          ]
        },
        {
          "output_type": "stream",
          "name": "stdout",
          "text": [
            "Written data for 432.jpg to CSV with prompt.\n",
            "Processing file: 29.jpg\n"
          ]
        },
        {
          "output_type": "stream",
          "name": "stderr",
          "text": [
            "Setting `pad_token_id` to `eos_token_id`:0 for open-end generation.\n"
          ]
        },
        {
          "output_type": "stream",
          "name": "stdout",
          "text": [
            "Written data for 29.jpg to CSV with prompt.\n",
            "Processing file: 19.jpg\n"
          ]
        },
        {
          "output_type": "stream",
          "name": "stderr",
          "text": [
            "Setting `pad_token_id` to `eos_token_id`:0 for open-end generation.\n"
          ]
        },
        {
          "output_type": "stream",
          "name": "stdout",
          "text": [
            "Written data for 19.jpg to CSV with prompt.\n",
            "Processing file: 336.jpg\n"
          ]
        },
        {
          "output_type": "stream",
          "name": "stderr",
          "text": [
            "Setting `pad_token_id` to `eos_token_id`:0 for open-end generation.\n"
          ]
        },
        {
          "output_type": "stream",
          "name": "stdout",
          "text": [
            "Written data for 336.jpg to CSV with prompt.\n",
            "Processing file: 149.jpg\n"
          ]
        },
        {
          "output_type": "stream",
          "name": "stderr",
          "text": [
            "Setting `pad_token_id` to `eos_token_id`:0 for open-end generation.\n"
          ]
        },
        {
          "output_type": "stream",
          "name": "stdout",
          "text": [
            "Written data for 149.jpg to CSV with prompt.\n",
            "Processing file: 489.jpg\n"
          ]
        },
        {
          "output_type": "stream",
          "name": "stderr",
          "text": [
            "Setting `pad_token_id` to `eos_token_id`:0 for open-end generation.\n"
          ]
        },
        {
          "output_type": "stream",
          "name": "stdout",
          "text": [
            "Written data for 489.jpg to CSV with prompt.\n",
            "Processing file: 320.jpg\n"
          ]
        },
        {
          "output_type": "stream",
          "name": "stderr",
          "text": [
            "Setting `pad_token_id` to `eos_token_id`:0 for open-end generation.\n"
          ]
        },
        {
          "output_type": "stream",
          "name": "stdout",
          "text": [
            "Written data for 320.jpg to CSV with prompt.\n",
            "Processing file: 371.jpg\n"
          ]
        },
        {
          "output_type": "stream",
          "name": "stderr",
          "text": [
            "Setting `pad_token_id` to `eos_token_id`:0 for open-end generation.\n"
          ]
        },
        {
          "output_type": "stream",
          "name": "stdout",
          "text": [
            "Written data for 371.jpg to CSV with prompt.\n",
            "Processing file: 111.jpg\n"
          ]
        },
        {
          "output_type": "stream",
          "name": "stderr",
          "text": [
            "Setting `pad_token_id` to `eos_token_id`:0 for open-end generation.\n"
          ]
        },
        {
          "output_type": "stream",
          "name": "stdout",
          "text": [
            "Written data for 111.jpg to CSV with prompt.\n",
            "Processing file: 3.jpg\n"
          ]
        },
        {
          "output_type": "stream",
          "name": "stderr",
          "text": [
            "Setting `pad_token_id` to `eos_token_id`:0 for open-end generation.\n"
          ]
        },
        {
          "output_type": "stream",
          "name": "stdout",
          "text": [
            "Written data for 3.jpg to CSV with prompt.\n",
            "Processing file: 403.jpg\n"
          ]
        },
        {
          "output_type": "stream",
          "name": "stderr",
          "text": [
            "Setting `pad_token_id` to `eos_token_id`:0 for open-end generation.\n"
          ]
        },
        {
          "output_type": "stream",
          "name": "stdout",
          "text": [
            "Written data for 403.jpg to CSV with prompt.\n",
            "Processing file: 397.jpg\n"
          ]
        },
        {
          "output_type": "stream",
          "name": "stderr",
          "text": [
            "Setting `pad_token_id` to `eos_token_id`:0 for open-end generation.\n"
          ]
        },
        {
          "output_type": "stream",
          "name": "stdout",
          "text": [
            "Written data for 397.jpg to CSV with prompt.\n",
            "Processing file: 208.jpg\n"
          ]
        },
        {
          "output_type": "stream",
          "name": "stderr",
          "text": [
            "Setting `pad_token_id` to `eos_token_id`:0 for open-end generation.\n"
          ]
        },
        {
          "output_type": "stream",
          "name": "stdout",
          "text": [
            "Written data for 208.jpg to CSV with prompt.\n",
            "Processing file: 280.jpg\n"
          ]
        },
        {
          "output_type": "stream",
          "name": "stderr",
          "text": [
            "Setting `pad_token_id` to `eos_token_id`:0 for open-end generation.\n"
          ]
        },
        {
          "output_type": "stream",
          "name": "stdout",
          "text": [
            "Written data for 280.jpg to CSV with prompt.\n",
            "Processing file: 370.jpg\n"
          ]
        },
        {
          "output_type": "stream",
          "name": "stderr",
          "text": [
            "Setting `pad_token_id` to `eos_token_id`:0 for open-end generation.\n"
          ]
        },
        {
          "output_type": "stream",
          "name": "stdout",
          "text": [
            "Written data for 370.jpg to CSV with prompt.\n",
            "Processing file: 203.jpg\n"
          ]
        },
        {
          "output_type": "stream",
          "name": "stderr",
          "text": [
            "Setting `pad_token_id` to `eos_token_id`:0 for open-end generation.\n"
          ]
        },
        {
          "output_type": "stream",
          "name": "stdout",
          "text": [
            "Written data for 203.jpg to CSV with prompt.\n",
            "Processing file: 382.jpg\n"
          ]
        },
        {
          "output_type": "stream",
          "name": "stderr",
          "text": [
            "Setting `pad_token_id` to `eos_token_id`:0 for open-end generation.\n"
          ]
        },
        {
          "output_type": "stream",
          "name": "stdout",
          "text": [
            "Written data for 382.jpg to CSV with prompt.\n",
            "Processing file: 165.jpg\n"
          ]
        },
        {
          "output_type": "stream",
          "name": "stderr",
          "text": [
            "Setting `pad_token_id` to `eos_token_id`:0 for open-end generation.\n"
          ]
        },
        {
          "output_type": "stream",
          "name": "stdout",
          "text": [
            "Written data for 165.jpg to CSV with prompt.\n",
            "Processing file: 480.jpg\n"
          ]
        },
        {
          "output_type": "stream",
          "name": "stderr",
          "text": [
            "Setting `pad_token_id` to `eos_token_id`:0 for open-end generation.\n"
          ]
        },
        {
          "output_type": "stream",
          "name": "stdout",
          "text": [
            "Written data for 480.jpg to CSV with prompt.\n",
            "Processing file: 488.jpg\n"
          ]
        },
        {
          "output_type": "stream",
          "name": "stderr",
          "text": [
            "Setting `pad_token_id` to `eos_token_id`:0 for open-end generation.\n"
          ]
        },
        {
          "output_type": "stream",
          "name": "stdout",
          "text": [
            "Written data for 488.jpg to CSV with prompt.\n",
            "Processing file: 348.jpg\n"
          ]
        },
        {
          "output_type": "stream",
          "name": "stderr",
          "text": [
            "Setting `pad_token_id` to `eos_token_id`:0 for open-end generation.\n"
          ]
        },
        {
          "output_type": "stream",
          "name": "stdout",
          "text": [
            "Written data for 348.jpg to CSV with prompt.\n",
            "Processing file: 497.jpg\n"
          ]
        },
        {
          "output_type": "stream",
          "name": "stderr",
          "text": [
            "Setting `pad_token_id` to `eos_token_id`:0 for open-end generation.\n"
          ]
        },
        {
          "output_type": "stream",
          "name": "stdout",
          "text": [
            "Written data for 497.jpg to CSV with prompt.\n",
            "Processing file: 450.jpg\n"
          ]
        },
        {
          "output_type": "stream",
          "name": "stderr",
          "text": [
            "Setting `pad_token_id` to `eos_token_id`:0 for open-end generation.\n"
          ]
        },
        {
          "output_type": "stream",
          "name": "stdout",
          "text": [
            "Written data for 450.jpg to CSV with prompt.\n",
            "Processing file: 442.jpg\n"
          ]
        },
        {
          "output_type": "stream",
          "name": "stderr",
          "text": [
            "Setting `pad_token_id` to `eos_token_id`:0 for open-end generation.\n"
          ]
        },
        {
          "output_type": "stream",
          "name": "stdout",
          "text": [
            "Written data for 442.jpg to CSV with prompt.\n",
            "Processing file: 131.jpg\n"
          ]
        },
        {
          "output_type": "stream",
          "name": "stderr",
          "text": [
            "Setting `pad_token_id` to `eos_token_id`:0 for open-end generation.\n"
          ]
        },
        {
          "output_type": "stream",
          "name": "stdout",
          "text": [
            "Written data for 131.jpg to CSV with prompt.\n",
            "Processing file: 22.jpg\n"
          ]
        },
        {
          "output_type": "stream",
          "name": "stderr",
          "text": [
            "Setting `pad_token_id` to `eos_token_id`:0 for open-end generation.\n"
          ]
        },
        {
          "output_type": "stream",
          "name": "stdout",
          "text": [
            "Written data for 22.jpg to CSV with prompt.\n",
            "Processing file: 308.jpg\n"
          ]
        },
        {
          "output_type": "stream",
          "name": "stderr",
          "text": [
            "Setting `pad_token_id` to `eos_token_id`:0 for open-end generation.\n"
          ]
        },
        {
          "output_type": "stream",
          "name": "stdout",
          "text": [
            "Written data for 308.jpg to CSV with prompt.\n",
            "Processing file: 36.jpg\n"
          ]
        },
        {
          "output_type": "stream",
          "name": "stderr",
          "text": [
            "Setting `pad_token_id` to `eos_token_id`:0 for open-end generation.\n"
          ]
        },
        {
          "output_type": "stream",
          "name": "stdout",
          "text": [
            "Written data for 36.jpg to CSV with prompt.\n",
            "Processing file: 356.jpg\n"
          ]
        },
        {
          "output_type": "stream",
          "name": "stderr",
          "text": [
            "Setting `pad_token_id` to `eos_token_id`:0 for open-end generation.\n"
          ]
        },
        {
          "output_type": "stream",
          "name": "stdout",
          "text": [
            "Written data for 356.jpg to CSV with prompt.\n",
            "Processing file: 63.jpg\n"
          ]
        },
        {
          "output_type": "stream",
          "name": "stderr",
          "text": [
            "Setting `pad_token_id` to `eos_token_id`:0 for open-end generation.\n"
          ]
        },
        {
          "output_type": "stream",
          "name": "stdout",
          "text": [
            "Written data for 63.jpg to CSV with prompt.\n",
            "Processing file: 55.jpg\n"
          ]
        },
        {
          "output_type": "stream",
          "name": "stderr",
          "text": [
            "Setting `pad_token_id` to `eos_token_id`:0 for open-end generation.\n"
          ]
        },
        {
          "output_type": "stream",
          "name": "stdout",
          "text": [
            "Written data for 55.jpg to CSV with prompt.\n",
            "Processing file: 485.jpg\n"
          ]
        },
        {
          "output_type": "stream",
          "name": "stderr",
          "text": [
            "Setting `pad_token_id` to `eos_token_id`:0 for open-end generation.\n"
          ]
        },
        {
          "output_type": "stream",
          "name": "stdout",
          "text": [
            "Written data for 485.jpg to CSV with prompt.\n",
            "Processing file: 83.jpg\n"
          ]
        },
        {
          "output_type": "stream",
          "name": "stderr",
          "text": [
            "Setting `pad_token_id` to `eos_token_id`:0 for open-end generation.\n"
          ]
        },
        {
          "output_type": "stream",
          "name": "stdout",
          "text": [
            "Written data for 83.jpg to CSV with prompt.\n",
            "Processing file: 8.jpg\n"
          ]
        },
        {
          "output_type": "stream",
          "name": "stderr",
          "text": [
            "Setting `pad_token_id` to `eos_token_id`:0 for open-end generation.\n"
          ]
        },
        {
          "output_type": "stream",
          "name": "stdout",
          "text": [
            "Written data for 8.jpg to CSV with prompt.\n",
            "Processing file: 27.jpg\n"
          ]
        },
        {
          "output_type": "stream",
          "name": "stderr",
          "text": [
            "Setting `pad_token_id` to `eos_token_id`:0 for open-end generation.\n"
          ]
        },
        {
          "output_type": "stream",
          "name": "stdout",
          "text": [
            "Written data for 27.jpg to CSV with prompt.\n",
            "Processing file: 476.jpg\n"
          ]
        },
        {
          "output_type": "stream",
          "name": "stderr",
          "text": [
            "Setting `pad_token_id` to `eos_token_id`:0 for open-end generation.\n"
          ]
        },
        {
          "output_type": "stream",
          "name": "stdout",
          "text": [
            "Written data for 476.jpg to CSV with prompt.\n",
            "Processing file: 10.jpg\n"
          ]
        },
        {
          "output_type": "stream",
          "name": "stderr",
          "text": [
            "Setting `pad_token_id` to `eos_token_id`:0 for open-end generation.\n"
          ]
        },
        {
          "output_type": "stream",
          "name": "stdout",
          "text": [
            "Written data for 10.jpg to CSV with prompt.\n",
            "Processing file: 411.jpg\n"
          ]
        },
        {
          "output_type": "stream",
          "name": "stderr",
          "text": [
            "Setting `pad_token_id` to `eos_token_id`:0 for open-end generation.\n"
          ]
        },
        {
          "output_type": "stream",
          "name": "stdout",
          "text": [
            "Written data for 411.jpg to CSV with prompt.\n",
            "Processing file: 199.jpg\n"
          ]
        },
        {
          "output_type": "stream",
          "name": "stderr",
          "text": [
            "Setting `pad_token_id` to `eos_token_id`:0 for open-end generation.\n"
          ]
        },
        {
          "output_type": "stream",
          "name": "stdout",
          "text": [
            "Written data for 199.jpg to CSV with prompt.\n",
            "Processing file: 110.jpg\n"
          ]
        },
        {
          "output_type": "stream",
          "name": "stderr",
          "text": [
            "Setting `pad_token_id` to `eos_token_id`:0 for open-end generation.\n"
          ]
        },
        {
          "output_type": "stream",
          "name": "stdout",
          "text": [
            "Written data for 110.jpg to CSV with prompt.\n",
            "Processing file: 299.jpg\n"
          ]
        },
        {
          "output_type": "stream",
          "name": "stderr",
          "text": [
            "Setting `pad_token_id` to `eos_token_id`:0 for open-end generation.\n"
          ]
        },
        {
          "output_type": "stream",
          "name": "stdout",
          "text": [
            "Written data for 299.jpg to CSV with prompt.\n",
            "Processing file: 145.jpg\n"
          ]
        },
        {
          "output_type": "stream",
          "name": "stderr",
          "text": [
            "Setting `pad_token_id` to `eos_token_id`:0 for open-end generation.\n"
          ]
        },
        {
          "output_type": "stream",
          "name": "stdout",
          "text": [
            "Written data for 145.jpg to CSV with prompt.\n",
            "Processing file: 286.jpg\n"
          ]
        },
        {
          "output_type": "stream",
          "name": "stderr",
          "text": [
            "Setting `pad_token_id` to `eos_token_id`:0 for open-end generation.\n"
          ]
        },
        {
          "output_type": "stream",
          "name": "stdout",
          "text": [
            "Written data for 286.jpg to CSV with prompt.\n",
            "Processing file: 464.jpg\n"
          ]
        },
        {
          "output_type": "stream",
          "name": "stderr",
          "text": [
            "Setting `pad_token_id` to `eos_token_id`:0 for open-end generation.\n"
          ]
        },
        {
          "output_type": "stream",
          "name": "stdout",
          "text": [
            "Written data for 464.jpg to CSV with prompt.\n",
            "Processing file: 54.jpg\n"
          ]
        },
        {
          "output_type": "stream",
          "name": "stderr",
          "text": [
            "Setting `pad_token_id` to `eos_token_id`:0 for open-end generation.\n"
          ]
        },
        {
          "output_type": "stream",
          "name": "stdout",
          "text": [
            "Written data for 54.jpg to CSV with prompt.\n",
            "Processing file: 465.jpg\n"
          ]
        },
        {
          "output_type": "stream",
          "name": "stderr",
          "text": [
            "Setting `pad_token_id` to `eos_token_id`:0 for open-end generation.\n"
          ]
        },
        {
          "output_type": "stream",
          "name": "stdout",
          "text": [
            "Written data for 465.jpg to CSV with prompt.\n",
            "Processing file: 191.jpg\n"
          ]
        },
        {
          "output_type": "stream",
          "name": "stderr",
          "text": [
            "Setting `pad_token_id` to `eos_token_id`:0 for open-end generation.\n"
          ]
        },
        {
          "output_type": "stream",
          "name": "stdout",
          "text": [
            "Written data for 191.jpg to CSV with prompt.\n",
            "Processing file: 185.jpg\n"
          ]
        },
        {
          "output_type": "stream",
          "name": "stderr",
          "text": [
            "Setting `pad_token_id` to `eos_token_id`:0 for open-end generation.\n"
          ]
        },
        {
          "output_type": "stream",
          "name": "stdout",
          "text": [
            "Written data for 185.jpg to CSV with prompt.\n",
            "Processing file: 359.jpg\n"
          ]
        },
        {
          "output_type": "stream",
          "name": "stderr",
          "text": [
            "Setting `pad_token_id` to `eos_token_id`:0 for open-end generation.\n"
          ]
        },
        {
          "output_type": "stream",
          "name": "stdout",
          "text": [
            "Written data for 359.jpg to CSV with prompt.\n",
            "Processing file: 398.jpg\n"
          ]
        },
        {
          "output_type": "stream",
          "name": "stderr",
          "text": [
            "Setting `pad_token_id` to `eos_token_id`:0 for open-end generation.\n"
          ]
        },
        {
          "output_type": "stream",
          "name": "stdout",
          "text": [
            "Written data for 398.jpg to CSV with prompt.\n",
            "Processing file: 150.jpg\n"
          ]
        },
        {
          "output_type": "stream",
          "name": "stderr",
          "text": [
            "Setting `pad_token_id` to `eos_token_id`:0 for open-end generation.\n"
          ]
        },
        {
          "output_type": "stream",
          "name": "stdout",
          "text": [
            "Written data for 150.jpg to CSV with prompt.\n",
            "Processing file: 87.jpg\n"
          ]
        },
        {
          "output_type": "stream",
          "name": "stderr",
          "text": [
            "Setting `pad_token_id` to `eos_token_id`:0 for open-end generation.\n"
          ]
        },
        {
          "output_type": "stream",
          "name": "stdout",
          "text": [
            "Written data for 87.jpg to CSV with prompt.\n",
            "Processing file: 77.jpg\n"
          ]
        },
        {
          "output_type": "stream",
          "name": "stderr",
          "text": [
            "Setting `pad_token_id` to `eos_token_id`:0 for open-end generation.\n"
          ]
        },
        {
          "output_type": "stream",
          "name": "stdout",
          "text": [
            "Written data for 77.jpg to CSV with prompt.\n",
            "Processing file: 362.jpg\n"
          ]
        },
        {
          "output_type": "stream",
          "name": "stderr",
          "text": [
            "Setting `pad_token_id` to `eos_token_id`:0 for open-end generation.\n"
          ]
        },
        {
          "output_type": "stream",
          "name": "stdout",
          "text": [
            "Written data for 362.jpg to CSV with prompt.\n",
            "Processing file: 492.jpg\n"
          ]
        },
        {
          "output_type": "stream",
          "name": "stderr",
          "text": [
            "Setting `pad_token_id` to `eos_token_id`:0 for open-end generation.\n"
          ]
        },
        {
          "output_type": "stream",
          "name": "stdout",
          "text": [
            "Written data for 492.jpg to CSV with prompt.\n",
            "Processing file: 190.jpg\n"
          ]
        },
        {
          "output_type": "stream",
          "name": "stderr",
          "text": [
            "Setting `pad_token_id` to `eos_token_id`:0 for open-end generation.\n"
          ]
        },
        {
          "output_type": "stream",
          "name": "stdout",
          "text": [
            "Written data for 190.jpg to CSV with prompt.\n",
            "Processing file: 91.jpg\n"
          ]
        },
        {
          "output_type": "stream",
          "name": "stderr",
          "text": [
            "Setting `pad_token_id` to `eos_token_id`:0 for open-end generation.\n"
          ]
        },
        {
          "output_type": "stream",
          "name": "stdout",
          "text": [
            "Written data for 91.jpg to CSV with prompt.\n",
            "Processing file: 170.jpg\n"
          ]
        },
        {
          "output_type": "stream",
          "name": "stderr",
          "text": [
            "Setting `pad_token_id` to `eos_token_id`:0 for open-end generation.\n"
          ]
        },
        {
          "output_type": "stream",
          "name": "stdout",
          "text": [
            "Written data for 170.jpg to CSV with prompt.\n",
            "Processing file: 12.jpg\n"
          ]
        },
        {
          "output_type": "stream",
          "name": "stderr",
          "text": [
            "Setting `pad_token_id` to `eos_token_id`:0 for open-end generation.\n"
          ]
        },
        {
          "output_type": "stream",
          "name": "stdout",
          "text": [
            "Written data for 12.jpg to CSV with prompt.\n",
            "Processing file: 126.jpg\n"
          ]
        },
        {
          "output_type": "stream",
          "name": "stderr",
          "text": [
            "Setting `pad_token_id` to `eos_token_id`:0 for open-end generation.\n"
          ]
        },
        {
          "output_type": "stream",
          "name": "stdout",
          "text": [
            "Written data for 126.jpg to CSV with prompt.\n",
            "Processing file: 262.jpg\n"
          ]
        },
        {
          "output_type": "stream",
          "name": "stderr",
          "text": [
            "Setting `pad_token_id` to `eos_token_id`:0 for open-end generation.\n"
          ]
        },
        {
          "output_type": "stream",
          "name": "stdout",
          "text": [
            "Written data for 262.jpg to CSV with prompt.\n",
            "Processing file: 310.jpg\n"
          ]
        },
        {
          "output_type": "stream",
          "name": "stderr",
          "text": [
            "Setting `pad_token_id` to `eos_token_id`:0 for open-end generation.\n"
          ]
        },
        {
          "output_type": "stream",
          "name": "stdout",
          "text": [
            "Written data for 310.jpg to CSV with prompt.\n",
            "Processing file: 412.jpg\n"
          ]
        },
        {
          "output_type": "stream",
          "name": "stderr",
          "text": [
            "Setting `pad_token_id` to `eos_token_id`:0 for open-end generation.\n"
          ]
        },
        {
          "output_type": "stream",
          "name": "stdout",
          "text": [
            "Written data for 412.jpg to CSV with prompt.\n",
            "Processing file: 61.jpg\n"
          ]
        },
        {
          "output_type": "stream",
          "name": "stderr",
          "text": [
            "Setting `pad_token_id` to `eos_token_id`:0 for open-end generation.\n"
          ]
        },
        {
          "output_type": "stream",
          "name": "stdout",
          "text": [
            "Written data for 61.jpg to CSV with prompt.\n",
            "Processing file: 7.jpg\n"
          ]
        },
        {
          "output_type": "stream",
          "name": "stderr",
          "text": [
            "Setting `pad_token_id` to `eos_token_id`:0 for open-end generation.\n"
          ]
        },
        {
          "output_type": "stream",
          "name": "stdout",
          "text": [
            "Written data for 7.jpg to CSV with prompt.\n",
            "Processing file: 179.jpg\n"
          ]
        },
        {
          "output_type": "stream",
          "name": "stderr",
          "text": [
            "Setting `pad_token_id` to `eos_token_id`:0 for open-end generation.\n"
          ]
        },
        {
          "output_type": "stream",
          "name": "stdout",
          "text": [
            "Written data for 179.jpg to CSV with prompt.\n",
            "Processing file: 273.jpg\n"
          ]
        },
        {
          "output_type": "stream",
          "name": "stderr",
          "text": [
            "Setting `pad_token_id` to `eos_token_id`:0 for open-end generation.\n"
          ]
        },
        {
          "output_type": "stream",
          "name": "stdout",
          "text": [
            "Written data for 273.jpg to CSV with prompt.\n",
            "Processing file: 103.jpg\n"
          ]
        },
        {
          "output_type": "stream",
          "name": "stderr",
          "text": [
            "Setting `pad_token_id` to `eos_token_id`:0 for open-end generation.\n"
          ]
        },
        {
          "output_type": "stream",
          "name": "stdout",
          "text": [
            "Written data for 103.jpg to CSV with prompt.\n",
            "Processing file: 89.jpg\n"
          ]
        },
        {
          "output_type": "stream",
          "name": "stderr",
          "text": [
            "Setting `pad_token_id` to `eos_token_id`:0 for open-end generation.\n"
          ]
        },
        {
          "output_type": "stream",
          "name": "stdout",
          "text": [
            "Written data for 89.jpg to CSV with prompt.\n",
            "Processing file: 379.jpg\n"
          ]
        },
        {
          "output_type": "stream",
          "name": "stderr",
          "text": [
            "Setting `pad_token_id` to `eos_token_id`:0 for open-end generation.\n"
          ]
        },
        {
          "output_type": "stream",
          "name": "stdout",
          "text": [
            "Written data for 379.jpg to CSV with prompt.\n",
            "Processing file: 218.jpg\n"
          ]
        },
        {
          "output_type": "stream",
          "name": "stderr",
          "text": [
            "Setting `pad_token_id` to `eos_token_id`:0 for open-end generation.\n"
          ]
        },
        {
          "output_type": "stream",
          "name": "stdout",
          "text": [
            "Written data for 218.jpg to CSV with prompt.\n",
            "Processing file: 279.jpg\n"
          ]
        },
        {
          "output_type": "stream",
          "name": "stderr",
          "text": [
            "Setting `pad_token_id` to `eos_token_id`:0 for open-end generation.\n"
          ]
        },
        {
          "output_type": "stream",
          "name": "stdout",
          "text": [
            "Written data for 279.jpg to CSV with prompt.\n",
            "Processing file: 196.jpg\n"
          ]
        },
        {
          "output_type": "stream",
          "name": "stderr",
          "text": [
            "Setting `pad_token_id` to `eos_token_id`:0 for open-end generation.\n"
          ]
        },
        {
          "output_type": "stream",
          "name": "stdout",
          "text": [
            "Written data for 196.jpg to CSV with prompt.\n",
            "Processing file: 252.jpg\n"
          ]
        },
        {
          "output_type": "stream",
          "name": "stderr",
          "text": [
            "Setting `pad_token_id` to `eos_token_id`:0 for open-end generation.\n"
          ]
        },
        {
          "output_type": "stream",
          "name": "stdout",
          "text": [
            "Written data for 252.jpg to CSV with prompt.\n",
            "Processing file: 213.jpg\n"
          ]
        },
        {
          "output_type": "stream",
          "name": "stderr",
          "text": [
            "Setting `pad_token_id` to `eos_token_id`:0 for open-end generation.\n"
          ]
        },
        {
          "output_type": "stream",
          "name": "stdout",
          "text": [
            "Written data for 213.jpg to CSV with prompt.\n",
            "Processing file: 14.jpg\n"
          ]
        },
        {
          "output_type": "stream",
          "name": "stderr",
          "text": [
            "Setting `pad_token_id` to `eos_token_id`:0 for open-end generation.\n"
          ]
        },
        {
          "output_type": "stream",
          "name": "stdout",
          "text": [
            "Written data for 14.jpg to CSV with prompt.\n",
            "Processing file: 1.jpg\n"
          ]
        },
        {
          "output_type": "stream",
          "name": "stderr",
          "text": [
            "Setting `pad_token_id` to `eos_token_id`:0 for open-end generation.\n"
          ]
        },
        {
          "output_type": "stream",
          "name": "stdout",
          "text": [
            "Written data for 1.jpg to CSV with prompt.\n",
            "Processing file: 116.jpg\n"
          ]
        },
        {
          "output_type": "stream",
          "name": "stderr",
          "text": [
            "Setting `pad_token_id` to `eos_token_id`:0 for open-end generation.\n"
          ]
        },
        {
          "output_type": "stream",
          "name": "stdout",
          "text": [
            "Written data for 116.jpg to CSV with prompt.\n",
            "Processing file: 30.jpg\n"
          ]
        },
        {
          "output_type": "stream",
          "name": "stderr",
          "text": [
            "Setting `pad_token_id` to `eos_token_id`:0 for open-end generation.\n"
          ]
        },
        {
          "output_type": "stream",
          "name": "stdout",
          "text": [
            "Written data for 30.jpg to CSV with prompt.\n",
            "Processing file: 319.jpg\n"
          ]
        },
        {
          "output_type": "stream",
          "name": "stderr",
          "text": [
            "Setting `pad_token_id` to `eos_token_id`:0 for open-end generation.\n"
          ]
        },
        {
          "output_type": "stream",
          "name": "stdout",
          "text": [
            "Written data for 319.jpg to CSV with prompt.\n",
            "Processing file: 81.jpg\n"
          ]
        },
        {
          "output_type": "stream",
          "name": "stderr",
          "text": [
            "Setting `pad_token_id` to `eos_token_id`:0 for open-end generation.\n"
          ]
        },
        {
          "output_type": "stream",
          "name": "stdout",
          "text": [
            "Written data for 81.jpg to CSV with prompt.\n",
            "Processing file: 340.jpg\n"
          ]
        },
        {
          "output_type": "stream",
          "name": "stderr",
          "text": [
            "Setting `pad_token_id` to `eos_token_id`:0 for open-end generation.\n"
          ]
        },
        {
          "output_type": "stream",
          "name": "stdout",
          "text": [
            "Written data for 340.jpg to CSV with prompt.\n",
            "Processing file: 162.jpg\n"
          ]
        },
        {
          "output_type": "stream",
          "name": "stderr",
          "text": [
            "Setting `pad_token_id` to `eos_token_id`:0 for open-end generation.\n"
          ]
        },
        {
          "output_type": "stream",
          "name": "stdout",
          "text": [
            "Written data for 162.jpg to CSV with prompt.\n",
            "Processing file: 222.jpg\n"
          ]
        },
        {
          "output_type": "stream",
          "name": "stderr",
          "text": [
            "Setting `pad_token_id` to `eos_token_id`:0 for open-end generation.\n"
          ]
        },
        {
          "output_type": "stream",
          "name": "stdout",
          "text": [
            "Written data for 222.jpg to CSV with prompt.\n",
            "Processing file: 314.jpg\n"
          ]
        },
        {
          "output_type": "stream",
          "name": "stderr",
          "text": [
            "Setting `pad_token_id` to `eos_token_id`:0 for open-end generation.\n"
          ]
        },
        {
          "output_type": "stream",
          "name": "stdout",
          "text": [
            "Written data for 314.jpg to CSV with prompt.\n",
            "Processing file: 499.jpg\n"
          ]
        },
        {
          "output_type": "stream",
          "name": "stderr",
          "text": [
            "Setting `pad_token_id` to `eos_token_id`:0 for open-end generation.\n"
          ]
        },
        {
          "output_type": "stream",
          "name": "stdout",
          "text": [
            "Written data for 499.jpg to CSV with prompt.\n",
            "Processing file: 247.jpg\n"
          ]
        },
        {
          "output_type": "stream",
          "name": "stderr",
          "text": [
            "Setting `pad_token_id` to `eos_token_id`:0 for open-end generation.\n"
          ]
        },
        {
          "output_type": "stream",
          "name": "stdout",
          "text": [
            "Written data for 247.jpg to CSV with prompt.\n",
            "Processing file: 478.jpg\n"
          ]
        },
        {
          "output_type": "stream",
          "name": "stderr",
          "text": [
            "Setting `pad_token_id` to `eos_token_id`:0 for open-end generation.\n"
          ]
        },
        {
          "output_type": "stream",
          "name": "stdout",
          "text": [
            "Written data for 478.jpg to CSV with prompt.\n",
            "Processing file: 260.jpg\n"
          ]
        },
        {
          "output_type": "stream",
          "name": "stderr",
          "text": [
            "Setting `pad_token_id` to `eos_token_id`:0 for open-end generation.\n"
          ]
        },
        {
          "output_type": "stream",
          "name": "stdout",
          "text": [
            "Written data for 260.jpg to CSV with prompt.\n",
            "Processing file: 79.jpg\n"
          ]
        },
        {
          "output_type": "stream",
          "name": "stderr",
          "text": [
            "Setting `pad_token_id` to `eos_token_id`:0 for open-end generation.\n"
          ]
        },
        {
          "output_type": "stream",
          "name": "stdout",
          "text": [
            "Written data for 79.jpg to CSV with prompt.\n",
            "Processing file: 493.jpg\n"
          ]
        },
        {
          "output_type": "stream",
          "name": "stderr",
          "text": [
            "Setting `pad_token_id` to `eos_token_id`:0 for open-end generation.\n"
          ]
        },
        {
          "output_type": "stream",
          "name": "stdout",
          "text": [
            "Written data for 493.jpg to CSV with prompt.\n",
            "Processing file: 265.jpg\n"
          ]
        },
        {
          "output_type": "stream",
          "name": "stderr",
          "text": [
            "Setting `pad_token_id` to `eos_token_id`:0 for open-end generation.\n"
          ]
        },
        {
          "output_type": "stream",
          "name": "stdout",
          "text": [
            "Written data for 265.jpg to CSV with prompt.\n",
            "Processing file: 186.jpg\n"
          ]
        },
        {
          "output_type": "stream",
          "name": "stderr",
          "text": [
            "Setting `pad_token_id` to `eos_token_id`:0 for open-end generation.\n"
          ]
        },
        {
          "output_type": "stream",
          "name": "stdout",
          "text": [
            "Written data for 186.jpg to CSV with prompt.\n",
            "Processing file: 427.jpg\n"
          ]
        },
        {
          "output_type": "stream",
          "name": "stderr",
          "text": [
            "Setting `pad_token_id` to `eos_token_id`:0 for open-end generation.\n"
          ]
        },
        {
          "output_type": "stream",
          "name": "stdout",
          "text": [
            "Written data for 427.jpg to CSV with prompt.\n",
            "Processing file: 435.jpg\n"
          ]
        },
        {
          "output_type": "stream",
          "name": "stderr",
          "text": [
            "Setting `pad_token_id` to `eos_token_id`:0 for open-end generation.\n"
          ]
        },
        {
          "output_type": "stream",
          "name": "stdout",
          "text": [
            "Written data for 435.jpg to CSV with prompt.\n",
            "Processing file: 200.jpg\n"
          ]
        },
        {
          "output_type": "stream",
          "name": "stderr",
          "text": [
            "Setting `pad_token_id` to `eos_token_id`:0 for open-end generation.\n"
          ]
        },
        {
          "output_type": "stream",
          "name": "stdout",
          "text": [
            "Written data for 200.jpg to CSV with prompt.\n",
            "Processing file: 172.jpg\n"
          ]
        },
        {
          "output_type": "stream",
          "name": "stderr",
          "text": [
            "Setting `pad_token_id` to `eos_token_id`:0 for open-end generation.\n"
          ]
        },
        {
          "output_type": "stream",
          "name": "stdout",
          "text": [
            "Written data for 172.jpg to CSV with prompt.\n",
            "Processing file: 112.jpg\n"
          ]
        },
        {
          "output_type": "stream",
          "name": "stderr",
          "text": [
            "Setting `pad_token_id` to `eos_token_id`:0 for open-end generation.\n"
          ]
        },
        {
          "output_type": "stream",
          "name": "stdout",
          "text": [
            "Written data for 112.jpg to CSV with prompt.\n",
            "Processing file: 136.jpg\n"
          ]
        },
        {
          "output_type": "stream",
          "name": "stderr",
          "text": [
            "Setting `pad_token_id` to `eos_token_id`:0 for open-end generation.\n"
          ]
        },
        {
          "output_type": "stream",
          "name": "stdout",
          "text": [
            "Written data for 136.jpg to CSV with prompt.\n",
            "Processing file: 169.jpg\n"
          ]
        },
        {
          "output_type": "stream",
          "name": "stderr",
          "text": [
            "Setting `pad_token_id` to `eos_token_id`:0 for open-end generation.\n"
          ]
        },
        {
          "output_type": "stream",
          "name": "stdout",
          "text": [
            "Written data for 169.jpg to CSV with prompt.\n",
            "Processing file: 230.jpg\n"
          ]
        },
        {
          "output_type": "stream",
          "name": "stderr",
          "text": [
            "Setting `pad_token_id` to `eos_token_id`:0 for open-end generation.\n"
          ]
        },
        {
          "output_type": "stream",
          "name": "stdout",
          "text": [
            "Written data for 230.jpg to CSV with prompt.\n",
            "Processing file: 351.jpg\n"
          ]
        },
        {
          "output_type": "stream",
          "name": "stderr",
          "text": [
            "Setting `pad_token_id` to `eos_token_id`:0 for open-end generation.\n"
          ]
        },
        {
          "output_type": "stream",
          "name": "stdout",
          "text": [
            "Written data for 351.jpg to CSV with prompt.\n",
            "Processing file: 104.jpg\n"
          ]
        },
        {
          "output_type": "stream",
          "name": "stderr",
          "text": [
            "Setting `pad_token_id` to `eos_token_id`:0 for open-end generation.\n"
          ]
        },
        {
          "output_type": "stream",
          "name": "stdout",
          "text": [
            "Written data for 104.jpg to CSV with prompt.\n",
            "Processing file: 220.jpg\n"
          ]
        },
        {
          "output_type": "stream",
          "name": "stderr",
          "text": [
            "Setting `pad_token_id` to `eos_token_id`:0 for open-end generation.\n"
          ]
        },
        {
          "output_type": "stream",
          "name": "stdout",
          "text": [
            "Written data for 220.jpg to CSV with prompt.\n",
            "Processing file: 253.jpg\n"
          ]
        },
        {
          "output_type": "stream",
          "name": "stderr",
          "text": [
            "Setting `pad_token_id` to `eos_token_id`:0 for open-end generation.\n"
          ]
        },
        {
          "output_type": "stream",
          "name": "stdout",
          "text": [
            "Written data for 253.jpg to CSV with prompt.\n",
            "Processing file: 148.jpg\n"
          ]
        },
        {
          "output_type": "stream",
          "name": "stderr",
          "text": [
            "Setting `pad_token_id` to `eos_token_id`:0 for open-end generation.\n"
          ]
        },
        {
          "output_type": "stream",
          "name": "stdout",
          "text": [
            "Written data for 148.jpg to CSV with prompt.\n",
            "Processing file: 343.jpg\n"
          ]
        },
        {
          "output_type": "stream",
          "name": "stderr",
          "text": [
            "Setting `pad_token_id` to `eos_token_id`:0 for open-end generation.\n"
          ]
        },
        {
          "output_type": "stream",
          "name": "stdout",
          "text": [
            "Written data for 343.jpg to CSV with prompt.\n",
            "Processing file: 364.jpg\n"
          ]
        },
        {
          "output_type": "stream",
          "name": "stderr",
          "text": [
            "Setting `pad_token_id` to `eos_token_id`:0 for open-end generation.\n"
          ]
        },
        {
          "output_type": "stream",
          "name": "stdout",
          "text": [
            "Written data for 364.jpg to CSV with prompt.\n",
            "Processing file: 235.jpg\n"
          ]
        },
        {
          "output_type": "stream",
          "name": "stderr",
          "text": [
            "Setting `pad_token_id` to `eos_token_id`:0 for open-end generation.\n"
          ]
        },
        {
          "output_type": "stream",
          "name": "stdout",
          "text": [
            "Written data for 235.jpg to CSV with prompt.\n",
            "Processing file: 16.jpg\n"
          ]
        },
        {
          "output_type": "stream",
          "name": "stderr",
          "text": [
            "Setting `pad_token_id` to `eos_token_id`:0 for open-end generation.\n"
          ]
        },
        {
          "output_type": "stream",
          "name": "stdout",
          "text": [
            "Written data for 16.jpg to CSV with prompt.\n",
            "Processing file: 62.jpg\n"
          ]
        },
        {
          "output_type": "stream",
          "name": "stderr",
          "text": [
            "Setting `pad_token_id` to `eos_token_id`:0 for open-end generation.\n"
          ]
        },
        {
          "output_type": "stream",
          "name": "stdout",
          "text": [
            "Written data for 62.jpg to CSV with prompt.\n",
            "Processing file: 405.jpg\n"
          ]
        },
        {
          "output_type": "stream",
          "name": "stderr",
          "text": [
            "Setting `pad_token_id` to `eos_token_id`:0 for open-end generation.\n"
          ]
        },
        {
          "output_type": "stream",
          "name": "stdout",
          "text": [
            "Written data for 405.jpg to CSV with prompt.\n",
            "Processing file: 305.jpg\n"
          ]
        },
        {
          "output_type": "stream",
          "name": "stderr",
          "text": [
            "Setting `pad_token_id` to `eos_token_id`:0 for open-end generation.\n"
          ]
        },
        {
          "output_type": "stream",
          "name": "stdout",
          "text": [
            "Written data for 305.jpg to CSV with prompt.\n",
            "Processing file: 226.jpg\n"
          ]
        },
        {
          "output_type": "stream",
          "name": "stderr",
          "text": [
            "Setting `pad_token_id` to `eos_token_id`:0 for open-end generation.\n"
          ]
        },
        {
          "output_type": "stream",
          "name": "stdout",
          "text": [
            "Written data for 226.jpg to CSV with prompt.\n",
            "Processing file: 44.jpg\n"
          ]
        },
        {
          "output_type": "stream",
          "name": "stderr",
          "text": [
            "Setting `pad_token_id` to `eos_token_id`:0 for open-end generation.\n"
          ]
        },
        {
          "output_type": "stream",
          "name": "stdout",
          "text": [
            "Written data for 44.jpg to CSV with prompt.\n",
            "Processing file: 347.jpg\n"
          ]
        },
        {
          "output_type": "stream",
          "name": "stderr",
          "text": [
            "Setting `pad_token_id` to `eos_token_id`:0 for open-end generation.\n"
          ]
        },
        {
          "output_type": "stream",
          "name": "stdout",
          "text": [
            "Written data for 347.jpg to CSV with prompt.\n",
            "Processing file: 374.jpg\n"
          ]
        },
        {
          "output_type": "stream",
          "name": "stderr",
          "text": [
            "Setting `pad_token_id` to `eos_token_id`:0 for open-end generation.\n"
          ]
        },
        {
          "output_type": "stream",
          "name": "stdout",
          "text": [
            "Written data for 374.jpg to CSV with prompt.\n",
            "Processing file: 31.jpg\n"
          ]
        },
        {
          "output_type": "stream",
          "name": "stderr",
          "text": [
            "Setting `pad_token_id` to `eos_token_id`:0 for open-end generation.\n"
          ]
        },
        {
          "output_type": "stream",
          "name": "stdout",
          "text": [
            "Written data for 31.jpg to CSV with prompt.\n",
            "Processing file: 456.jpg\n"
          ]
        },
        {
          "output_type": "stream",
          "name": "stderr",
          "text": [
            "Setting `pad_token_id` to `eos_token_id`:0 for open-end generation.\n"
          ]
        },
        {
          "output_type": "stream",
          "name": "stdout",
          "text": [
            "Written data for 456.jpg to CSV with prompt.\n",
            "Processing file: 404.jpg\n"
          ]
        },
        {
          "output_type": "stream",
          "name": "stderr",
          "text": [
            "Setting `pad_token_id` to `eos_token_id`:0 for open-end generation.\n"
          ]
        },
        {
          "output_type": "stream",
          "name": "stdout",
          "text": [
            "Written data for 404.jpg to CSV with prompt.\n",
            "Processing file: 23.jpg\n"
          ]
        },
        {
          "output_type": "stream",
          "name": "stderr",
          "text": [
            "Setting `pad_token_id` to `eos_token_id`:0 for open-end generation.\n"
          ]
        },
        {
          "output_type": "stream",
          "name": "stdout",
          "text": [
            "Written data for 23.jpg to CSV with prompt.\n",
            "Processing file: 24.jpg\n"
          ]
        },
        {
          "output_type": "stream",
          "name": "stderr",
          "text": [
            "Setting `pad_token_id` to `eos_token_id`:0 for open-end generation.\n"
          ]
        },
        {
          "output_type": "stream",
          "name": "stdout",
          "text": [
            "Written data for 24.jpg to CSV with prompt.\n",
            "Processing file: 20.jpg\n"
          ]
        },
        {
          "output_type": "stream",
          "name": "stderr",
          "text": [
            "Setting `pad_token_id` to `eos_token_id`:0 for open-end generation.\n"
          ]
        },
        {
          "output_type": "stream",
          "name": "stdout",
          "text": [
            "Written data for 20.jpg to CSV with prompt.\n",
            "Processing file: 50.jpg\n"
          ]
        },
        {
          "output_type": "stream",
          "name": "stderr",
          "text": [
            "Setting `pad_token_id` to `eos_token_id`:0 for open-end generation.\n"
          ]
        },
        {
          "output_type": "stream",
          "name": "stdout",
          "text": [
            "Written data for 50.jpg to CSV with prompt.\n",
            "Processing file: 355.jpg\n"
          ]
        },
        {
          "output_type": "stream",
          "name": "stderr",
          "text": [
            "Setting `pad_token_id` to `eos_token_id`:0 for open-end generation.\n"
          ]
        },
        {
          "output_type": "stream",
          "name": "stdout",
          "text": [
            "Written data for 355.jpg to CSV with prompt.\n",
            "Processing file: 39.jpg\n"
          ]
        },
        {
          "output_type": "stream",
          "name": "stderr",
          "text": [
            "Setting `pad_token_id` to `eos_token_id`:0 for open-end generation.\n"
          ]
        },
        {
          "output_type": "stream",
          "name": "stdout",
          "text": [
            "Written data for 39.jpg to CSV with prompt.\n",
            "Processing file: 469.jpg\n"
          ]
        },
        {
          "output_type": "stream",
          "name": "stderr",
          "text": [
            "Setting `pad_token_id` to `eos_token_id`:0 for open-end generation.\n"
          ]
        },
        {
          "output_type": "stream",
          "name": "stdout",
          "text": [
            "Written data for 469.jpg to CSV with prompt.\n",
            "Processing file: 206.jpg\n"
          ]
        },
        {
          "output_type": "stream",
          "name": "stderr",
          "text": [
            "Setting `pad_token_id` to `eos_token_id`:0 for open-end generation.\n"
          ]
        },
        {
          "output_type": "stream",
          "name": "stdout",
          "text": [
            "Written data for 206.jpg to CSV with prompt.\n",
            "Processing file: 113.jpg\n"
          ]
        },
        {
          "output_type": "stream",
          "name": "stderr",
          "text": [
            "Setting `pad_token_id` to `eos_token_id`:0 for open-end generation.\n"
          ]
        },
        {
          "output_type": "stream",
          "name": "stdout",
          "text": [
            "Written data for 113.jpg to CSV with prompt.\n",
            "Processing file: 40.jpg\n"
          ]
        },
        {
          "output_type": "stream",
          "name": "stderr",
          "text": [
            "Setting `pad_token_id` to `eos_token_id`:0 for open-end generation.\n"
          ]
        },
        {
          "output_type": "stream",
          "name": "stdout",
          "text": [
            "Written data for 40.jpg to CSV with prompt.\n",
            "Processing file: 318.jpg\n"
          ]
        },
        {
          "output_type": "stream",
          "name": "stderr",
          "text": [
            "Setting `pad_token_id` to `eos_token_id`:0 for open-end generation.\n"
          ]
        },
        {
          "output_type": "stream",
          "name": "stdout",
          "text": [
            "Written data for 318.jpg to CSV with prompt.\n",
            "Processing file: 452.jpg\n"
          ]
        },
        {
          "output_type": "stream",
          "name": "stderr",
          "text": [
            "Setting `pad_token_id` to `eos_token_id`:0 for open-end generation.\n"
          ]
        },
        {
          "output_type": "stream",
          "name": "stdout",
          "text": [
            "Written data for 452.jpg to CSV with prompt.\n",
            "Processing file: 216.jpg\n"
          ]
        },
        {
          "output_type": "stream",
          "name": "stderr",
          "text": [
            "Setting `pad_token_id` to `eos_token_id`:0 for open-end generation.\n"
          ]
        },
        {
          "output_type": "stream",
          "name": "stdout",
          "text": [
            "Written data for 216.jpg to CSV with prompt.\n",
            "Processing file: 67.jpg\n"
          ]
        },
        {
          "output_type": "stream",
          "name": "stderr",
          "text": [
            "Setting `pad_token_id` to `eos_token_id`:0 for open-end generation.\n"
          ]
        },
        {
          "output_type": "stream",
          "name": "stdout",
          "text": [
            "Written data for 67.jpg to CSV with prompt.\n",
            "Processing file: 386.jpg\n"
          ]
        },
        {
          "output_type": "stream",
          "name": "stderr",
          "text": [
            "Setting `pad_token_id` to `eos_token_id`:0 for open-end generation.\n"
          ]
        },
        {
          "output_type": "stream",
          "name": "stdout",
          "text": [
            "Written data for 386.jpg to CSV with prompt.\n",
            "Processing file: 108.jpg\n"
          ]
        },
        {
          "output_type": "stream",
          "name": "stderr",
          "text": [
            "Setting `pad_token_id` to `eos_token_id`:0 for open-end generation.\n"
          ]
        },
        {
          "output_type": "stream",
          "name": "stdout",
          "text": [
            "Written data for 108.jpg to CSV with prompt.\n",
            "Processing file: 457.jpg\n"
          ]
        },
        {
          "output_type": "stream",
          "name": "stderr",
          "text": [
            "Setting `pad_token_id` to `eos_token_id`:0 for open-end generation.\n"
          ]
        },
        {
          "output_type": "stream",
          "name": "stdout",
          "text": [
            "Written data for 457.jpg to CSV with prompt.\n",
            "Processing file: 177.jpg\n"
          ]
        },
        {
          "output_type": "stream",
          "name": "stderr",
          "text": [
            "Setting `pad_token_id` to `eos_token_id`:0 for open-end generation.\n"
          ]
        },
        {
          "output_type": "stream",
          "name": "stdout",
          "text": [
            "Written data for 177.jpg to CSV with prompt.\n",
            "Processing file: 5.jpg\n"
          ]
        },
        {
          "output_type": "stream",
          "name": "stderr",
          "text": [
            "Setting `pad_token_id` to `eos_token_id`:0 for open-end generation.\n"
          ]
        },
        {
          "output_type": "stream",
          "name": "stdout",
          "text": [
            "Written data for 5.jpg to CSV with prompt.\n",
            "Processing file: 419.jpg\n"
          ]
        },
        {
          "output_type": "stream",
          "name": "stderr",
          "text": [
            "Setting `pad_token_id` to `eos_token_id`:0 for open-end generation.\n"
          ]
        },
        {
          "output_type": "stream",
          "name": "stdout",
          "text": [
            "Written data for 419.jpg to CSV with prompt.\n",
            "Processing file: 431.jpg\n"
          ]
        },
        {
          "output_type": "stream",
          "name": "stderr",
          "text": [
            "Setting `pad_token_id` to `eos_token_id`:0 for open-end generation.\n"
          ]
        },
        {
          "output_type": "stream",
          "name": "stdout",
          "text": [
            "Written data for 431.jpg to CSV with prompt.\n",
            "Processing file: 258.jpg\n"
          ]
        },
        {
          "output_type": "stream",
          "name": "stderr",
          "text": [
            "Setting `pad_token_id` to `eos_token_id`:0 for open-end generation.\n"
          ]
        },
        {
          "output_type": "stream",
          "name": "stdout",
          "text": [
            "Written data for 258.jpg to CSV with prompt.\n",
            "Processing file: 231.jpg\n"
          ]
        },
        {
          "output_type": "stream",
          "name": "stderr",
          "text": [
            "Setting `pad_token_id` to `eos_token_id`:0 for open-end generation.\n"
          ]
        },
        {
          "output_type": "stream",
          "name": "stdout",
          "text": [
            "Written data for 231.jpg to CSV with prompt.\n",
            "Processing file: 414.jpg\n"
          ]
        },
        {
          "output_type": "stream",
          "name": "stderr",
          "text": [
            "Setting `pad_token_id` to `eos_token_id`:0 for open-end generation.\n"
          ]
        },
        {
          "output_type": "stream",
          "name": "stdout",
          "text": [
            "Written data for 414.jpg to CSV with prompt.\n",
            "Processing file: 242.jpg\n"
          ]
        },
        {
          "output_type": "stream",
          "name": "stderr",
          "text": [
            "Setting `pad_token_id` to `eos_token_id`:0 for open-end generation.\n"
          ]
        },
        {
          "output_type": "stream",
          "name": "stdout",
          "text": [
            "Written data for 242.jpg to CSV with prompt.\n",
            "Processing file: 263.jpg\n"
          ]
        },
        {
          "output_type": "stream",
          "name": "stderr",
          "text": [
            "Setting `pad_token_id` to `eos_token_id`:0 for open-end generation.\n"
          ]
        },
        {
          "output_type": "stream",
          "name": "stdout",
          "text": [
            "Written data for 263.jpg to CSV with prompt.\n",
            "Processing file: 454.jpg\n"
          ]
        },
        {
          "output_type": "stream",
          "name": "stderr",
          "text": [
            "Setting `pad_token_id` to `eos_token_id`:0 for open-end generation.\n"
          ]
        },
        {
          "output_type": "stream",
          "name": "stdout",
          "text": [
            "Written data for 454.jpg to CSV with prompt.\n",
            "Processing file: 34.jpg\n"
          ]
        },
        {
          "output_type": "stream",
          "name": "stderr",
          "text": [
            "Setting `pad_token_id` to `eos_token_id`:0 for open-end generation.\n"
          ]
        },
        {
          "output_type": "stream",
          "name": "stdout",
          "text": [
            "Written data for 34.jpg to CSV with prompt.\n",
            "Processing file: 49.jpg\n"
          ]
        },
        {
          "output_type": "stream",
          "name": "stderr",
          "text": [
            "Setting `pad_token_id` to `eos_token_id`:0 for open-end generation.\n"
          ]
        },
        {
          "output_type": "stream",
          "name": "stdout",
          "text": [
            "Written data for 49.jpg to CSV with prompt.\n",
            "Processing file: 84.jpg\n"
          ]
        },
        {
          "output_type": "stream",
          "name": "stderr",
          "text": [
            "Setting `pad_token_id` to `eos_token_id`:0 for open-end generation.\n"
          ]
        },
        {
          "output_type": "stream",
          "name": "stdout",
          "text": [
            "Written data for 84.jpg to CSV with prompt.\n",
            "Processing file: 317.jpg\n"
          ]
        },
        {
          "output_type": "stream",
          "name": "stderr",
          "text": [
            "Setting `pad_token_id` to `eos_token_id`:0 for open-end generation.\n"
          ]
        },
        {
          "output_type": "stream",
          "name": "stdout",
          "text": [
            "Written data for 317.jpg to CSV with prompt.\n",
            "Processing file: 109.jpg\n"
          ]
        },
        {
          "output_type": "stream",
          "name": "stderr",
          "text": [
            "Setting `pad_token_id` to `eos_token_id`:0 for open-end generation.\n"
          ]
        },
        {
          "output_type": "stream",
          "name": "stdout",
          "text": [
            "Written data for 109.jpg to CSV with prompt.\n",
            "Processing file: 117.jpg\n"
          ]
        },
        {
          "output_type": "stream",
          "name": "stderr",
          "text": [
            "Setting `pad_token_id` to `eos_token_id`:0 for open-end generation.\n"
          ]
        },
        {
          "output_type": "stream",
          "name": "stdout",
          "text": [
            "Written data for 117.jpg to CSV with prompt.\n",
            "Processing file: 441.jpg\n"
          ]
        },
        {
          "output_type": "stream",
          "name": "stderr",
          "text": [
            "Setting `pad_token_id` to `eos_token_id`:0 for open-end generation.\n"
          ]
        },
        {
          "output_type": "stream",
          "name": "stdout",
          "text": [
            "Written data for 441.jpg to CSV with prompt.\n",
            "Processing file: 293.jpg\n"
          ]
        },
        {
          "output_type": "stream",
          "name": "stderr",
          "text": [
            "Setting `pad_token_id` to `eos_token_id`:0 for open-end generation.\n"
          ]
        },
        {
          "output_type": "stream",
          "name": "stdout",
          "text": [
            "Written data for 293.jpg to CSV with prompt.\n",
            "Processing file: 278.jpg\n"
          ]
        },
        {
          "output_type": "stream",
          "name": "stderr",
          "text": [
            "Setting `pad_token_id` to `eos_token_id`:0 for open-end generation.\n"
          ]
        },
        {
          "output_type": "stream",
          "name": "stdout",
          "text": [
            "Written data for 278.jpg to CSV with prompt.\n",
            "Processing file: 248.jpg\n"
          ]
        },
        {
          "output_type": "stream",
          "name": "stderr",
          "text": [
            "Setting `pad_token_id` to `eos_token_id`:0 for open-end generation.\n"
          ]
        },
        {
          "output_type": "stream",
          "name": "stdout",
          "text": [
            "Written data for 248.jpg to CSV with prompt.\n",
            "Processing file: 294.jpg\n"
          ]
        },
        {
          "output_type": "stream",
          "name": "stderr",
          "text": [
            "Setting `pad_token_id` to `eos_token_id`:0 for open-end generation.\n"
          ]
        },
        {
          "output_type": "stream",
          "name": "stdout",
          "text": [
            "Written data for 294.jpg to CSV with prompt.\n",
            "Processing file: 474.jpg\n"
          ]
        },
        {
          "output_type": "stream",
          "name": "stderr",
          "text": [
            "Setting `pad_token_id` to `eos_token_id`:0 for open-end generation.\n"
          ]
        },
        {
          "output_type": "stream",
          "name": "stdout",
          "text": [
            "Written data for 474.jpg to CSV with prompt.\n",
            "Processing file: 211.jpg\n"
          ]
        },
        {
          "output_type": "stream",
          "name": "stderr",
          "text": [
            "Setting `pad_token_id` to `eos_token_id`:0 for open-end generation.\n"
          ]
        },
        {
          "output_type": "stream",
          "name": "stdout",
          "text": [
            "Written data for 211.jpg to CSV with prompt.\n",
            "Processing file: 401.jpg\n"
          ]
        },
        {
          "output_type": "stream",
          "name": "stderr",
          "text": [
            "Setting `pad_token_id` to `eos_token_id`:0 for open-end generation.\n"
          ]
        },
        {
          "output_type": "stream",
          "name": "stdout",
          "text": [
            "Written data for 401.jpg to CSV with prompt.\n",
            "Processing file: 384.jpg\n"
          ]
        },
        {
          "output_type": "stream",
          "name": "stderr",
          "text": [
            "Setting `pad_token_id` to `eos_token_id`:0 for open-end generation.\n"
          ]
        },
        {
          "output_type": "stream",
          "name": "stdout",
          "text": [
            "Written data for 384.jpg to CSV with prompt.\n",
            "Processing file: 420.jpg\n"
          ]
        },
        {
          "output_type": "stream",
          "name": "stderr",
          "text": [
            "Setting `pad_token_id` to `eos_token_id`:0 for open-end generation.\n"
          ]
        },
        {
          "output_type": "stream",
          "name": "stdout",
          "text": [
            "Written data for 420.jpg to CSV with prompt.\n",
            "Processing file: 438.jpg\n"
          ]
        },
        {
          "output_type": "stream",
          "name": "stderr",
          "text": [
            "Setting `pad_token_id` to `eos_token_id`:0 for open-end generation.\n"
          ]
        },
        {
          "output_type": "stream",
          "name": "stdout",
          "text": [
            "Written data for 438.jpg to CSV with prompt.\n",
            "Processing file: 119.jpg\n"
          ]
        },
        {
          "output_type": "stream",
          "name": "stderr",
          "text": [
            "Setting `pad_token_id` to `eos_token_id`:0 for open-end generation.\n"
          ]
        },
        {
          "output_type": "stream",
          "name": "stdout",
          "text": [
            "Written data for 119.jpg to CSV with prompt.\n",
            "Processing file: 204.jpg\n"
          ]
        },
        {
          "output_type": "stream",
          "name": "stderr",
          "text": [
            "Setting `pad_token_id` to `eos_token_id`:0 for open-end generation.\n"
          ]
        },
        {
          "output_type": "stream",
          "name": "stdout",
          "text": [
            "Written data for 204.jpg to CSV with prompt.\n",
            "Processing file: 426.jpg\n"
          ]
        },
        {
          "output_type": "stream",
          "name": "stderr",
          "text": [
            "Setting `pad_token_id` to `eos_token_id`:0 for open-end generation.\n"
          ]
        },
        {
          "output_type": "stream",
          "name": "stdout",
          "text": [
            "Written data for 426.jpg to CSV with prompt.\n",
            "Processing file: 375.jpg\n"
          ]
        },
        {
          "output_type": "stream",
          "name": "stderr",
          "text": [
            "Setting `pad_token_id` to `eos_token_id`:0 for open-end generation.\n"
          ]
        },
        {
          "output_type": "stream",
          "name": "stdout",
          "text": [
            "Written data for 375.jpg to CSV with prompt.\n",
            "Processing file: 98.jpg\n"
          ]
        },
        {
          "output_type": "stream",
          "name": "stderr",
          "text": [
            "Setting `pad_token_id` to `eos_token_id`:0 for open-end generation.\n"
          ]
        },
        {
          "output_type": "stream",
          "name": "stdout",
          "text": [
            "Written data for 98.jpg to CSV with prompt.\n",
            "Processing file: 433.jpg\n"
          ]
        },
        {
          "output_type": "stream",
          "name": "stderr",
          "text": [
            "Setting `pad_token_id` to `eos_token_id`:0 for open-end generation.\n"
          ]
        },
        {
          "output_type": "stream",
          "name": "stdout",
          "text": [
            "Written data for 433.jpg to CSV with prompt.\n",
            "Processing file: 267.jpg\n"
          ]
        },
        {
          "output_type": "stream",
          "name": "stderr",
          "text": [
            "Setting `pad_token_id` to `eos_token_id`:0 for open-end generation.\n"
          ]
        },
        {
          "output_type": "stream",
          "name": "stdout",
          "text": [
            "Written data for 267.jpg to CSV with prompt.\n",
            "Processing file: 233.jpg\n"
          ]
        },
        {
          "output_type": "stream",
          "name": "stderr",
          "text": [
            "Setting `pad_token_id` to `eos_token_id`:0 for open-end generation.\n"
          ]
        },
        {
          "output_type": "stream",
          "name": "stdout",
          "text": [
            "Written data for 233.jpg to CSV with prompt.\n",
            "Processing file: 210.jpg\n"
          ]
        },
        {
          "output_type": "stream",
          "name": "stderr",
          "text": [
            "Setting `pad_token_id` to `eos_token_id`:0 for open-end generation.\n"
          ]
        },
        {
          "output_type": "stream",
          "name": "stdout",
          "text": [
            "Written data for 210.jpg to CSV with prompt.\n",
            "Processing file: 42.jpg\n"
          ]
        },
        {
          "output_type": "stream",
          "name": "stderr",
          "text": [
            "Setting `pad_token_id` to `eos_token_id`:0 for open-end generation.\n"
          ]
        },
        {
          "output_type": "stream",
          "name": "stdout",
          "text": [
            "Written data for 42.jpg to CSV with prompt.\n",
            "Processing file: 15.jpg\n"
          ]
        },
        {
          "output_type": "stream",
          "name": "stderr",
          "text": [
            "Setting `pad_token_id` to `eos_token_id`:0 for open-end generation.\n"
          ]
        },
        {
          "output_type": "stream",
          "name": "stdout",
          "text": [
            "Written data for 15.jpg to CSV with prompt.\n",
            "Processing file: 436.jpg\n"
          ]
        },
        {
          "output_type": "stream",
          "name": "stderr",
          "text": [
            "Setting `pad_token_id` to `eos_token_id`:0 for open-end generation.\n"
          ]
        },
        {
          "output_type": "stream",
          "name": "stdout",
          "text": [
            "Written data for 436.jpg to CSV with prompt.\n",
            "Processing file: 266.jpg\n"
          ]
        },
        {
          "output_type": "stream",
          "name": "stderr",
          "text": [
            "Setting `pad_token_id` to `eos_token_id`:0 for open-end generation.\n"
          ]
        },
        {
          "output_type": "stream",
          "name": "stdout",
          "text": [
            "Written data for 266.jpg to CSV with prompt.\n",
            "Processing file: 322.jpg\n"
          ]
        },
        {
          "output_type": "stream",
          "name": "stderr",
          "text": [
            "Setting `pad_token_id` to `eos_token_id`:0 for open-end generation.\n"
          ]
        },
        {
          "output_type": "stream",
          "name": "stdout",
          "text": [
            "Written data for 322.jpg to CSV with prompt.\n",
            "Processing file: 366.jpg\n"
          ]
        },
        {
          "output_type": "stream",
          "name": "stderr",
          "text": [
            "Setting `pad_token_id` to `eos_token_id`:0 for open-end generation.\n"
          ]
        },
        {
          "output_type": "stream",
          "name": "stdout",
          "text": [
            "Written data for 366.jpg to CSV with prompt.\n",
            "Processing file: 205.jpg\n"
          ]
        },
        {
          "output_type": "stream",
          "name": "stderr",
          "text": [
            "Setting `pad_token_id` to `eos_token_id`:0 for open-end generation.\n"
          ]
        },
        {
          "output_type": "stream",
          "name": "stdout",
          "text": [
            "Written data for 205.jpg to CSV with prompt.\n",
            "Processing file: 413.jpg\n"
          ]
        },
        {
          "output_type": "stream",
          "name": "stderr",
          "text": [
            "Setting `pad_token_id` to `eos_token_id`:0 for open-end generation.\n"
          ]
        },
        {
          "output_type": "stream",
          "name": "stdout",
          "text": [
            "Written data for 413.jpg to CSV with prompt.\n",
            "Processing file: 330.jpg\n"
          ]
        },
        {
          "output_type": "stream",
          "name": "stderr",
          "text": [
            "Setting `pad_token_id` to `eos_token_id`:0 for open-end generation.\n"
          ]
        },
        {
          "output_type": "stream",
          "name": "stdout",
          "text": [
            "Written data for 330.jpg to CSV with prompt.\n",
            "Processing file: 352.jpg\n"
          ]
        },
        {
          "output_type": "stream",
          "name": "stderr",
          "text": [
            "Setting `pad_token_id` to `eos_token_id`:0 for open-end generation.\n"
          ]
        },
        {
          "output_type": "stream",
          "name": "stdout",
          "text": [
            "Written data for 352.jpg to CSV with prompt.\n",
            "Processing file: 282.jpg\n"
          ]
        },
        {
          "output_type": "stream",
          "name": "stderr",
          "text": [
            "Setting `pad_token_id` to `eos_token_id`:0 for open-end generation.\n"
          ]
        },
        {
          "output_type": "stream",
          "name": "stdout",
          "text": [
            "Written data for 282.jpg to CSV with prompt.\n",
            "Processing file: 495.jpg\n"
          ]
        },
        {
          "output_type": "stream",
          "name": "stderr",
          "text": [
            "Setting `pad_token_id` to `eos_token_id`:0 for open-end generation.\n"
          ]
        },
        {
          "output_type": "stream",
          "name": "stdout",
          "text": [
            "Written data for 495.jpg to CSV with prompt.\n",
            "Processing file: 92.jpg\n"
          ]
        },
        {
          "output_type": "stream",
          "name": "stderr",
          "text": [
            "Setting `pad_token_id` to `eos_token_id`:0 for open-end generation.\n"
          ]
        },
        {
          "output_type": "stream",
          "name": "stdout",
          "text": [
            "Written data for 92.jpg to CSV with prompt.\n",
            "Processing file: 444.jpg\n"
          ]
        },
        {
          "output_type": "stream",
          "name": "stderr",
          "text": [
            "Setting `pad_token_id` to `eos_token_id`:0 for open-end generation.\n"
          ]
        },
        {
          "output_type": "stream",
          "name": "stdout",
          "text": [
            "Written data for 444.jpg to CSV with prompt.\n",
            "Processing file: 400.jpg\n"
          ]
        },
        {
          "output_type": "stream",
          "name": "stderr",
          "text": [
            "Setting `pad_token_id` to `eos_token_id`:0 for open-end generation.\n"
          ]
        },
        {
          "output_type": "stream",
          "name": "stdout",
          "text": [
            "Written data for 400.jpg to CSV with prompt.\n",
            "Processing file: 291.jpg\n"
          ]
        },
        {
          "output_type": "stream",
          "name": "stderr",
          "text": [
            "Setting `pad_token_id` to `eos_token_id`:0 for open-end generation.\n"
          ]
        },
        {
          "output_type": "stream",
          "name": "stdout",
          "text": [
            "Written data for 291.jpg to CSV with prompt.\n",
            "Processing file: 107.jpg\n"
          ]
        },
        {
          "output_type": "stream",
          "name": "stderr",
          "text": [
            "Setting `pad_token_id` to `eos_token_id`:0 for open-end generation.\n"
          ]
        },
        {
          "output_type": "stream",
          "name": "stdout",
          "text": [
            "Written data for 107.jpg to CSV with prompt.\n",
            "Processing file: 422.jpg\n"
          ]
        },
        {
          "output_type": "stream",
          "name": "stderr",
          "text": [
            "Setting `pad_token_id` to `eos_token_id`:0 for open-end generation.\n"
          ]
        },
        {
          "output_type": "stream",
          "name": "stdout",
          "text": [
            "Written data for 422.jpg to CSV with prompt.\n",
            "Processing file: 494.jpg\n"
          ]
        },
        {
          "output_type": "stream",
          "name": "stderr",
          "text": [
            "Setting `pad_token_id` to `eos_token_id`:0 for open-end generation.\n"
          ]
        },
        {
          "output_type": "stream",
          "name": "stdout",
          "text": [
            "Written data for 494.jpg to CSV with prompt.\n",
            "Processing file: 96.jpg\n"
          ]
        },
        {
          "output_type": "stream",
          "name": "stderr",
          "text": [
            "Setting `pad_token_id` to `eos_token_id`:0 for open-end generation.\n"
          ]
        },
        {
          "output_type": "stream",
          "name": "stdout",
          "text": [
            "Written data for 96.jpg to CSV with prompt.\n",
            "Processing file: 102.jpg\n"
          ]
        },
        {
          "output_type": "stream",
          "name": "stderr",
          "text": [
            "Setting `pad_token_id` to `eos_token_id`:0 for open-end generation.\n"
          ]
        },
        {
          "output_type": "stream",
          "name": "stdout",
          "text": [
            "Written data for 102.jpg to CSV with prompt.\n",
            "Processing file: 134.jpg\n"
          ]
        },
        {
          "output_type": "stream",
          "name": "stderr",
          "text": [
            "Setting `pad_token_id` to `eos_token_id`:0 for open-end generation.\n"
          ]
        },
        {
          "output_type": "stream",
          "name": "stdout",
          "text": [
            "Written data for 134.jpg to CSV with prompt.\n",
            "Processing file: 6.jpg\n"
          ]
        },
        {
          "output_type": "stream",
          "name": "stderr",
          "text": [
            "Setting `pad_token_id` to `eos_token_id`:0 for open-end generation.\n"
          ]
        },
        {
          "output_type": "stream",
          "name": "stdout",
          "text": [
            "Written data for 6.jpg to CSV with prompt.\n",
            "Processing file: 395.jpg\n"
          ]
        },
        {
          "output_type": "stream",
          "name": "stderr",
          "text": [
            "Setting `pad_token_id` to `eos_token_id`:0 for open-end generation.\n"
          ]
        },
        {
          "output_type": "stream",
          "name": "stdout",
          "text": [
            "Written data for 395.jpg to CSV with prompt.\n",
            "Processing file: 466.jpg\n",
            "Written data for 466.jpg to CSV with prompt.\n"
          ]
        }
      ]
    },
    {
      "cell_type": "code",
      "source": [
        "image_base64_with_prompts = pd.read_csv('/content/drive/My Drive/image_base64_with_prompts.csv')\n",
        "image_base64_with_prompts.head()"
      ],
      "metadata": {
        "id": "BcOFdmRv9T8I",
        "colab": {
          "base_uri": "https://localhost:8080/",
          "height": 206
        },
        "outputId": "c00c8fa3-f892-42f0-d5ce-840873628095"
      },
      "execution_count": null,
      "outputs": [
        {
          "output_type": "execute_result",
          "data": {
            "text/plain": [
              "  Image Name                                             Base64  \\\n",
              "0    498.jpg  /9j/4AAQSkZJRgABAQAAAQABAAD/2wBDAAIBAQEBAQIBAQ...   \n",
              "1    326.jpg  /9j/4AAQSkZJRgABAQAAAQABAAD/2wBDAAIBAQEBAQIBAQ...   \n",
              "2    137.jpg  /9j/4AAQSkZJRgABAQAAAQABAAD/2wBDAAIBAQEBAQIBAQ...   \n",
              "3    383.jpg  /9j/4AAQSkZJRgABAQAAAQABAAD/2wBDAAIBAQEBAQIBAQ...   \n",
              "4      4.jpg  /9j/4AAQSkZJRgABAQAAAQABAAD/2wBDAAIBAQEBAQIBAQ...   \n",
              "\n",
              "                                              Prompt  \n",
              "0  The image is of a young girl, wearing a white ...  \n",
              "1  The image is a photo of a beautiful sunset. It...  \n",
              "2  The image is of a small village in France call...  \n",
              "3  The image is of a man in a suit standing in fr...  \n",
              "4  The image is of a beautiful sunset over the Pa...  "
            ],
            "text/html": [
              "\n",
              "  <div id=\"df-3b707924-b38c-42b8-a08f-998f65ac0db9\" class=\"colab-df-container\">\n",
              "    <div>\n",
              "<style scoped>\n",
              "    .dataframe tbody tr th:only-of-type {\n",
              "        vertical-align: middle;\n",
              "    }\n",
              "\n",
              "    .dataframe tbody tr th {\n",
              "        vertical-align: top;\n",
              "    }\n",
              "\n",
              "    .dataframe thead th {\n",
              "        text-align: right;\n",
              "    }\n",
              "</style>\n",
              "<table border=\"1\" class=\"dataframe\">\n",
              "  <thead>\n",
              "    <tr style=\"text-align: right;\">\n",
              "      <th></th>\n",
              "      <th>Image Name</th>\n",
              "      <th>Base64</th>\n",
              "      <th>Prompt</th>\n",
              "    </tr>\n",
              "  </thead>\n",
              "  <tbody>\n",
              "    <tr>\n",
              "      <th>0</th>\n",
              "      <td>498.jpg</td>\n",
              "      <td>/9j/4AAQSkZJRgABAQAAAQABAAD/2wBDAAIBAQEBAQIBAQ...</td>\n",
              "      <td>The image is of a young girl, wearing a white ...</td>\n",
              "    </tr>\n",
              "    <tr>\n",
              "      <th>1</th>\n",
              "      <td>326.jpg</td>\n",
              "      <td>/9j/4AAQSkZJRgABAQAAAQABAAD/2wBDAAIBAQEBAQIBAQ...</td>\n",
              "      <td>The image is a photo of a beautiful sunset. It...</td>\n",
              "    </tr>\n",
              "    <tr>\n",
              "      <th>2</th>\n",
              "      <td>137.jpg</td>\n",
              "      <td>/9j/4AAQSkZJRgABAQAAAQABAAD/2wBDAAIBAQEBAQIBAQ...</td>\n",
              "      <td>The image is of a small village in France call...</td>\n",
              "    </tr>\n",
              "    <tr>\n",
              "      <th>3</th>\n",
              "      <td>383.jpg</td>\n",
              "      <td>/9j/4AAQSkZJRgABAQAAAQABAAD/2wBDAAIBAQEBAQIBAQ...</td>\n",
              "      <td>The image is of a man in a suit standing in fr...</td>\n",
              "    </tr>\n",
              "    <tr>\n",
              "      <th>4</th>\n",
              "      <td>4.jpg</td>\n",
              "      <td>/9j/4AAQSkZJRgABAQAAAQABAAD/2wBDAAIBAQEBAQIBAQ...</td>\n",
              "      <td>The image is of a beautiful sunset over the Pa...</td>\n",
              "    </tr>\n",
              "  </tbody>\n",
              "</table>\n",
              "</div>\n",
              "    <div class=\"colab-df-buttons\">\n",
              "\n",
              "  <div class=\"colab-df-container\">\n",
              "    <button class=\"colab-df-convert\" onclick=\"convertToInteractive('df-3b707924-b38c-42b8-a08f-998f65ac0db9')\"\n",
              "            title=\"Convert this dataframe to an interactive table.\"\n",
              "            style=\"display:none;\">\n",
              "\n",
              "  <svg xmlns=\"http://www.w3.org/2000/svg\" height=\"24px\" viewBox=\"0 -960 960 960\">\n",
              "    <path d=\"M120-120v-720h720v720H120Zm60-500h600v-160H180v160Zm220 220h160v-160H400v160Zm0 220h160v-160H400v160ZM180-400h160v-160H180v160Zm440 0h160v-160H620v160ZM180-180h160v-160H180v160Zm440 0h160v-160H620v160Z\"/>\n",
              "  </svg>\n",
              "    </button>\n",
              "\n",
              "  <style>\n",
              "    .colab-df-container {\n",
              "      display:flex;\n",
              "      gap: 12px;\n",
              "    }\n",
              "\n",
              "    .colab-df-convert {\n",
              "      background-color: #E8F0FE;\n",
              "      border: none;\n",
              "      border-radius: 50%;\n",
              "      cursor: pointer;\n",
              "      display: none;\n",
              "      fill: #1967D2;\n",
              "      height: 32px;\n",
              "      padding: 0 0 0 0;\n",
              "      width: 32px;\n",
              "    }\n",
              "\n",
              "    .colab-df-convert:hover {\n",
              "      background-color: #E2EBFA;\n",
              "      box-shadow: 0px 1px 2px rgba(60, 64, 67, 0.3), 0px 1px 3px 1px rgba(60, 64, 67, 0.15);\n",
              "      fill: #174EA6;\n",
              "    }\n",
              "\n",
              "    .colab-df-buttons div {\n",
              "      margin-bottom: 4px;\n",
              "    }\n",
              "\n",
              "    [theme=dark] .colab-df-convert {\n",
              "      background-color: #3B4455;\n",
              "      fill: #D2E3FC;\n",
              "    }\n",
              "\n",
              "    [theme=dark] .colab-df-convert:hover {\n",
              "      background-color: #434B5C;\n",
              "      box-shadow: 0px 1px 3px 1px rgba(0, 0, 0, 0.15);\n",
              "      filter: drop-shadow(0px 1px 2px rgba(0, 0, 0, 0.3));\n",
              "      fill: #FFFFFF;\n",
              "    }\n",
              "  </style>\n",
              "\n",
              "    <script>\n",
              "      const buttonEl =\n",
              "        document.querySelector('#df-3b707924-b38c-42b8-a08f-998f65ac0db9 button.colab-df-convert');\n",
              "      buttonEl.style.display =\n",
              "        google.colab.kernel.accessAllowed ? 'block' : 'none';\n",
              "\n",
              "      async function convertToInteractive(key) {\n",
              "        const element = document.querySelector('#df-3b707924-b38c-42b8-a08f-998f65ac0db9');\n",
              "        const dataTable =\n",
              "          await google.colab.kernel.invokeFunction('convertToInteractive',\n",
              "                                                    [key], {});\n",
              "        if (!dataTable) return;\n",
              "\n",
              "        const docLinkHtml = 'Like what you see? Visit the ' +\n",
              "          '<a target=\"_blank\" href=https://colab.research.google.com/notebooks/data_table.ipynb>data table notebook</a>'\n",
              "          + ' to learn more about interactive tables.';\n",
              "        element.innerHTML = '';\n",
              "        dataTable['output_type'] = 'display_data';\n",
              "        await google.colab.output.renderOutput(dataTable, element);\n",
              "        const docLink = document.createElement('div');\n",
              "        docLink.innerHTML = docLinkHtml;\n",
              "        element.appendChild(docLink);\n",
              "      }\n",
              "    </script>\n",
              "  </div>\n",
              "\n",
              "\n",
              "<div id=\"df-a5375811-674b-4230-afaa-8b90e99d0e89\">\n",
              "  <button class=\"colab-df-quickchart\" onclick=\"quickchart('df-a5375811-674b-4230-afaa-8b90e99d0e89')\"\n",
              "            title=\"Suggest charts\"\n",
              "            style=\"display:none;\">\n",
              "\n",
              "<svg xmlns=\"http://www.w3.org/2000/svg\" height=\"24px\"viewBox=\"0 0 24 24\"\n",
              "     width=\"24px\">\n",
              "    <g>\n",
              "        <path d=\"M19 3H5c-1.1 0-2 .9-2 2v14c0 1.1.9 2 2 2h14c1.1 0 2-.9 2-2V5c0-1.1-.9-2-2-2zM9 17H7v-7h2v7zm4 0h-2V7h2v10zm4 0h-2v-4h2v4z\"/>\n",
              "    </g>\n",
              "</svg>\n",
              "  </button>\n",
              "\n",
              "<style>\n",
              "  .colab-df-quickchart {\n",
              "      --bg-color: #E8F0FE;\n",
              "      --fill-color: #1967D2;\n",
              "      --hover-bg-color: #E2EBFA;\n",
              "      --hover-fill-color: #174EA6;\n",
              "      --disabled-fill-color: #AAA;\n",
              "      --disabled-bg-color: #DDD;\n",
              "  }\n",
              "\n",
              "  [theme=dark] .colab-df-quickchart {\n",
              "      --bg-color: #3B4455;\n",
              "      --fill-color: #D2E3FC;\n",
              "      --hover-bg-color: #434B5C;\n",
              "      --hover-fill-color: #FFFFFF;\n",
              "      --disabled-bg-color: #3B4455;\n",
              "      --disabled-fill-color: #666;\n",
              "  }\n",
              "\n",
              "  .colab-df-quickchart {\n",
              "    background-color: var(--bg-color);\n",
              "    border: none;\n",
              "    border-radius: 50%;\n",
              "    cursor: pointer;\n",
              "    display: none;\n",
              "    fill: var(--fill-color);\n",
              "    height: 32px;\n",
              "    padding: 0;\n",
              "    width: 32px;\n",
              "  }\n",
              "\n",
              "  .colab-df-quickchart:hover {\n",
              "    background-color: var(--hover-bg-color);\n",
              "    box-shadow: 0 1px 2px rgba(60, 64, 67, 0.3), 0 1px 3px 1px rgba(60, 64, 67, 0.15);\n",
              "    fill: var(--button-hover-fill-color);\n",
              "  }\n",
              "\n",
              "  .colab-df-quickchart-complete:disabled,\n",
              "  .colab-df-quickchart-complete:disabled:hover {\n",
              "    background-color: var(--disabled-bg-color);\n",
              "    fill: var(--disabled-fill-color);\n",
              "    box-shadow: none;\n",
              "  }\n",
              "\n",
              "  .colab-df-spinner {\n",
              "    border: 2px solid var(--fill-color);\n",
              "    border-color: transparent;\n",
              "    border-bottom-color: var(--fill-color);\n",
              "    animation:\n",
              "      spin 1s steps(1) infinite;\n",
              "  }\n",
              "\n",
              "  @keyframes spin {\n",
              "    0% {\n",
              "      border-color: transparent;\n",
              "      border-bottom-color: var(--fill-color);\n",
              "      border-left-color: var(--fill-color);\n",
              "    }\n",
              "    20% {\n",
              "      border-color: transparent;\n",
              "      border-left-color: var(--fill-color);\n",
              "      border-top-color: var(--fill-color);\n",
              "    }\n",
              "    30% {\n",
              "      border-color: transparent;\n",
              "      border-left-color: var(--fill-color);\n",
              "      border-top-color: var(--fill-color);\n",
              "      border-right-color: var(--fill-color);\n",
              "    }\n",
              "    40% {\n",
              "      border-color: transparent;\n",
              "      border-right-color: var(--fill-color);\n",
              "      border-top-color: var(--fill-color);\n",
              "    }\n",
              "    60% {\n",
              "      border-color: transparent;\n",
              "      border-right-color: var(--fill-color);\n",
              "    }\n",
              "    80% {\n",
              "      border-color: transparent;\n",
              "      border-right-color: var(--fill-color);\n",
              "      border-bottom-color: var(--fill-color);\n",
              "    }\n",
              "    90% {\n",
              "      border-color: transparent;\n",
              "      border-bottom-color: var(--fill-color);\n",
              "    }\n",
              "  }\n",
              "</style>\n",
              "\n",
              "  <script>\n",
              "    async function quickchart(key) {\n",
              "      const quickchartButtonEl =\n",
              "        document.querySelector('#' + key + ' button');\n",
              "      quickchartButtonEl.disabled = true;  // To prevent multiple clicks.\n",
              "      quickchartButtonEl.classList.add('colab-df-spinner');\n",
              "      try {\n",
              "        const charts = await google.colab.kernel.invokeFunction(\n",
              "            'suggestCharts', [key], {});\n",
              "      } catch (error) {\n",
              "        console.error('Error during call to suggestCharts:', error);\n",
              "      }\n",
              "      quickchartButtonEl.classList.remove('colab-df-spinner');\n",
              "      quickchartButtonEl.classList.add('colab-df-quickchart-complete');\n",
              "    }\n",
              "    (() => {\n",
              "      let quickchartButtonEl =\n",
              "        document.querySelector('#df-a5375811-674b-4230-afaa-8b90e99d0e89 button');\n",
              "      quickchartButtonEl.style.display =\n",
              "        google.colab.kernel.accessAllowed ? 'block' : 'none';\n",
              "    })();\n",
              "  </script>\n",
              "</div>\n",
              "\n",
              "    </div>\n",
              "  </div>\n"
            ],
            "application/vnd.google.colaboratory.intrinsic+json": {
              "type": "dataframe",
              "variable_name": "image_base64_with_prompts",
              "summary": "{\n  \"name\": \"image_base64_with_prompts\",\n  \"rows\": 270,\n  \"fields\": [\n    {\n      \"column\": \"Image Name\",\n      \"properties\": {\n        \"dtype\": \"string\",\n        \"num_unique_values\": 270,\n        \"samples\": [\n          \"491.jpg\",\n          \"373.jpg\",\n          \"232.jpg\"\n        ],\n        \"semantic_type\": \"\",\n        \"description\": \"\"\n      }\n    },\n    {\n      \"column\": \"Base64\",\n      \"properties\": {\n        \"dtype\": \"string\",\n        \"num_unique_values\": 270,\n        \"samples\": [\n          \"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\",\n          \"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\",\n          \"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\"\n        ],\n        \"semantic_type\": \"\",\n        \"description\": \"\"\n      }\n    },\n    {\n      \"column\": \"Prompt\",\n      \"properties\": {\n        \"dtype\": \"string\",\n        \"num_unique_values\": 187,\n        \"samples\": [\n          \"The image is of a young woman, 199 pixels by 299 pixels, standing in front of a red background. She is wearing a white top and white pants, and her hair\",\n          \"The image is of a young woman, 460 pixels wide by 300 pixels tall. It is a portrait, with the woman looking directly at the camera. The image is of a\",\n          \"a picture of a cat. It is a beautiful picture of a beautiful cat. It is a picture of a very special cat. It is a picture of\"\n        ],\n        \"semantic_type\": \"\",\n        \"description\": \"\"\n      }\n    }\n  ]\n}"
            }
          },
          "metadata": {},
          "execution_count": 22
        }
      ]
    },
    {
      "cell_type": "code",
      "source": [
        "# Embedding the base64 data into the prompt text using steganographic techniques.\n",
        "def embed_base64_in_prompt(prompt, base64_data):\n",
        "\n",
        "    words = prompt.split()\n",
        "    base64_index = 0\n",
        "    for i in range(len(words)):\n",
        "        # Inserting the base64 data at every 5th word\n",
        "        if i % 5 == 0 and base64_index < len(base64_data):\n",
        "            words[i] += ' ' + base64_data[base64_index]  # Adding base64 data to the word\n",
        "            base64_index += 1\n",
        "    return ' '.join(words)"
      ],
      "metadata": {
        "id": "HhzYVIf2RktP"
      },
      "execution_count": null,
      "outputs": []
    },
    {
      "cell_type": "code",
      "source": [
        "# Processing the CSV file and embedding the base64 data into the prompt text for all rows.\n",
        "def process_csv_and_embed(input_csv_path, output_csv_path):\n",
        "    with open(input_csv_path, mode='r', newline='') as infile, open(output_csv_path, mode='w', newline='') as outfile:\n",
        "        reader = csv.DictReader(infile)\n",
        "        fieldnames = reader.fieldnames + ['Embedded Prompt']\n",
        "        writer = csv.DictWriter(outfile, fieldnames=fieldnames)\n",
        "        writer.writeheader()\n",
        "\n",
        "        for row in reader:\n",
        "            prompt = row['Prompt']\n",
        "            base64_data = row['Base64'].split()  # Splitting base64 data into words\n",
        "            embedded_prompt = embed_base64_in_prompt(prompt, base64_data)\n",
        "            row['Embedded Prompt'] = embedded_prompt\n",
        "            writer.writerow(row)"
      ],
      "metadata": {
        "id": "VDjVX3PZ_b4B"
      },
      "execution_count": null,
      "outputs": []
    },
    {
      "cell_type": "code",
      "source": [
        "# Specifying the input and output CSV file paths\n",
        "input_csv_path = '/content/drive/My Drive/image_base64_with_prompts (2).csv'\n",
        "output_csv_path = '/content/drive/My Drive/all_rows_embedded_prompts.csv'\n",
        "output_csv_path_all_columns = '/content/drive/My Drive/all_columns_all_rows_embedded_prompts.csv'\n",
        "\n",
        "# Processing the CSV file and embedding base64 data into the prompt text for all rows\n",
        "process_csv_and_embed(input_csv_path, output_csv_path)\n",
        "\n",
        "# Process the CSV file, embed base64 data into the prompt text, and keep all columns for all rows\n",
        "process_csv_and_embed(input_csv_path, output_csv_path_all_columns)"
      ],
      "metadata": {
        "id": "kQ4FgY4w_b1t"
      },
      "execution_count": null,
      "outputs": []
    },
    {
      "cell_type": "code",
      "source": [
        "# Embedding the base64 data into the prompt text at intervals, using delimiters\n",
        "def embed_base64_in_prompt(prompt, base64_data):\n",
        "    words = prompt.split()\n",
        "    # Choosing a delimiter that does not appear in normal text\n",
        "    delimiter = \"<DATA>\"\n",
        "    # Embedding the entire Base64 string after a certain number of words\n",
        "    insertion_point = 5  # Change as needed\n",
        "    embedded_prompt = ' '.join(words[:insertion_point]) + ' ' + delimiter + base64_data + delimiter + ' '.join(words[insertion_point:])\n",
        "    return embedded_prompt\n",
        "\n",
        "# Reconstructing the Base64 data from the embedded prompt\n",
        "def reconstruct_base64(embedded_prompt):\n",
        "\n",
        "    # Extracting the data between the delimiters\n",
        "    pattern = re.compile(r\"<DATA>(.*?)<DATA>\")\n",
        "    match = pattern.search(embedded_prompt)\n",
        "    if match:\n",
        "        return match.group(1)\n",
        "    return None\n",
        "\n"
      ],
      "metadata": {
        "id": "IAVCEzKKJiDi"
      },
      "execution_count": null,
      "outputs": []
    },
    {
      "cell_type": "code",
      "source": [
        "# Processing the CSV file to embed and then reconstructing Base64 data.\n",
        "\n",
        "def process_and_reconstruct(input_csv_path, output_csv_path):\n",
        "    with open(input_csv_path, mode='r', newline='') as infile, open(output_csv_path, mode='w', newline='') as outfile:\n",
        "        reader = csv.DictReader(infile)\n",
        "        fieldnames = reader.fieldnames + ['Embedded Prompt', 'Reconstructed Base64']\n",
        "        writer = csv.DictWriter(outfile, fieldnames=fieldnames)\n",
        "        writer.writeheader()\n",
        "\n",
        "        for row in reader:\n",
        "            prompt = row['Prompt']\n",
        "            base64_data = row['Base64']\n",
        "            embedded_prompt = embed_base64_in_prompt(prompt, base64_data)\n",
        "            reconstructed_base64 = reconstruct_base64(embedded_prompt)\n",
        "\n",
        "            row['Embedded Prompt'] = embedded_prompt\n",
        "            row['Reconstructed Base64'] = reconstructed_base64\n",
        "            writer.writerow(row)\n",
        "\n"
      ],
      "metadata": {
        "id": "6ae2KKVLAj-y"
      },
      "execution_count": null,
      "outputs": []
    },
    {
      "cell_type": "code",
      "source": [
        "# File paths\n",
        "input_csv_path = '/content/drive/My Drive/image_base64_with_prompts (2).csv'\n",
        "output_csv_path = '/content/drive/My Drive/processed_prompts_all.csv'\n",
        "\n",
        "# Process and reconstruct Base64\n",
        "process_and_reconstruct(input_csv_path, output_csv_path)"
      ],
      "metadata": {
        "id": "HJQ6u6JYAj8t"
      },
      "execution_count": null,
      "outputs": []
    },
    {
      "cell_type": "code",
      "source": [
        "processed_prompts_all = pd.read_csv('/content/drive/My Drive/processed_prompts_all.csv')\n",
        "processed_prompts_all.head()"
      ],
      "metadata": {
        "colab": {
          "base_uri": "https://localhost:8080/",
          "height": 206
        },
        "id": "HQ7CyAjYCDuA",
        "outputId": "9b74e2ca-ba7a-4954-d574-0300ec1f9a50"
      },
      "execution_count": null,
      "outputs": [
        {
          "output_type": "execute_result",
          "data": {
            "text/plain": [
              "  Image Name                                             Base64  \\\n",
              "0    498.jpg  /9j/4AAQSkZJRgABAQAAAQABAAD/2wBDAAIBAQEBAQIBAQ...   \n",
              "1    326.jpg  /9j/4AAQSkZJRgABAQAAAQABAAD/2wBDAAIBAQEBAQIBAQ...   \n",
              "2    137.jpg  /9j/4AAQSkZJRgABAQAAAQABAAD/2wBDAAIBAQEBAQIBAQ...   \n",
              "3    383.jpg  /9j/4AAQSkZJRgABAQAAAQABAAD/2wBDAAIBAQEBAQIBAQ...   \n",
              "4      4.jpg  /9j/4AAQSkZJRgABAQAAAQABAAD/2wBDAAIBAQEBAQIBAQ...   \n",
              "\n",
              "                                              Prompt  \\\n",
              "0  The image is of a young girl, wearing a white ...   \n",
              "1  The image is a photo of a beautiful sunset. It...   \n",
              "2  The image is of a small village in France call...   \n",
              "3  The image is of a man in a suit standing in fr...   \n",
              "4  The image is of a beautiful sunset over the Pa...   \n",
              "\n",
              "                                     Embedded Prompt  \\\n",
              "0  The image is of a <DATA>/9j/4AAQSkZJRgABAQAAAQ...   \n",
              "1  The image is a photo <DATA>/9j/4AAQSkZJRgABAQA...   \n",
              "2  The image is of a <DATA>/9j/4AAQSkZJRgABAQAAAQ...   \n",
              "3  The image is of a <DATA>/9j/4AAQSkZJRgABAQAAAQ...   \n",
              "4  The image is of a <DATA>/9j/4AAQSkZJRgABAQAAAQ...   \n",
              "\n",
              "                                Reconstructed Base64  \n",
              "0  /9j/4AAQSkZJRgABAQAAAQABAAD/2wBDAAIBAQEBAQIBAQ...  \n",
              "1  /9j/4AAQSkZJRgABAQAAAQABAAD/2wBDAAIBAQEBAQIBAQ...  \n",
              "2  /9j/4AAQSkZJRgABAQAAAQABAAD/2wBDAAIBAQEBAQIBAQ...  \n",
              "3  /9j/4AAQSkZJRgABAQAAAQABAAD/2wBDAAIBAQEBAQIBAQ...  \n",
              "4  /9j/4AAQSkZJRgABAQAAAQABAAD/2wBDAAIBAQEBAQIBAQ...  "
            ],
            "text/html": [
              "\n",
              "  <div id=\"df-aac84108-9361-4d4d-a5e8-399303ebb85f\" class=\"colab-df-container\">\n",
              "    <div>\n",
              "<style scoped>\n",
              "    .dataframe tbody tr th:only-of-type {\n",
              "        vertical-align: middle;\n",
              "    }\n",
              "\n",
              "    .dataframe tbody tr th {\n",
              "        vertical-align: top;\n",
              "    }\n",
              "\n",
              "    .dataframe thead th {\n",
              "        text-align: right;\n",
              "    }\n",
              "</style>\n",
              "<table border=\"1\" class=\"dataframe\">\n",
              "  <thead>\n",
              "    <tr style=\"text-align: right;\">\n",
              "      <th></th>\n",
              "      <th>Image Name</th>\n",
              "      <th>Base64</th>\n",
              "      <th>Prompt</th>\n",
              "      <th>Embedded Prompt</th>\n",
              "      <th>Reconstructed Base64</th>\n",
              "    </tr>\n",
              "  </thead>\n",
              "  <tbody>\n",
              "    <tr>\n",
              "      <th>0</th>\n",
              "      <td>498.jpg</td>\n",
              "      <td>/9j/4AAQSkZJRgABAQAAAQABAAD/2wBDAAIBAQEBAQIBAQ...</td>\n",
              "      <td>The image is of a young girl, wearing a white ...</td>\n",
              "      <td>The image is of a &lt;DATA&gt;/9j/4AAQSkZJRgABAQAAAQ...</td>\n",
              "      <td>/9j/4AAQSkZJRgABAQAAAQABAAD/2wBDAAIBAQEBAQIBAQ...</td>\n",
              "    </tr>\n",
              "    <tr>\n",
              "      <th>1</th>\n",
              "      <td>326.jpg</td>\n",
              "      <td>/9j/4AAQSkZJRgABAQAAAQABAAD/2wBDAAIBAQEBAQIBAQ...</td>\n",
              "      <td>The image is a photo of a beautiful sunset. It...</td>\n",
              "      <td>The image is a photo &lt;DATA&gt;/9j/4AAQSkZJRgABAQA...</td>\n",
              "      <td>/9j/4AAQSkZJRgABAQAAAQABAAD/2wBDAAIBAQEBAQIBAQ...</td>\n",
              "    </tr>\n",
              "    <tr>\n",
              "      <th>2</th>\n",
              "      <td>137.jpg</td>\n",
              "      <td>/9j/4AAQSkZJRgABAQAAAQABAAD/2wBDAAIBAQEBAQIBAQ...</td>\n",
              "      <td>The image is of a small village in France call...</td>\n",
              "      <td>The image is of a &lt;DATA&gt;/9j/4AAQSkZJRgABAQAAAQ...</td>\n",
              "      <td>/9j/4AAQSkZJRgABAQAAAQABAAD/2wBDAAIBAQEBAQIBAQ...</td>\n",
              "    </tr>\n",
              "    <tr>\n",
              "      <th>3</th>\n",
              "      <td>383.jpg</td>\n",
              "      <td>/9j/4AAQSkZJRgABAQAAAQABAAD/2wBDAAIBAQEBAQIBAQ...</td>\n",
              "      <td>The image is of a man in a suit standing in fr...</td>\n",
              "      <td>The image is of a &lt;DATA&gt;/9j/4AAQSkZJRgABAQAAAQ...</td>\n",
              "      <td>/9j/4AAQSkZJRgABAQAAAQABAAD/2wBDAAIBAQEBAQIBAQ...</td>\n",
              "    </tr>\n",
              "    <tr>\n",
              "      <th>4</th>\n",
              "      <td>4.jpg</td>\n",
              "      <td>/9j/4AAQSkZJRgABAQAAAQABAAD/2wBDAAIBAQEBAQIBAQ...</td>\n",
              "      <td>The image is of a beautiful sunset over the Pa...</td>\n",
              "      <td>The image is of a &lt;DATA&gt;/9j/4AAQSkZJRgABAQAAAQ...</td>\n",
              "      <td>/9j/4AAQSkZJRgABAQAAAQABAAD/2wBDAAIBAQEBAQIBAQ...</td>\n",
              "    </tr>\n",
              "  </tbody>\n",
              "</table>\n",
              "</div>\n",
              "    <div class=\"colab-df-buttons\">\n",
              "\n",
              "  <div class=\"colab-df-container\">\n",
              "    <button class=\"colab-df-convert\" onclick=\"convertToInteractive('df-aac84108-9361-4d4d-a5e8-399303ebb85f')\"\n",
              "            title=\"Convert this dataframe to an interactive table.\"\n",
              "            style=\"display:none;\">\n",
              "\n",
              "  <svg xmlns=\"http://www.w3.org/2000/svg\" height=\"24px\" viewBox=\"0 -960 960 960\">\n",
              "    <path d=\"M120-120v-720h720v720H120Zm60-500h600v-160H180v160Zm220 220h160v-160H400v160Zm0 220h160v-160H400v160ZM180-400h160v-160H180v160Zm440 0h160v-160H620v160ZM180-180h160v-160H180v160Zm440 0h160v-160H620v160Z\"/>\n",
              "  </svg>\n",
              "    </button>\n",
              "\n",
              "  <style>\n",
              "    .colab-df-container {\n",
              "      display:flex;\n",
              "      gap: 12px;\n",
              "    }\n",
              "\n",
              "    .colab-df-convert {\n",
              "      background-color: #E8F0FE;\n",
              "      border: none;\n",
              "      border-radius: 50%;\n",
              "      cursor: pointer;\n",
              "      display: none;\n",
              "      fill: #1967D2;\n",
              "      height: 32px;\n",
              "      padding: 0 0 0 0;\n",
              "      width: 32px;\n",
              "    }\n",
              "\n",
              "    .colab-df-convert:hover {\n",
              "      background-color: #E2EBFA;\n",
              "      box-shadow: 0px 1px 2px rgba(60, 64, 67, 0.3), 0px 1px 3px 1px rgba(60, 64, 67, 0.15);\n",
              "      fill: #174EA6;\n",
              "    }\n",
              "\n",
              "    .colab-df-buttons div {\n",
              "      margin-bottom: 4px;\n",
              "    }\n",
              "\n",
              "    [theme=dark] .colab-df-convert {\n",
              "      background-color: #3B4455;\n",
              "      fill: #D2E3FC;\n",
              "    }\n",
              "\n",
              "    [theme=dark] .colab-df-convert:hover {\n",
              "      background-color: #434B5C;\n",
              "      box-shadow: 0px 1px 3px 1px rgba(0, 0, 0, 0.15);\n",
              "      filter: drop-shadow(0px 1px 2px rgba(0, 0, 0, 0.3));\n",
              "      fill: #FFFFFF;\n",
              "    }\n",
              "  </style>\n",
              "\n",
              "    <script>\n",
              "      const buttonEl =\n",
              "        document.querySelector('#df-aac84108-9361-4d4d-a5e8-399303ebb85f button.colab-df-convert');\n",
              "      buttonEl.style.display =\n",
              "        google.colab.kernel.accessAllowed ? 'block' : 'none';\n",
              "\n",
              "      async function convertToInteractive(key) {\n",
              "        const element = document.querySelector('#df-aac84108-9361-4d4d-a5e8-399303ebb85f');\n",
              "        const dataTable =\n",
              "          await google.colab.kernel.invokeFunction('convertToInteractive',\n",
              "                                                    [key], {});\n",
              "        if (!dataTable) return;\n",
              "\n",
              "        const docLinkHtml = 'Like what you see? Visit the ' +\n",
              "          '<a target=\"_blank\" href=https://colab.research.google.com/notebooks/data_table.ipynb>data table notebook</a>'\n",
              "          + ' to learn more about interactive tables.';\n",
              "        element.innerHTML = '';\n",
              "        dataTable['output_type'] = 'display_data';\n",
              "        await google.colab.output.renderOutput(dataTable, element);\n",
              "        const docLink = document.createElement('div');\n",
              "        docLink.innerHTML = docLinkHtml;\n",
              "        element.appendChild(docLink);\n",
              "      }\n",
              "    </script>\n",
              "  </div>\n",
              "\n",
              "\n",
              "<div id=\"df-4d9278b5-f960-4465-a64a-6cfe4766de92\">\n",
              "  <button class=\"colab-df-quickchart\" onclick=\"quickchart('df-4d9278b5-f960-4465-a64a-6cfe4766de92')\"\n",
              "            title=\"Suggest charts\"\n",
              "            style=\"display:none;\">\n",
              "\n",
              "<svg xmlns=\"http://www.w3.org/2000/svg\" height=\"24px\"viewBox=\"0 0 24 24\"\n",
              "     width=\"24px\">\n",
              "    <g>\n",
              "        <path d=\"M19 3H5c-1.1 0-2 .9-2 2v14c0 1.1.9 2 2 2h14c1.1 0 2-.9 2-2V5c0-1.1-.9-2-2-2zM9 17H7v-7h2v7zm4 0h-2V7h2v10zm4 0h-2v-4h2v4z\"/>\n",
              "    </g>\n",
              "</svg>\n",
              "  </button>\n",
              "\n",
              "<style>\n",
              "  .colab-df-quickchart {\n",
              "      --bg-color: #E8F0FE;\n",
              "      --fill-color: #1967D2;\n",
              "      --hover-bg-color: #E2EBFA;\n",
              "      --hover-fill-color: #174EA6;\n",
              "      --disabled-fill-color: #AAA;\n",
              "      --disabled-bg-color: #DDD;\n",
              "  }\n",
              "\n",
              "  [theme=dark] .colab-df-quickchart {\n",
              "      --bg-color: #3B4455;\n",
              "      --fill-color: #D2E3FC;\n",
              "      --hover-bg-color: #434B5C;\n",
              "      --hover-fill-color: #FFFFFF;\n",
              "      --disabled-bg-color: #3B4455;\n",
              "      --disabled-fill-color: #666;\n",
              "  }\n",
              "\n",
              "  .colab-df-quickchart {\n",
              "    background-color: var(--bg-color);\n",
              "    border: none;\n",
              "    border-radius: 50%;\n",
              "    cursor: pointer;\n",
              "    display: none;\n",
              "    fill: var(--fill-color);\n",
              "    height: 32px;\n",
              "    padding: 0;\n",
              "    width: 32px;\n",
              "  }\n",
              "\n",
              "  .colab-df-quickchart:hover {\n",
              "    background-color: var(--hover-bg-color);\n",
              "    box-shadow: 0 1px 2px rgba(60, 64, 67, 0.3), 0 1px 3px 1px rgba(60, 64, 67, 0.15);\n",
              "    fill: var(--button-hover-fill-color);\n",
              "  }\n",
              "\n",
              "  .colab-df-quickchart-complete:disabled,\n",
              "  .colab-df-quickchart-complete:disabled:hover {\n",
              "    background-color: var(--disabled-bg-color);\n",
              "    fill: var(--disabled-fill-color);\n",
              "    box-shadow: none;\n",
              "  }\n",
              "\n",
              "  .colab-df-spinner {\n",
              "    border: 2px solid var(--fill-color);\n",
              "    border-color: transparent;\n",
              "    border-bottom-color: var(--fill-color);\n",
              "    animation:\n",
              "      spin 1s steps(1) infinite;\n",
              "  }\n",
              "\n",
              "  @keyframes spin {\n",
              "    0% {\n",
              "      border-color: transparent;\n",
              "      border-bottom-color: var(--fill-color);\n",
              "      border-left-color: var(--fill-color);\n",
              "    }\n",
              "    20% {\n",
              "      border-color: transparent;\n",
              "      border-left-color: var(--fill-color);\n",
              "      border-top-color: var(--fill-color);\n",
              "    }\n",
              "    30% {\n",
              "      border-color: transparent;\n",
              "      border-left-color: var(--fill-color);\n",
              "      border-top-color: var(--fill-color);\n",
              "      border-right-color: var(--fill-color);\n",
              "    }\n",
              "    40% {\n",
              "      border-color: transparent;\n",
              "      border-right-color: var(--fill-color);\n",
              "      border-top-color: var(--fill-color);\n",
              "    }\n",
              "    60% {\n",
              "      border-color: transparent;\n",
              "      border-right-color: var(--fill-color);\n",
              "    }\n",
              "    80% {\n",
              "      border-color: transparent;\n",
              "      border-right-color: var(--fill-color);\n",
              "      border-bottom-color: var(--fill-color);\n",
              "    }\n",
              "    90% {\n",
              "      border-color: transparent;\n",
              "      border-bottom-color: var(--fill-color);\n",
              "    }\n",
              "  }\n",
              "</style>\n",
              "\n",
              "  <script>\n",
              "    async function quickchart(key) {\n",
              "      const quickchartButtonEl =\n",
              "        document.querySelector('#' + key + ' button');\n",
              "      quickchartButtonEl.disabled = true;  // To prevent multiple clicks.\n",
              "      quickchartButtonEl.classList.add('colab-df-spinner');\n",
              "      try {\n",
              "        const charts = await google.colab.kernel.invokeFunction(\n",
              "            'suggestCharts', [key], {});\n",
              "      } catch (error) {\n",
              "        console.error('Error during call to suggestCharts:', error);\n",
              "      }\n",
              "      quickchartButtonEl.classList.remove('colab-df-spinner');\n",
              "      quickchartButtonEl.classList.add('colab-df-quickchart-complete');\n",
              "    }\n",
              "    (() => {\n",
              "      let quickchartButtonEl =\n",
              "        document.querySelector('#df-4d9278b5-f960-4465-a64a-6cfe4766de92 button');\n",
              "      quickchartButtonEl.style.display =\n",
              "        google.colab.kernel.accessAllowed ? 'block' : 'none';\n",
              "    })();\n",
              "  </script>\n",
              "</div>\n",
              "\n",
              "    </div>\n",
              "  </div>\n"
            ],
            "application/vnd.google.colaboratory.intrinsic+json": {
              "type": "dataframe",
              "variable_name": "processed_prompts_all",
              "summary": "{\n  \"name\": \"processed_prompts_all\",\n  \"rows\": 270,\n  \"fields\": [\n    {\n      \"column\": \"Image Name\",\n      \"properties\": {\n        \"dtype\": \"string\",\n        \"num_unique_values\": 270,\n        \"samples\": [\n          \"491.jpg\",\n          \"373.jpg\",\n          \"232.jpg\"\n        ],\n        \"semantic_type\": \"\",\n        \"description\": \"\"\n      }\n    },\n    {\n      \"column\": \"Base64\",\n      \"properties\": {\n        \"dtype\": \"string\",\n        \"num_unique_values\": 270,\n        \"samples\": [\n          \"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\",\n          \"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\",\n          \"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\"\n        ],\n        \"semantic_type\": \"\",\n        \"description\": \"\"\n      }\n    },\n    {\n      \"column\": \"Prompt\",\n      \"properties\": {\n        \"dtype\": \"string\",\n        \"num_unique_values\": 187,\n        \"samples\": [\n          \"The image is of a young woman, 199 pixels by 299 pixels, standing in front of a red background. She is wearing a white top and white pants, and her hair\",\n          \"The image is of a young woman, 460 pixels wide by 300 pixels tall. It is a portrait, with the woman looking directly at the camera. The image is of a\",\n          \"a picture of a cat. It is a beautiful picture of a beautiful cat. It is a picture of a very special cat. It is a picture of\"\n        ],\n        \"semantic_type\": \"\",\n        \"description\": \"\"\n      }\n    },\n    {\n      \"column\": \"Embedded Prompt\",\n      \"properties\": {\n        \"dtype\": \"string\",\n        \"num_unique_values\": 270,\n        \"samples\": [\n          \"The image is of a <DATA>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<DATA>young girl, 491, standing in front of a red brick wall. The wall is covered in graffiti, some of which reads \\\"I am a\",\n          \"The image is of a <DATA>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<DATA>small village in France called Les Eyzies. The village is famous for its prehistoric art, which can be seen in the churches and on the\",\n          \"The image is a portrait <DATA>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<DATA>of a young woman. She is wearing a white dress with a high neckline and long sleeves. Her hair is pulled back into a bun and she\"\n        ],\n        \"semantic_type\": \"\",\n        \"description\": \"\"\n      }\n    },\n    {\n      \"column\": \"Reconstructed Base64\",\n      \"properties\": {\n        \"dtype\": \"string\",\n        \"num_unique_values\": 270,\n        \"samples\": [\n          \"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\",\n          \"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\",\n          \"/9j/4AAQSkZJRgABAQAAAQABAAD/2wBDAAIBAQEBAQIBAQECAgICAgQDAgICAgUEBAMEBgUGBgYFBgYGBwkIBgcJBwYGCAsICQoKCgoKBggLDAsKDAkKCgr/wAALCACWAJYBAREA/8QAHwAAAQUBAQEBAQEAAAAAAAAAAAECAwQFBgcICQoL/8QAtRAAAgEDAwIEAwUFBAQAAAF9AQIDAAQRBRIhMUEGE1FhByJxFDKBkaEII0KxwRVS0fAkM2JyggkKFhcYGRolJicoKSo0NTY3ODk6Q0RFRkdISUpTVFVWV1hZWmNkZWZnaGlqc3R1dnd4eXqDhIWGh4iJipKTlJWWl5iZmqKjpKWmp6ipqrKztLW2t7i5usLDxMXGx8jJytLT1NXW19jZ2uHi4+Tl5ufo6erx8vP09fb3+Pn6/9oACAEBAAA/AO+/aO/4J1/CvxF+xN8H/wBonwtOth4203wH4PXxzo62Vulp4kt5prOGeaSKOFZJtQ8ueJWk2s0kcaqy7vmbyj/gk7/wUetPgj4Q0j9in9tLUrfUvhVq2haTZ+HPFPiZ1ni8MXWoaPp+oS6XqLSbv+JW02obY5JPmsmVd21dvl/ZX/BNbQPCvgzwj8bvgnaahcQazov7SXxB1BIrph532W4kVY23bv3ir5aq38O7b/s141+2v+yd+z78ZP8AgpF4I8K/Erws2pa5qvgHT4bPTYbpXs4YFuNavmmkttytHHNItz/stM0jfN5jbfq745fsd+JP2nP2W/C/wP8Ahh4yg8EWNx4bmsdO+wxMsWntNp8kcEcKrtVViuFgkXd/C0kf/PFV/JPw7/wUe/ba/YE/aZ0zQNe8Vx2r+BdZ2+KPAetaZa3H75biRb+3trho/Oit5P3ywsskbeW0KyLtVY1+lP8AgrJpPgzw1+z/AKf8Rf2P9O0eX4YP4D1xYoY7aNo9S8P6t4bvLiSz3L96G2kiu76H5m8m/uGk+9Iqtp+CNQ8K/sdePfgn+3D8YPhl4is7D4Z+CbXxHr2seG7WO8kvNF1iNtHjklVtvlSQzXcjTQybtsMMjR/Mu5f2t8JPqT+GrCTUvEFvqs5sIWn1O0gEcV22xd00aK7bVf7yrubbu+81bEe/Z8/WnUV4V/wUj+N2p/s7fsF/Fv4yaCdVXVdH8C3/APY0uixyNdJqE0TW9o0flqzblnljbcoO3bu7V/Pt8L/g94z+L37APw/8Z/FK8mt7Dx9+0FoPhzUVvLyZryPT9P0280+7jmjVfO8yGOOONWZflWSDcy7vmZ/wUe+F3ijwh4G+Avw+1a4jGoaz4X1a/luLezxi3vvFWqax5zR/e3La6lG0n+1G1fRFt8HfAHgr9gT45/tI6npT6J4b0nwlpcOkx6gy+a2oXEemwxWasqr5jQ2v2C1X+JpLqOT5mkkZqX7IGvfDz45/8E+fiJ4Q8W+G9HubWPxH4kguLfxJZxyfu1sfB8k9wrL80f7zbtXdt3Qr/s7fpT9lXW4fHXhHVPD3hjW9LfVNW021nutQ0e/aRNNs7dlhaFvmZY2h8yOGFdu5ppGkZWVbjd0Hin4UyeNdKR9M+JGpWmmpKsdlHZakymBI/MUR+Z8zbcN/2027m+Za8O+N/wC038Zb+P4YXPifxJ4d17wLefGfwrF8PtU8N+HoX06TT7eOGO5hnkk/eWVx5zQxtbyfvIY4/Mj8xWjkr5i+Nf7Pvh2P9nLwB458D/2hrPgPxPe+F9Gm1ye08s3FvHa6HYrHdx7W8iZrOONZPmb5vMXdXtX7GvgzV9E+DF+P2aPE1/J8V/hT8V/F0OqeGVdppLzRYdUvLVWgWaRvtMlvbweXJDGqs1v5W1WaFWqf9vj4/wDxT039pP4Rf8Fpvgz8M7O/+H3h/RNN+Hvjdd7T/wBn30c19dSeY235bO5t9Yjhjulb93JGqtt3Lu+zn/ad8R/ta/8ABLz4n6b+w7Nrlt8WPCvg+xg8P2Pnx2t813JHb3FhdW8jNtaGZW2qzMvzLNG33fm+EPjX8ELb/goV8dNP/bw+K+iWHgzVZNH0VPi/8I/GfhWazvLGaxVYdSkjkaRdvmf66Npo13RtG38Xze6/8FFvgf4+0/8AZa+Po8SCxttA8BeBLrWfgtJp7r/xMPCs3h/7LrHh+SNdvkQ29xd2WoQtub95b2u2PbY7W8C/ZKbwf+1H+zNH+xf8eIfEzw+CX8V22h+IZ9Zuoks9J1LwyrSQxtK3ltHZSeTeSK25YbeaNlX5l3frj/wSB8T+PvE37D/hdPHd1rciaXHHpegW/iiK0XVrPTre3hjht72S0WOGaaP5l8xY42Zdu5d25m+p6KK4P4y+MvGHgDwlqnjHR7jRbLTNJ0m4v9T1bWmmkjtIoI2kkZoovmZdis25fm4+61fjN8aLfxLqn7ZHh39l268X63PD4T+JNrc+Odf8T332/UFj1C91K6ub68uJ/vt/wjkegMvyr5f2Xy1VVVVX5g+JGuP+0N8Wv2cvCsOiXn/E4TxJ9jmvmkeWRdS1j7dbafbSNuaSa00+50233bv3e1V3fMyr63/wW2+M8Oka18Lf+CW/gKeP+z/BEdj4p+K8tjDxc65cQt/Zti3yqzeVbtLdMrbvlurNfvWq7cb/AIJ4aXo91+y940s9Y0uZ7ex8YapLBDH5atNqV1a6H9mb94rKyx/Yt21V3STNBt/1MiyfTP7IvwPf9mnw54pm8Y69a3FnrlmtxLfWaQxM1x5iqsK7fmZY1h8tdy7ZGmm+X5mr2LRpfh54r8L2PifxB8Z7LRrKZPJmm1zUre0jW4j+6m6eWP5m3TFQxDN5ch2/K238e/gj+2X8R/2dra78QfCbwzo2q+E9aTf488AeIzcHTtVtYVj+wW8DRyedYXFrGtvJa6hDI11HcXSyNJJ8zSfR/hzWPhR8Rf2VtUj+AmoeJvF3hTw/qOlz+K/BOrayttr3gFrO4jaCbUooF8u9s4WjXydSgX7Oyw/vPs7fe2/A2gpr/wARtYOhNNbf8Xl+KdxLqFhDHKqrNq+pKnmRyK0ci7Y/uyKyr8v8Veg/8E2/+CgPwy8B6/r37CH7Xfh/Q77wJ8VtNt7+41e4aQJJdXlnDDKt9GzfLb3EcMf76Pa0N0s8zMy3DeT23xvvvAf7Afj/AFvVfC3gi4Twb8IJ9d0N7VddaKWbSm8F/DpZFnaNZPO8xglxI0vzeYqXG7zo1auC8P8A/BbH9n+98c3P7KP7af7P1rqPhq41Obw/4q8ZW7299Z3GmyL9ljvPMkkWZttr5bM21mX5vvfeb1n/AIKcaD8CP2ZP2QvD37M3xK+I2pTaHd+EvGkvhzxDZS/aluLG3s7G3gjn3KyyRyQ6lBuk/wCme1W2yfL5d8E9M/sD4rfsceN/BFhP8UPA3xFs/Gesmx1GWN7yRZPC9rper6HKsjN5sNtDYLJHuaNW8zy/LVbda9w+DP7aH7S/7HHxs+F/wZ0r4e2/xE+HHjb42a14WvfEGmS6jdawLe6ul+zawFWTyZLeONrKSZmjZlX7T5e1Wr9W4ZkniWaP7rLlcipKK+bf+Cn/AIwez/Zc1D4MaHf2ieIvixqNr4I8PQXlzsVptSkW3kkdVZWkijjkdpFX+H73y1+Yv7TH7FXjX9oHx98Z/wBqbw945k8EaVeeINLuL+68Xa1s8vasi3Ok+Zbs0M95JZzw28Kx/LD/AGhJb/NJCzV5jpPxW+GXwp+Lv7NPxn+J1pbSaP8ADe4+KtxpcUT28Q1W60210VYJPLSNY4o59SWeFY4/lkhRZlZVmVV+V9C8DfHX4q/ETWPjR8UNb0e88ZfEDxyupajN/b1vK0l1cSSM0fyt/wAs/lXav3VVf4W+X6s/YG+H/ir4feF/HvgnUvCuj+JDD4q+2T2Ph/xVp95HpM32WFVkv51Zlj3LZXe1VVmVl8zbuWHb49+0D+3N8S/HHxSn8C/DPwX4dttB8M3W7ztWvNQvpGbb9olvGnW4h3KywL/rFk/1cjKyqzRt8q/tNfHzVf2oYbPUPj78R57H4Z6RdNb+CNA0W1mW0muAu2S6ihZmk8tVVo1Z2b7zN8rTSbv2S/a4/wCCRfw6/aV0uX45/BmLwr8OPiHrkX2yy1DwvqTX3hjxR5jLN50jfZ41huJJtrNJGrRyeWvmK27zF/ODxZ8K/wBoD9kH9p6wu9MTX/hL8RvDcK32iarZNg27NGrFY2b9zc2bRrDayQyK1rMscitHtkau+/Y5+Ml5L4+8Z/EQDTdKv4/EGvavr1jounbNMkjuNQ1iZmgtPMb7NGrS+Wsas22Pau5q9j/ZL/ZE+DP/AAUe+PEfxy1mzkfS4Yo9BuNNsb+S1WaS1jh8yZpINrbWW9X5d38O1q+gPDGreD/iR+1J4s/YB/ay+GFzF8LodLvH+Gvimx05UsYfCdxHarLo+pS/6tPLkgt/stxIzNuj+zssisu78xP22v8Agnz+0N+x/wDtCav8JvGXh/VviLomg+IYdNg1zQWVpZtFmt7Oaymmtl/eRt5Ny0fkqscayWcm35W3V+pX/BXj9nf4dfDj/gmD4W+FvhD4mWuneJfAXwo1jUPDNhrTSPHr2j6fp8dvq9nFvaZvti297DfW7M0kitYsqtHbtcSL8/8A/BN/4Yav8Gv2w/gP8K/CumzT6F4w0HWvEnwn1TVNWzZ6JqjeGpv7UjkjVWWSO4VrSOaOPy5P3zfvFaOOm/H34SeF/wBrb9gLwFqXw11TxB4a0+w1bVLVde8PW63mq2cNvqVjDBrEcSzQrcwrZtO1wy3Eflx280n7xtu395PBdl4o0jwlpWkeOfEkGs63a6Zbw6xq1pp32OK+uljVZbhIPMk8hXkDMse9tu7bubburcpGbb2r8c/+CvH/AAVo/ac0b9qPwf8AssfspfDHwzrOs2uqatqOnaj9ml1Rka3jktba6XybiGOORZI7+RWZpFWS1aNo2aNq+WP239V8a/Czwh4Q/Zc8T6rcal4u8Npa+LfFmq2CNFF4d8SeIvGH9oRWa2jM0McdlHLaLH5ar5i6pM3y+d5a8v8A8FUPhvp/hS9+EP7MS22labcfD/Tr611CW8jjsreFdQ0PwpdRabHK27zLi2k8+SSNvmhhvrLc22Za8T+Jmkab8M/Ben2FtAqar4o0a3vdGk0u/WWOx0NVaG51BmVdyzXM0Hkwxtu3R+dJ8u2FpPqP9iX4jfCX9j/4a+MNA1LRLWObxtYaPFYaDo95HPqF1cQya1I0i7V/ihu4I5JJGVVjWNV3fL5fw7+0t8RtJ1H4geM31jU2tvD0d1DbazaaW37z93Gyw6PBNukaSRl3faGjZVjj3R7vmkr5d8beO/EHj7xM+seIXl0+OOFYtNsNOQotrb/wwoUXIRe+fvFt1fqF+x78df8AgoB+whpd/qXwK1rTfEXw6tdUjg1L4N+OGaS1mWSRlk+zTLJ/xLplVW8uSH9237vzI5FXa36HfAf9qD/gnr/wWE8CR/BnX7OTSvEsO1J/AfiyWG08R+G5t3zTaXc/duVX5mVV3LIqrujVW8mvzE+Afw9+Jf7O/wAcPEVl4ntbe18PXGja9ZXWtSRN59vJH9q8y1nVWVVkWbd8rKv8W1ttfc//AAR0+P3w2/Z5+EL6x8TdJ+y+DNQ8f61cXHxIsX/cWdx5OmrI2oWiq32K32xw7biOSRV3bZI1VZJl9M0rxY3x4/ZW/aM0HxbpOkapH4X8c/8ACGxy2ltGyX+htDpd9GrNHujk2tqEturfLujtY2ZmZpJG8zuf2Ev2SfjX8WPCj/GX9tfxpqPxJ0e9h0bS9NvLzT7aeG3W3VbKORo4ftkkkUNtB5czTNIzKrM0jNurzn/gpd4C/bF/aE+D/iD4M/GDxdJ8RvF3w10WO+trrSfDdjaXmmtqGm69puoc221pI5JF0u3ZZJv3zTw/u41hk86hJ8Y9C+OFh+xpr/wd8IyRa54bsviNp2reEpHaBIbjTdDt7WC+2xyMyq0LRzf6Oyq3k+XGytH5le3ReIPBC/DGfTPBeh6ba+FvGGu/GG6sHhhWSfQWhvrW6aR/L22rWsE0bXUittja0mkhVZPm8z7d/wCCR/7RHx++OPwJ8R+E/wBqnxRY6v8AEH4f+NtS0DxDqFhpy2m5obiRVV40kZdy7WXd8u5VXcu5WZvrNVYZ3P8AhVPVNSsdH0y41bUruO2gs4Hmnnmfakaqu5mb/ZWvwh8E/tBfs6/so/sufA34aftM/ATVNb1bxl4a8K6zfyW/+g315ax2cl4uoW3ltuvZo5tRW3ZZvJVpI22/N80nEas2karB41/al1f4XaVeR33x/wDDCXtxYalG7+LL5tZ0/UGjjmWPcscmqNfrJ826GNbSHdItrJJNxP8AwUv1KDwnrfws8SfFvw1Jca1deNPEXiLxzJcOJ18Rate+Gvh9qWoeWYZmZYZpJdsa7o1ht5LeONV8to45/hb8DfHf7ZXwr079tL4yIq+HPDvgLWP+Eja32xya5rEfijXPsOiwfdXy4LHyGbb8scMcMfy+ZHt5b9pj41eX+zX4e+Ff7KPxV03UrfVvC8l/4ysbrQ/s0/hVZLqztVuJtv7maaS6by42VvlWHzPL/d7l+L7r4K+Nr7R7C2vLvR4reFZP7L09ryRY9zfNJJtaPdJI33mZtzf8BqjpHwhm8G6i+veLtRsJfMh8iHZZyNHH827CxiVC33fvFxt27drbty/r5N4RsLjwfLpyXNvKjayv2iSa3VmkVb6aP5fL2q27b8qt/eX71eBfFD9jKzk0XWPiR4n1iO5vNN8Ka1rMU1rFJHLpN9Y2M11HNaXqt5yxs0bbY5l3fwq0a/LXnvw1+KXj+TWPEGleJ/HWk6wjf2pPqOj65qLNqFw0e6SbbK33ZJPvbZN0cm75vJZpJK/QP/gkpoP7L3xn/YO1j4C6VdLDdSeINcn1nRY7+H7Zp9reR2q/v7ZpPMW3by5dvytGy/dbbtr27xZ8J/CX7PP7FXxuTw94P8RXdp4m8W2+t63b6H9huZWupPstvLDYQtcRr5ca2Ufl27SL/Eu7d978vPj78G/hr+0l+2x4+/aH0PXFv7a31HSbe1uNJ0trb94vh3T2ZWZm862uI23fu/8AWRyR7f8AZr3rWPjT+0l8AdH8PfHLwwjTeI/FV14bj8Qap4qv7O2i8caTZ2f9pNdRzt81pqUM32CzuF8mSORZo7iNZJlm+z+d/Ev4nQfCf4lfAn9qHxd8BNcHga4+Fvj3wpF4Z0/UYba/mj26la3MIudv7v7PDqMUi3Swssixxsq/e2+y6RoXgzW/2ItQ1H4aeILfSfD+naP8ZLvw9Y30v2ZrrT76a3+zL5bM0kkP3dNvJN0ckMNxJJ+7VWmX7E/4Iu+FPiLqHxR+MPx8XXLG78IeJtcvNOnfV2a28RrrFjqV5G8l7aKskMfmQssjSfaGZpGZvJhVtq/b0fxp+Ez+KYfBK/EnRv7VuYJJreybUF3TLHO1u2052syzI0bKvzBlPpV/4nfDzw98V/hx4g+FniuKZtK8S6JdaVqi20myVre4haGTa38LbZG+avwI+L/hbxjrfxh0DwvpP7HvhHWZtI8ELoPwm8feNFklvLqZdJjaykaSRVaOOwXcscn2eP7QtvDuXc3mScf8K/Fngvw9+wV8AP2XvDnxA026WH412fjXxL4jto40g1xv+Fh3Gk6XG0TN5kcbW8d3eMzMvlxraKzSLIqr53+1n4Z1T9qL9qfwt4GGt3emW/iT4tTeHrDUtR0Vo4rO1tdG8O6Ot4u3d5/mR6PIscf3m+x/aGWGO8hWvZv2rv2mvhvrXjn4e/8ABOv9jmJtO+FXgHW7Ow8Uaxa3G1tWma+jae3jkX7zNIzTXV1u3STSeSv7uORpvGvgT+z/AKn40+Mn7QXwr8MWsmqpb6TqXhrTtBuJbeBbdW8QQ3Udw0kjRrth8y5/vNJ9oZY/uqrea+If2dfiT4Em+H3h3xdplmL/AMG2U0WseTeqyzNJp8lr+6b+P94yt8235aZqfwyh8XhNL1HVZLOGD53+yQedN5u1W2kFWCrtk7L83ynI6N+oFn+zZ8Vr3QrXWPhr/YPxD0D+1Zrr/hIvh74h/tC0jX7RNNH58ccf2hWVW2yfuWWNlb5m/i8c8bXmsD9mjxtpWy6Y3Xwt16L7DeJGlzGseh3nmeYqs37xmZdy/Lt2/wC1XxV4H8L2d98dPEepa9quoQN9g1i4ezuNNka2uIY7VtyxyRqzbm2/eZY/vL96vcP2V/h7pXi79g3Q/iF4bv7jwd4+tfFGtPpHjTRbr7Hd6PGuoR/u45/veXtaH9380bbpNy/K1fWvwu/ay8Of8NZ+If2afjPfa9dWa69rVvYX2h3rJBrX2VrhvtGpWkce1pPLsLmRbq23fNcN5luu5pF8i/a6+DXxZ8Nftd6j8Y/gP+yXrXxC8K3E1vead4y0281SL7czaLZ/aVk+xXH2OaRZGmhjk+xSeWtizSeZ5bbqf/BSDwbZ/HL9gH4MeIPiL4PvvD9tp9r4o1bSF1h4Z7jTbP7Do8fmXyrH5NpCszWkfmRyMv76P7rSLHWJ+x98OIvipH+yp8FtG+IWj+IvEMel/FW30G18VyXN1YyLJp8lvBDaRrDa3kcMd5Yzt5beZ5f2xZo2kXzI49r9oGLwt4WufG3iXWPiNrun2/ha81y91TwH4nvLe60qz0HxRff8I/qnk7WhWw1K0m1RP3yrJDJHbxr+7km+yt9X/wDBL34/eKf2efid8SPg58U/Bt9L4W8a3f8Awl0/iqBb5Ut4dUaSZZFaCz8yS4m+0xrGqqrMoWRWVa+e7uP4v/8ABQ3wz4o+GWl+OL3R9F8GPq2paHHqo/sTUJGW8jmubyCea1Zr+FbdGmuI7llvI2Zf3MjMzR/od/wTO/ba1XxNpk/7NXxf+JPgXWPEvhy68jStfsvjGviOXxJZqiyTXi3K2qq3lq8f7tm85Vkh85Y2bzJPy98T2PxA0D45eKf2jbCOHxEjeI9Qlt7W+1nVnsZFur66+3xwTw3S27QwyRX9jJthhVmhmjVY2h3N4TNqHiS+/Zz0ubSPAGmy2N94r0Hw/caPJoyxfbLWG4t7OJZrn+GSbzpV3fwyQ7l+WPavb/8ABVXxL4S8J+MPBnwP+DnjuO5HgfxVcS3l3o7eVLY61eafatc+W0aqvywwWyq3ytt+bbtaNV8u8B+Fbn4R/EDQbaYQwwWviGxWKO3+8zLfWu6SSRvm3N83/wASu6voj9k1vEFr/wAFCP2gNMfSob+wuNb8WXSeX8r29xpusaHeR7f7yt+7j2/7W77qtW3+1h8Mtt5LraQ7ZvNb5WdWb/dbb8v/ALLXyz4h+L3wm+G8H9r+NfFtjbNczeVb2+Fkdvl3M3ljk/w/Oem5VrtNc+EOq3Hxz0XXtK8ca54YTX4r6WC88J69dWdpY7o2m+1SLbSLtWHz4pGb5mXbu2systM+G/8AwUC/aE0u3/4Rj9o3SrH4x6HHFdWF/pfiye40/U7qPyWt54/7Usvm3TKrRq1ysy/vI/lWTcq8J4V+N3irxP8AFLV9E0T4V6S+lWfgHVvEv9m3ms3TfZ7OG3kmlt/lkVZPlk/ur5nzNtVq+nP2JfA/iT4/fsOWN54M0248O2WreIdeitdL8N3k3/ElvoZrVluImkmZl8xfvfdVmh27tzbZMv4b+Irm+/4KeP4S8IXeoSXMd/4ktYNHmvbf+zrhof7aVrhpvs7XFpIu2OSOFVk3bo1kZfMkavZv2h/22v2pfgf+2Uv7OXgnxJodtHoNlpOuRaLr1hM8TSXmkyTTt9rtJo/mkk3NtWFfmkk3btu6s/8AbR/ag+Hv7S37PvjfwT8Ttb8I+FNfs9L1CLRNN1bWWe5uPtVvpt1JDHHPb28dy0k2nxeW0cytuVf3cixs1eXeFPhpo3we+O3wi1/4gW+jeBZPCtnqV6tjLYXFtG0dxp/9oW19BdzN5a+ZcXKNtWRv9Wzfu921dX9qjwHZWngv402Ft4/8N6XpXiD4sLF40VfBt1qV3a2clwuteXPZbbdrlYWtJrpplkaOOO1VlZv30kPSaH8af+Ef+G8/hj4QfHrWo9HtrhvCOoyXX2OzsVXS5m3R3N3HfM3lrDAy+Z/q/maTbGqqtey6p41+EH7Ylj8O4L39ojVPh58QvD/jTydD8H6PqsP9q232i6WP7a2ttN5f2VWnn8uSOCSSNZPLjW48lWb77+AX7J37M+reFPBFzqdvD4o1rwa1/f6d/b/725tLm8nkW8kltZlULN5yzQtI0Mb5i/hZWr8VP23NagNzfeG/GfxUs7DwpareJrNm3h7UrvxG19NrF1ebbZm+y2+1vMnul1a2ka3uIVXcy7Y1k81+OGi2f7OP7LV5+y7q/irUv+F0a54ts/EF/wCG7fXIbyDQbPT4ftlks7KzRrdXP2uOaGNZNv7nbJ5cnmR145qGn22n6joegv8A2ld6xqHjxrp/LgknlvPtCtH5zM33pJG2sy/M25m+Vtu6vcvjh4r8E6PqvhZvh3FbeKtevvEcmmxX+9W0PSb63k02SdZpPma/uo/tts3lxK1uvmfNNMyyW8fLeA/hL8S7P9uq78N+KvivqlvrHiDx54o0nV/EHhWyjtLya4hjmbzFZm8vy5pljVl2/djb738PqH7Qfizx5b6ldfCL4P8Axg17x1r9vF9l1K/bWbP+xdHZW2s13qCrtaRdsm63jZpv3beZ5Krurz7wl8HfAXgBXfXp73xx4humaTUr7SPO06B9235llWM3M6rtVV+SGBfm2x7vmr9BviP+z7Pr0epTfEL9jzQ47jQbP7P9s+GfxIutOWaG+j8maSOynt7pvM27o1j+98q7d33a+ate/Yj0bxXql/qvw91jWkvLO4jivbPxJoentIsMnlx203mR3Fi0at5fnMzRt/q5GZY9yxt8z/DP4Q/GP4Z+Ntdvvix8KPEnh7/i0fijQ7XVNY0S4gtry8axkjhtYZZFVZJJGXbHGvzSNG23dtavdf2Jvg18ZvF/7EPgi5+Fl/4Zh1Rtb1pksbzxRDYas1q2oXFvHNBFM0fmR/brCdVZZN0jecqxt5bbsnwP4uv/AAx/wU4j8f8Ag/QNPl1LQvBurRW9v4gSZV/tqPT9Wmv1ufuyN/pUsm77q/Kqr92vZPiR+0n8GfEXjDXf2pvj9oUvgzxr428MtonhLRFg1DULWS40m1WzuVkubS1aGGP/AEu2mZZlhZY7yH7ytHI3lXxk8J/s6fH742fELxVefEm4TRJLXw22naloKNqNnqEfk65NM0clo0i7VhslbzI2/wCWLL/y02tyX7Mv7XuieFbfwFpn7X/gfxTrnhv4f6frmn+ErrUb24neS3vrdbe5hkmVmuI9vmwLHbqskK+d5jNHHGzVL8OfFEHxW1q8LfFLxfe/D7xL4XvNE0TS7zw5cRR6fDa6XdW66tftMsf22Ow0ubUtQZrfd5jWu1mjk+atf46f8Kn8L/GKTxV4c1W+0288RXTaz4h8G6pdN5Fjq0c237RBIy/vI7hmaaHzNqq0kkcnzR7W7bxh8NfgzpXhDStYT4kabpot9e8P2Wr+Hb683XXiSFbxpLu+tPtNjb+ZYrJbSLG1v5zRyQru/d3EczRfCD4z/Fz9mL9o7WvjvoV5qWh/EPT0uLC/eRpLvTdaa3uNs6zSLeSR3Nq0m5vOWZljXy/mXbuXz3wf8O7/AOMGpa/+0b4z+K9jomgaCyvFeXEVnbRWceoaXqEcV8scn7llht7a0jWRvmZVh8uNV27fGv2pPDkWkyTXvhXT7i50XTr+xGr6lb6lHI2pahNo+k3HnWkMk0c0zfZ5IN0MLSSR/ZZJpGhjb93c/aa0eH4mW9jD4d02zsxNLY3628mrRveXkcml2sjNd/dhjkaa5lXy12r+7Zl+Zv3neeMfD2qxfCzwd4I+EvgGz8T+JNL8QX11YeEfDMTNdxw3FvoqtNPAq7rZY2sJJJJLv7PtVlkXzI5I2aTwr+x38VtYm1Hxf+178To7ixbV7jW5/Bmh6iq2azTf6y4v7v5VZflX5lby/l+Vplau6upvB9rHB4MsNcs4ra305VsNN8P2DXi+TGyqtvB5C/Z127Y9ytMu3dG235qx5dQa/guJF8HHTVgvPJl/4SXXo7VPM27ukCszMysrLufhdw219GIfCUNteeFtP8XePJ9KkZYf+Ef8YWtrJG11HeQ3EM0Eml6gzMyzRx+W3mK0ckKtH975vbLPxl+1tc6XBr03x0m0rUPtHnWEEyyavbQr8yqskd60n3o/K+VWZV2tu3ferzP4sfsr+JP2iXtI/iBH4B1/WhdTNb3Wp6XNY3P7zzGaOCZpJlj3NNKzRxqu793uVvJWvJvHfwW/4Y1OqfF7x3pXxO+HWkvtudX1zwLat4q8Nrt+z27LfWkLRyfZ441u7xprlY90k0MKtthjVec+AH7UX7D3jL42aX8dZtK0nRde0tVWXx54TtdSs9Ika4sf3kN/YXNv/rN1zc2/nW/neZJbzN5axtHM3onxG/aA+H/jXVtAun+Cnw1+I3hfw/4qmvLzxl8M5ZLPVfCrX3lrNNc2V75as00dhHH532j5ms1/d/u1rl9c+HHjn4y/FL4u/Ej9nX4O6T8XfD2oeH7G3i0fSfF+l3N1Y2cn2yOTz4/tH2f7Qv8Aq/L+aSNpoZPl/ig06+/ZP+L2h+EPg5e/DLxZ8MPGGg2F1oE/h/xLdLZLDrlvZ2d5fXF7HcrG1puWBpmhkb5lkWP5dy18++DfhXrHiHx14A8C6Vptvrnhe61LWk1Kx0HxHZ6Y2oXE1veQz2rS7Y7qHdH8sfn7o5t3lruVpFXs7rxF8S/H3g2w+LHxO8GaettD40tdBn8aeasv2yO4t/OXdBB9nXy1bcrTQtCrTfKzeczbvXPh9Zxal4xfwn4h1LXJtM1SCP7PfWPwM1TUp9Ujk8vzJvsytDcTL++jZW8y4jj2x+XJ80dVf+FS+CZ9QlfVfjh40svAHh+/uLDSfGVx8Frpo7qzj8trm4aBoV2tb3HmQzMzblkXb5iszV5z+zd4Z+DPxI/bO034cftb/Ei3j+F3hPxHJo11deLNUXSNMutHtbO6W2muZJmjW0kVVVtsn3ftDRqyqqs3t3h39iT9hL42fFCbwvqqaleaVceAY/Gn9tWevL/Z9vIsdvCzNfx7oZLFofP+zxrJ5i/Z5ppI1huI7iTy/wD4KdeBf2VP2W7X4Z+Kvh18Xdc1Lw14qn1zQ9R1Lw7qWl6rBqC6bHpc0FussMf7nb9vuZFkVo22zRr91VZvBPGn/BTa58KfD0zfBz4QX2g+EYfsf9ty6bp1vapNeMtxHHHPdt5n2mRWtpWjWb95tWby1VVbb5Vb/tl/tW/FeJj4J+BGq63Itpsa6n0TUNcf5vmWTYytHG23+JVX5dv935XT2X/BRHx3otvrfjfwx8U/DfhCxMcT+JbrwnfaVpmlxsu1t06wwq0jKqxrD56+ZJJGqt/FVS10T9mHRJDc+KvBkvivUp4k+0av498Qok7Nlt223QlNrfKyyfaJG+8rL/d/TfwDJp+q+PtETTdStb3ydZsZZY7O6jl2r50bfNtb5Vr3Xxx8avg38OZRYeOvido+nyrwlu9z50//AAJIFkZfu/xLXIa3+2b+zPBpdsBr1/rTah5n2ey03SPMlkVW2tI0cjKyqv8AeZf93/Z0/E//AAUt8KfDL4VjxT4a8DeINd8QyXS2fhnSLhWtp9QuP4ofMXc0jLGrSbl3bo1b5tytXzv8V/gB4v8A2jfFV14h0P8AZO0j4LeILqD7fZQ+Hdbs4JfEDSfKnnabIyqs0iyTyLcbY90aszbmkVq4Dxvq/wC2V/wSq+EGp/FD4H6V4x8IX+p68rS3ugeDbe80jUIrP7VGs+salbRzfZtsNzLNDaxyRsq3kjNu2x7fE9Q/4LPftoX/AMXdC/aul0/4dHxUbGLRR4ng8HRpqUljHG0f2VJmZriG32o37u3kX5lZmZmmavS/iL/wVJ/Zz/ak1rTPEX7c/wCy3dap4n0Ww/4R668feBfFV5o95b2vmLJPpscd/NeQ6jH+8kj+zyRtGq3TbvJ8xZF8y/aa8U6d8TZPB/wu/Zk8H/2zD/ak0vhf4WD4f2dxrF4zN5is39lWatqMjblWbbtkX5vl+XzK6nwNq3iHx14VsvAWvfB6/wDFP2HxvJYNpPhmyaz1qG8jh86ezjttt1eNDbxytNJHcxqsaws3mNtbb7v+yr4p+F+kfEXw/wDGr4hTWGmf8IBNH4j8d+GbjwvNc3kNncX1uttcPLJD/ozLNHJGyz+XukaGNvm8vdi/Bp/2btE+JmjePW+K3irxB/YKf2lf+H9M+FGuapo/ifw/Jbx3HnXdos1rJZR+W0kkN15c0Mm2FoZpl3LR+11/wUh0i68U+KNd/wCCb0PwP+DWm3DSJrvjvUPhvq8fiq4jkmba17dSafcR28zNu+8sjNIzbWVq831D/gqJ+3d8GfF/h74c6b/wUtvl8AaFoOm/b7LQ7Dbqv2iaxt7i7uPPvdLZrlpLy4uW85tzNGyt/q2Vaf45/bf/AGC/Gnjyw8QfHL4Na/8AF/xNHcvbyzfHDxx4q1qfS7hTwsiTx28MK+Y21oVj8uP5W2qtdX8Pf+Cvn7IPwy8ZxX3gz9mn9nDR9ZsHkSLWtJ+Fq2N5C27cscF21n5i7dy/Ms237rfxNXYax/wcxeIp5LaGz8IaLcTQW83mzSeIFSNpt37to9zfd2q3y/7W7dXH+L/+C2HjP9pjwXqXhX4kfA3wX4n8P6ksa3ml+JL/AE3U7S4kWTdH5kU8m6PbJHuWT+FlXb96vl39rnW/DvxL1a2tfDXwR8BfDrTrFxH/AGd4N8C2VjI8qpyZbtYnln5ZvlZ9vyq22trwv4wvfiPJB4es/hLpNhd7YYbXUvCEE0WprukjkjktmZpPLvF+7DNuby221i+DP22f2t/HuiHVfAWmeE9I+ziO11LXdM8F6baRzMsf71ZJNRaSxgkaRf8AVxrCrbV2xru2r7L+xx8avHHiv4pXWp/EL9pjxTf2tnPZ6prcPhPVr600y4s4fOk8y5Zfs8MiqsckbKsfytGy7mVfl3fgv+2N8RfEuveAPj/8F7Hw6/iXUNL8R6vrM3ifw7Z3kvheNdea2triO/1WOZWmaFN3mQLCrNHt27lZq5D4p/tB/HHwd8UtIu/CP7cD+IfEt5rd9deJZoLC3a8t5vtCtBG03kt5l1NDuk+83zSKtbE3jH/go5rMPxL+PP7Nvx++LWr+F9AbVNNvNQg1Sa+nk0vTfLa7mkik227W/nTfLbxxs0e64bbtWSRuk/4JMf8ABPfSP28PglffESx8VaElx4J8dx6HDYeINHkeP7DqVrGupapJGvlx+daW8cclusO3dNZr5k25lZcz4war8Df2ZP2gB8LPj8mi+Ntb+G2lx6LYeKPDuuQ6ZdXkMN1DeRrPd6Ysa/aJPNWFfMWSZbdpo5JN3yt6p+x541/Yo8SeBfFvhX4O/sQ6/ftps+qXt1rPxA1uTWNNulj0fUm+z3Mcky2ty3lz3MkkNtB80jRybY1hjaPzmb4pfsyaD8V/E3xX8bfs8fELWNesdW8P6H4P+HfhnVpvDEGi2un6hDJPbx2VpHuto5PIZZlZf3ckzSeX5i/LzXwd+LHjP/gm58QoP2gde+B+ga54p1rW7q40fxZ45kbU76xhjkaO0j3eX/oF1tmkkkmbzJt0O3d826l8d/tDwftNfFy3jbxLb+GPB1nYWfivxrovgu4kX7LNdXkdvPDp8dtGsckMO5bpriPascbSMrSRxsrYPg/4Gfs5/GD9oDw54Ygm8bQWGs/DubVPEetf2lDc6g2qQ6ba/ZpIJ/LaRZra+mghby2bd9n3bm+0Lt+Xvjh4k1JfiVp1nZ+JW1q0gs4XuILSBlN9H937VFA27yfMWNm+Ztse5d1bvwc+Cug/HDWZNKhs9QF/a+A7rXLBbe1jke6Zbi3sYWjVlZfLXzJpNvyrtjX+7XzT4wttTtdWTRtWVluI5Giljk++syyMrbtv+193/Z21saz4ffQdNtZpptjyabC9vcNF95WjXd/9i393bXOPbWuoaYLyYhLmK4VGCqv72Pa3zKv+z5Z/76qXVbqDVfK/suzgtEjTHlyxRsf/AEGvua2+MvxS/Y7+PHh6XX/2c9diudJ1+31SWHUFuLaK40+1uIW8yO7hX5Y/3a/voG3QqysrKy1Xu/gR49+KumXMWieJtQ+Id/qWlR3c+uaz4nV7y3tflkljWS7mWOSGSSWWSNo/vbW+Wlvvgl8OPAvwvg8Q+Pv2hl0S50eK1srjQdFt/wDSbNpLya3aOdo2/fN81zNGu6RfLZlb5o2o/Y9TVLj9sxvCPww+N+oXehziS0l8ZXWlrGDpMccM16vky+ZtjVvNjVmXb8qsy7W217L+1nJ8FfHXgXxl8WP2fPP+D3jn4ZGK/wBU+H3hktZ6J4ijaS+WPXrSJv8AXXFxDNFbtHu/dxxztHuWWRV9e/4IYXXwR+MxP7UX7WviW41LXdO1abwNpvh9PiBqyXPjCa6s9PkVtS01bpbdrG2sbC20+O3jh+z3UbLHNC32GNpP0A/an1H9gb4cfBm2j1/whB8GYNCvrXSfBfjb4WTyadPoN9JtWCGb7BIvmWsjL5bW8m6NlZl27m3L+b6f8ENv2+/+CkfxP+K/7TulzfDnw/4f8SeMNVvdJ1W+vriCW8uPtCs1vbJ5fyxw7Wj+0SKvmLC33Vau3+JP7Iv7dv8AwSM17whoeteDPDWu+Et+vaXoWseFLmNmuNQ1LR76Gy/1kP2i0hjupGumj2tHutV2/wAK15h+wr4+/aH8IftSeNPgnoHxCjv009/P8Qxxyst3qy2sMKyW8rSM32lbe6a5Vd0m3/WNuZWVlj+LWk/tb/H79oq4Fz8UZNe8QeBfGVnFcaha2VjqP2W1t5t1s0dtc2/2W9uFaSGNY5F+aS3VmkjWP5eN/ar/AGh/FPhqy1bw74m/a+sPibNrkGoWjReEtGsdIWLWJIWa7ur2a3W3a78+48m8kWRpI5JvMkkjZdzV4f8ADXwTpfgz4WXPhvVfjZ4RudJ8YWz2839kwLG9jqUbSK00s8kK7rdVkZWjXdHN/d+6sfqviP4SfDv4ueGvHfxZ+LPh7XPD/jAaks0s9vqKy2uuR3ElxcTRx2Nz5008dvG0LNJJMrTSXjL92Ndvk/xO+OGmfsl/HDUp/wBjzxhqCajrHhVbHxpJ448IWLxLJJDDcTLZSbmk8tZIfmZlj3N/yzZa8I8c/AXxHpekwfEjxRr+dZ1dpLueG1tlVbeZoY7hVk27VjbbJuZVXavy7ayvEVzLc/Dvw5q093LNJNYNFtufu/u5JI/3f+ztg27f+mf/AH1wV5Lq+jXstlqVtICYGXa8W1lWTq3+zu/9mrY8GeB/FXibWDp+g6U17cfYvONrZ/O6RhlG5l/h+8v/AH1X3Z+0P+0d8dfAPgb/AIZV+M2m6X4Y8JaxYRz3HhXw3atBbaozR27SNHcxyNcTeZNBG00LTNGsi/d+9u8s+GX9o/tSfDzxBFpmqzx3WgyyQPc+IPLuXs7W88zyrhpnVVVlmjWPzPlk3NH8zbmaun/4KEftkw/H/wCGfwm+B/w9+Cei/DPwd4e0Rtfg8KeF/EElzZtcahDH5U0kH2eGOCZY/P3bd3mfaGZm+7Un7Dmh/s6yeOfhN4n1qyt9X1681fxRpfirQPFXi24s7Ga4t4bG6026iW0kt5IYWW58nbJNJ500Mm793tVfUfin4A+Bv7OGq/G7xNLpEHjbTfij4GvtI8B6XqFw0j+E7po7e6juIrlvO8y4gma9t1bzPMa3kaTcqybZOT/4JKftC/Abwb+1TDpH7WNtFovw/s/D91qXhyy8O6Wsiw63Ja2tit15kiyN50lq1y0kzfL5irtVf9XX6V/Er9pD/gnH4s/Zt8S+D4fh78TH03x1pq6Jata6bY3K28zbmgupZLn5mbzI1ja43bl3bVaPb8v0L/wSp8aeNvAf7DdvZ3/hdtB0Gx168bw1aq25V0mT7Q0d00n+sZmaNm3SNub93u+983z9/wAFE9c8TfHn/go54Y8AX2gw69F/whVjdN4N1jxXdabpFxeWtvqV0t40ttb3Ekc1u0cMi7o5I5GtVWRdrMtfAvxx+EX7RmiftI+PfiH4z8Z/Z7+xsry71S88OS/ZjbwtIs0a+dHHb+ftkaC3X9zG23y2bdt+X0Hwf+zmfib8BviC/i7xB4q1Hxv4s1G3bTdF8HRtHdaPp9rJbrPcTTM0azTTL9tWOFZPLbd+82sysvRfBbwH+zP8DvA0998YrGT4LX0OjXGi+GtX+IEGoLftNGzXEbW17Av+hLN5zbvs7Rqyr++hk+WuZ0h/AOt/Gbxt8Pf2VfjPpviyw1zwZb2d/eWer26Jq1w1wszWsirZ/wCl3lxIqs0knnTTfvJJvM+aRfTP2WP+CRPgvxv+07dfsi/t1eNNfvvD/gvwZFrfhXxPor3dvq/iGzury8t1s4fM8tbSGyulubeaNoJGkkWNlaOGSNa+Af8AgpD+x1pv7Kn7b3xE+AVz4uvvFWj+E5dLltvFutwyWd5cQ3VhYagtvJF5zK00cdytqzfd+XzP3f3V4Lxx4qvdJ8C6n4S+I3jG18R6zqGvSXv2pbqa5a3haONfLk85fm2+Wu1vm+Xb8y7dq73w6+Gnw/8ADP7MfhjUfEXh7StW8Ta/qM2rPJqD/aW03R4b6axS1jiZmjjaS4WaaRtrSMrQ7WVdyyfP/i+C8OsKs8m+e6upjKrNu8lY1+WPc391f/Zv71dT8Dvitpn7PXxO1XxNrmlXc8txppskjsmXK/PGzH5v4f3a1+ld18Rv2bPit8BrP4b+OfAE2sWP9srq/hfSdev7rUL64ulVWaNr/wA5fLh8zd5i26xq3mN8v3WrmvgF+wL47tfhP8XvF2sfCG/0Pw/4m8aafd6j4x8D+H7q70rQvDy6i0k1tDbbriT91vVo4ZI5JNsMatJ95q+Jf2pPhvF8I/jzqvgyy8SLqOgp9im8K+IY9OmhjvvD1xbxyabqCwM0kkPmWfkyNb7maGRZIfvR7a/ZD/gkx/wR+/Z+0z9ha58U/Fbwb4P1T4w/FzwXP4g8E+NvE3hz+0U8JaVdRqulzW1tNuVZmi23jXCqs0bXccf/AC7ru+h/2RP+CbfwX/Zl/ZO8YfAv9tfwXonjnTPFWsWMUumz65NeT281u14q3X22GOFra68u7+W4hbztu7dIv3V/Lf8AaN/4Je61+wZ+1n8ZPAWms9/4aj8F6Tqvwm13VGjuXbR77UGkj8/y9u64ibT5reRv3bMsMjfdmVm7bw/4Z+Jfj39nfUrPWNL8J6X4N1CwbTdN1jVNUk/s9b6aFVZY5rSG3mkaTz5I/s7TLG015uZVaOZrj2j9iL/gpr+zN/wTb+A7/sn/ABs8FfGXxretA2qW/iHR9N0mRY47i4a4toWW7vo9skCsqyRtG0ayQsqs0f3vJ/2s/wBpw/8ABRz9qLwr42/YEtPiR4C8YeCfD/2zUrzxteaXZQNaw3CqtwskNxdST+S12ysrbpGhba3mNuZuj+KniT4x240m5/aQ8W+E/EclxeXkvib+wdLj+WNbi3mgjsora1s1bc0PzSXtxcfu5GVYflXbD/wT9u/FvhKG70eHVJtUfUvEv9r+K1ZvKumWRYbdYdsq3Hk28cas0a7d0m7bJJubdWn+09+xT8d/iJ478R+Hv2k/G+teH/Asvi/VNQ+Ffjyax0/+zrTRVmuobT7fDI1nuuGt4rSNlWaNlkZtys25W+X9O/Zn/b//AGlfiE3gP4YfD2y1b4eeEtMs7a88WfDzwTpcv/CHWclqrO0t7bWMd1c3Xkr9okVf3k3mLu2tIyr9Fan+158Wv2bJdK/Z4+FWpQ+NrGb4UXStPeaXJpU8KzWclxd6gtlbbVsPM3QTRwxqsn7yRWkaSPzF+Rv2YP8Agnn4r/4KHfB/4rfGH4X/ABaj0uHwp8ngzwzrnmXk/ibUlt1kntY287zLby7do/LuJlk8xrqGP7yyMvgGrLdfEDXNN8PeKtI/siG4ljgv7priRlhX7snyrH8sjfMu35vm/vba7vwd4/8Ai5afswXnifwl4PuhbQ+Mr7S9O1CfwkurxNDJI15IsXmLJDAysy+Yyx7vltvLZf3m75+1UX9vDPfaqVeaGXa1nNb7WX7u7cv8O7d93/aqzpnxYl+Hniq48TeCdQe3ubiJreVri2LqsP7tlVS7Mf4f/Ha/oi/bu/4JhP8AHj4jeDPiv8FrbS7U6K1n4ci8N6bYNp9to9nJN/x+RyWzKsccMf8ArI/L+ZVXb83yt9q/BHwd8Of2E/2fbbwj4f8AGn3rxjLq95brB9vm2qu2OJW+WNVXbHHukZd3zNIzM1fmL/wdGfsIeEde+BWh/wDBS3wToFvo3iix1ax8NfEWC3gWGLVbGbctndYX5ftEE22FmX70cy7v9SteQ/8ABGT4tfG/9mKfwbcax8cF/wCESu/hRfa0mk61qNxLZ6fb3GoQyRxxx/MtttWPc3l/eWOT+FdrfVn7W3/BRz4q+Mvhvd638JfiXpNgb7UoX8OabpPhnVotRuJFZd11FczRxxsu1tu1Y5P4v33y7l+V/EeqfFfWvF3jxPEniSGTxG0sy3XjC8uprm8ZVsY4f9JnnkkWRo2h3L8q7Wmm+bbt2s+Auh6tffCjRtZ+EvgX4c6drl9rMN0IvH/h+a/sntbjS1+3R/ZrZY45l+0SWkkP71WjZZ2ZWWS3W1+R/wBrn4tePPG37Tfiyf4x+KND8Vzae66N9s0PTrjT7GT7LGsa+RFFceYv8SszSNub5vm+bbp/sH/Fy1+Ff7UXhjxn4qv47TSri/8A7I1zy7iRks7O8X7PukaSTcywyNDcSfN8ywsvyrX3D8aPgN/wn2r6homsfEjxU9q08cSWNvFZrFarHIrMqr5atIysq/66RtyrtZm+9Xnnxi+MWg/se+EdS8K2fhbTdK1GF4fP1C68G3GmxaxayNG0k1tqX2qSH93Isa+TNH80nzKqqu2vc/2fP2xP2fLz4QSeIv2ufiD4d+IdnrWoyPpenaba65fWNtcahH5kM2qabDb3TXO7yF8u4jspGWRmX5Vmbb538W/GHwCbw9rN5+y5/wAFDNBi8E6/eraT2eha9/wjmo6ffeSrLNd2mj2ti3lw7tqzXFvJ91t1vuby4fAfEFj+xVqWuwfHPQfjZ8T9X8TaT4UW68VzeGby1nsbj7RDHJexrPHDCzKs0rWarujVvJ+0NcM0kkddfe+Pfgb8HPhZdftX/sAeAtQ8I+I/AqSXGteFPEGpXmoaP4v0vzLpnjma5aO6W7j+2T3Uc0bfe3LtZfLaPzzw3rnwS8UWuj3fxbhtdN8Sa5a2epXWpQ2vlM15NarM7R7W/hkk2rH5e3dHJJtXdtrxjxd4h8LeE9P8R+Evgz8SLqbTtUgsX/tLS7ySKKSRbi4/eKv/ACz3eft+ZWZVVtzNXzv8TvEFtdaxLaSaDcwXEmneVqRku2uHW4XcyNvkZmbcq7vmb/d2/drgLSLUrslNLtJ57kDLLHEzfJ/ex2/hr+zCx17wlpqR3L+OZr3dEsTfavmdpGX70ix/Kzbvm+Xaq/d2/wAVfA37dXizx5+07/wU6s/gjpv7XNn8NvhD8MPhVoOs+KtP1qWQxtdTatJJLcLAsa7rqS3giWNppFWP9233m2t8cf8ABUPXPjj+2D8KNU8aeNPE2papqsFxb6TbaLYWsjW2n3FncSN9jSGNvLjj3RyM0nzMzKzMzM1db8AdL8V/BDwn4o8P67b20EGheHPBOgC2mvldTaw6LDNcs8cTLJukk1h9zK3yqu3/AFjba9L8WWt/ovgGNLbxVdanokmkWcul6bqF1DL5c037uaNYJF+1R3XmTxMy+YsfyqyyTMsy180fGzXLzXF1rwrYXki2t9qV1HqTebta4WSRv3bf7P8AC33q7X9mOHxj4RYa3qvjnVv7EhsFs9L8Kx3W3SIZtse66WDav+leXBHD5n8Mfy7fu1z/AO0p+zL8KPiJo+oeMJvhhptnrf8AwjOvausegxNaS6hcWv2Obb5cf+um2yT7fM/ikqp+zR+yN4E+Evh/4a6x8U/D32b4kw3drP4j03XkVmt7yb7dcLHJH93b9njg3L/yz+b7zLtX6qm8RXM2sed+8f8A0jdOzfvX8vduaTb/ABNtVtqsyr8v3v4li8N6T4/8TSS+Ffid4z8K6RoVxuiXVNH8FyanqV4rMv7to7u4t7eNm/vK37tm+WRq8Y/ac+IPhj9ijWvC3xL+G/wZ8J6lpslg2kazY6xrkbXP2iZVX7dbeS1vJHIy+cvmeX5kO5WWSPbtrz/xB/wUf/Z48ZtPc/Gz9i6T4k3t1p9xZx2jeLP7HurUSTSSboXtobi3XazK237NuZlbzGmZmkan4K/aO8P6FOmq/EX4EWPhfSJrOZtU8M29vcXNs1jeSbmt/tLfMs0bSN5nnbVaTzvLaNVjjrnviz8S/gB8DLOw8E+DNVjv9D1vzJVhN622xsZI1ZrdV8tv3m1p4WaRvLZofMVYfOWFdb4F/tCeBfgJ4V+ILeCPBnwK8LeGf7Es73TvH+i6RqmoXUi+dJHb6DqUl7511afaoVb99aQyQrJHHuVlmaaPnV+BXwt+JfjCb9rbWtB1zwv4W8SX9vZ6F4Fm8RzalceJNQaONY5reS5+y3llYt58DLHNC0kyqy28jL80N6x/YCt/iJ8ffEPw4/aN8RS+FfAvgGzmWwMNnDHrmqSL5cMHmL5Pl/6yZvmaGNWXzFj8tmaRfnvQ/BHgr9k/4t+L/C817qWs3jXMaaDe6ZoE100mmfMxkOxvlZmMSyK3zK0K/wB7av8AQ54J8UeKtL+FeoeEdA8W6tNoekpC3h7xZ4gSztotNs/L8vy1aSZZLmNVVfLkbzG/hb7u2vnf4yf8E8fhv8cPGEPxv1v403mmXMelzI3iDR7prS7vNvzeZJPtjkk3KyttXdGrMyx/Ltr5C+Nvg2T4SfCW/wDgh4DudQs08O/EZp/tF9eyPP8AwyQQtu/hWNo/M3fMzbt33mr0f4DyaV4w+Hr6nD4Jmaz1r7c17Yr+88uSOTT49yysytJu8uBdzL5cf2qFfmbc1ZHxo+J3/Co7Xwr8RdHtpDqWqXt9qlvNbyttuLq1ZrXzl8xo2WPdHH5m6NmVfJZY90zLJ5ha+F/7Y1B9VvzHczzXTSztbu0Uc0zbmZlVV+VflZv4vl/vV3+ktptjaR21sIUaGJXT52VdvzKzblX5Vrm/2lG8T3Gk+GdS8HvGk0N/eaTcQq+79zfW/wDy02/dXzLKOFW+b5rj/ara8ZNqWuftzW3iSZ2XTrHS5r+VV2skbQ2cmnqu2T5dzfb9y/e2t8y/d216Na65rGl6uupXN1pcm6/hnW6+0Mv3dvy7drK27+Hy1/iXdGq/M3qfw/8AhX4S+IlxZ3Pif4/WOjp9qt/3Nn4evEXULWbasaq0/wC7jmZvLhZppofmZm3bmXdwP/BVv9lP9nzxnqXw68J+GvE+ky6bZ+HL6bXP7MtNU8Q3l9q3mRwySXMllHbtaNbSR/u4WX/SN0m6H5dtfnr8Qv2XPhp+y7420jW7O88VanNDFHeWvibRbBtN8uRlVo4445mb7TIv8X+rX7q7Wbdt908GfsmTfFbx54Vv/jT8TvGGlWF1eWo174R6xYRpqc2k+TDcQXixwXWmrcWMnnRKzW0kbQ7tzfxLXnupf8ExY7jx8+sal8Y/B9v4Ph026v8ARI7qy1BXs77bHI2izRzL50dxGsvzXDNNbt5LMs0knmR10HhH9hbXP2dfBt18bvH/AIb8N6n8HdS0a1ubqHw/rzaxaatfLJM1t9t0658m42wSeey/Z42+a4Xb50a3Cx8ZY+J/DXxG+Jlv8Y/id+0zqGq+Jvttvf8Ahz+1tLXSN32eTzIlWDU1+ytbxqvytHdNJ/Dt2t8vpfjj4+/AA+AdR+IGtftGQJ8Q9VurjU/EOjyaW0lpfSRySSR/ZrlbiaG4kaH9ytuzKzMzbtqqvl/Kvw2+JN38SfHVy/xL+IOsW0raX9oSTw8LKURs0i/umFw8abRuyu1i33twG6v6Jf2ctBsfidY6z4h1HTLeW2ttNi1ewN2zOzNJmRmki+75ij7rK3LAMa+P/jl/wVR0r45/Eaz8Gfs7+FNY0XTr7xKPCS+LNfEI1CwnW8W1nktrNWmhU7ndlnkmkc/K3lxsDu+SfCdlNqf7I9r4kd4nkfxhHbXtzIjGa6ljhjV7iUszeZNJKTJJIx3SMzM3zV1vw2+OVtJ4ai+Ht14eaO1stOktUuI5t0sVwoubt5lPy7t0cSfe/iG3/ppWB4w0Tw38U72HWYZr4W/h51MH2tsyTWMc8cCRONzL5m+RSzfxrI2fmhVpN6x06HTJETS0WM3ErRqD91W2q27b/n7zUTLFZ3tz4ZneSaWFYZpbiVtzAMzNtUng8yN1X361wHxg+LPw5+D+kaV4z+LEusQeGpdXWBv7A0mO/u7iZf3y2rwy3VrGsPlrLN9oWTzBJDHGI9spmhp/ET9rLwf4W8QWH2n4Z6rd6po9xJJrV5eeIoJbfUi00cm1YFs4zHu2hWLSSLt+7GtffXwT/Y+/aIdNL+NXhjxT4cs9FvbX+2oPD1tq00T6WkySSrDDNNZ3HmeT5nlqzKrSJGp3Rn7vW/ET/gmL+0d4t+J8XjLwp8VfA2i/YoSbfXtG0e407UEQyssszJFuV5vJZ/uyRrIyru27martt/wS/wDB/wAL9Ml+InxJ+L2ueJbLQdPuLrUbezhWyn8uCz2ySQylpGLrHF8iFl3+XGpkj+aSvmz4p+GPHnwp+OtxP8MfHkN/J4Q8ZQan4LbXdLWFobeBfkjuTCzCaRrdtrSbf9ZNKy7dse3m/wBtv4L/ABO/aC8Rah+1l+1ppPgDxpqXw+0G80TXfBkcGpWtvplqBO8P2LUYrhZL8whbieITW1qYpJzHudf3g8e8FeCfAHwi06b4JeJPG3j+aO3tUSfVrTXUuWuJnMMpbyLpWjjXZ5S4X+F5E/hWRvEv2i/im/wyPif4I6t4Y0fVrewm0jW9I8SjS1g1LT8eZIscTbm+WRbmVZFZm2/Ltb5areE/2urT4I/FDW/Afh/4e2sdzBYQ3OpanC7OZJ4ViZnjjnaRYfMkRjJ5Pk+YJ5d38O3yn4peOvBnxc12e98WeEl0rVw0kcd74ZhjtopE3OzmSH7rMYyF/Db/ALVXPh74M8KeMteutD8TWs9zbjT4ZoG3ruV42eJhhlYbeuPb0yQf/9k=\"\n        ],\n        \"semantic_type\": \"\",\n        \"description\": \"\"\n      }\n    }\n  ]\n}"
            }
          },
          "metadata": {},
          "execution_count": 23
        }
      ]
    },
    {
      "cell_type": "code",
      "source": [
        "# Converting a base64 string to an image and saving\n",
        "\n",
        "def base64_to_image(base64_string, image_name, index, save_directory):\n",
        "    image_data = base64.b64decode(base64_string)\n",
        "    image = Image.open(io.BytesIO(image_data))\n",
        "\n",
        "    if index < 5:\n",
        "        # Display the first five images\n",
        "        print(image_name)\n",
        "        display(image)  # Use display() in Jupyter/Colab environments\n",
        "    else:\n",
        "        # Create a directory for the image if it doesn't exist\n",
        "        folder_path = os.path.join(save_directory, image_name)\n",
        "        os.makedirs(folder_path, exist_ok=True)\n",
        "\n",
        "        # Save the image file in its specific folder\n",
        "        image_file_path = os.path.join(folder_path, f\"{image_name}.png\")\n",
        "        image.save(image_file_path)\n",
        "\n",
        "    return image\n"
      ],
      "metadata": {
        "id": "DEQBhJj3Aj6V"
      },
      "execution_count": null,
      "outputs": []
    },
    {
      "cell_type": "code",
      "source": [
        "# Processing images encoded in base64 from a CSV file\n",
        "def process_images_from_csv(csv_file_path, save_directory):\n",
        "    \"\"\".\"\"\"\n",
        "    with open(csv_file_path, newline='') as csvfile:\n",
        "        reader = csv.DictReader(csvfile)\n",
        "        for i, row in enumerate(reader):\n",
        "            image_name = row['Image Name'].replace('.jpg', '').replace('.png', '')  # Remove file extension if present\n",
        "            base64_string = row['Reconstructed Base64']\n",
        "            base64_to_image(base64_string, image_name, i, save_directory)"
      ],
      "metadata": {
        "id": "rtxDm_uuAj37"
      },
      "execution_count": null,
      "outputs": []
    },
    {
      "cell_type": "code",
      "source": [
        "# File and directory paths\n",
        "csv_file_path = '/content/drive/My Drive/processed_prompts_all.csv'\n",
        "save_directory = '/content/drive/My Drive/Reconstructed Images'\n",
        "\n",
        "# Process and handle images from the CSV\n",
        "process_images_from_csv(csv_file_path, save_directory)\n"
      ],
      "metadata": {
        "colab": {
          "base_uri": "https://localhost:8080/",
          "height": 871
        },
        "id": "irWkAYFkxy_G",
        "outputId": "4079028c-b804-4ec4-e9d1-ebc8fbe1b976"
      },
      "execution_count": null,
      "outputs": [
        {
          "output_type": "stream",
          "name": "stdout",
          "text": [
            "Drive already mounted at /content/drive; to attempt to forcibly remount, call drive.mount(\"/content/drive\", force_remount=True).\n",
            "498\n"
          ]
        },
        {
          "output_type": "display_data",
          "data": {
            "text/plain": [
              "<PIL.JpegImagePlugin.JpegImageFile image mode=L size=150x150>"
            ],
            "image/png": "[encoded data removed]"
          },
          "metadata": {}
        },
        {
          "output_type": "stream",
          "name": "stdout",
          "text": [
            "326\n"
          ]
        },
        {
          "output_type": "display_data",
          "data": {
            "text/plain": [
              "<PIL.JpegImagePlugin.JpegImageFile image mode=L size=150x150>"
            ],
            "image/png": "[encoded data removed]"
          },
          "metadata": {}
        },
        {
          "output_type": "stream",
          "name": "stdout",
          "text": [
            "137\n"
          ]
        },
        {
          "output_type": "display_data",
          "data": {
            "text/plain": [
              "<PIL.JpegImagePlugin.JpegImageFile image mode=L size=150x150>"
            ],
            "image/png": "[encoded data removed]"
          },
          "metadata": {}
        },
        {
          "output_type": "stream",
          "name": "stdout",
          "text": [
            "383\n"
          ]
        },
        {
          "output_type": "display_data",
          "data": {
            "text/plain": [
              "<PIL.JpegImagePlugin.JpegImageFile image mode=L size=150x150>"
            ],
            "image/png": "[encoded data removed]"
          },
          "metadata": {}
        },
        {
          "output_type": "stream",
          "name": "stdout",
          "text": [
            "4\n"
          ]
        },
        {
          "output_type": "display_data",
          "data": {
            "text/plain": [
              "<PIL.JpegImagePlugin.JpegImageFile image mode=L size=150x150>"
            ],
            "image/png": "[encoded data removed]"
          },
          "metadata": {}
        }
      ]
    },
    {
      "cell_type": "code",
      "source": [
        "\n",
        "# Zip the contents of the specified folder\n",
        "def zip_directory(folder_path, output_path):\n",
        "    with zipfile.ZipFile(output_path, 'w', zipfile.ZIP_DEFLATED) as zipf:\n",
        "        for root, dirs, files in os.walk(folder_path):\n",
        "            for file in files:\n",
        "                # Create a proper path relative to the folder being zipped\n",
        "                file_path = os.path.join(root, file)\n",
        "                arcname = os.path.relpath(file_path, os.path.dirname(folder_path))\n",
        "                # Add file to the zip file\n",
        "                zipf.write(file_path, arcname=arcname)\n",
        "# Path to the folder you want to zip\n",
        "folder_path = '/content/drive/My Drive/Reconstructed Images'\n",
        "# Path where the zip file will be saved\n",
        "output_path = '/content/drive/My Drive/reconstructed_images.zip'\n",
        "\n",
        "# Zip the folder\n",
        "zip_directory(folder_path, output_path)\n"
      ],
      "metadata": {
        "id": "xqINX4hAxyvt"
      },
      "execution_count": null,
      "outputs": []
    },
    {
      "cell_type": "code",
      "source": [
        "import pandas as pd\n",
        "import matplotlib.pyplot as plt\n",
        "import base64\n",
        "\n",
        "# Read the CSV file\n",
        "df = pd.read_csv('/content/drive/My Drive/processed_prompts_all.csv')\n",
        "\n",
        "# Select only the first 50 data points\n",
        "df = df.head(50)\n",
        "\n",
        "# Calculate the bit size of each text in base64 and the embedded prompt\n",
        "base64_bit_size = df['Base64'].apply(lambda x: len(x) * 8)  # Each character in base64 uses 8 bits\n",
        "embedded_bit_size = df['Embedded Prompt'].apply(lambda x: len(x.encode('utf-8')) * 8)  # Convert to bytes and multiply by 8 to get bits\n",
        "\n",
        "# Plotting\n",
        "plt.figure(figsize=(15, 8))\n",
        "plt.bar(df.index, base64_bit_size, width=0.4, label='Base64')\n",
        "plt.bar(df.index + 0.4, embedded_bit_size, width=0.4, label='Embedded Prompt')\n",
        "plt.title('Comparison of Bit Sizes between Base64 and Embedded Prompt (First 50 Data Points)')\n",
        "plt.xlabel('Image Index')\n",
        "plt.ylabel('Bit Size')\n",
        "plt.xticks(df.index + 0.2, df['Image Name'], rotation=90)\n",
        "plt.legend()\n",
        "plt.tight_layout()\n",
        "\n",
        "# Save the plot as a PDF file\n",
        "plt.savefig('bit_size_comparison.pdf')\n",
        "\n",
        "# Show the plot\n",
        "plt.show()"
      ],
      "metadata": {
        "colab": {
          "base_uri": "https://localhost:8080/",
          "height": 807
        },
        "id": "QD2DZ1bqxyqP",
        "outputId": "502800ac-d933-4632-9b45-63d68aed3006"
      },
      "execution_count": null,
      "outputs": [
        {
          "output_type": "display_data",
          "data": {
            "text/plain": [
              "<Figure size 1500x800 with 1 Axes>"
            ],
            "image/png": "[encoded data removed]"
          },
          "metadata": {}
        }
      ]
    },
    {
      "cell_type": "code",
      "source": [],
      "metadata": {
        "id": "2hcox78Kxykv"
      },
      "execution_count": null,
      "outputs": []
    }
  ]
}